{
 "cells": [
  {
   "cell_type": "code",
   "execution_count": 1,
   "metadata": {},
   "outputs": [
    {
     "data": {
      "text/plain": [
       "'F:\\\\github\\\\narrative_conservatism'"
      ]
     },
     "execution_count": 1,
     "metadata": {},
     "output_type": "execute_result"
    }
   ],
   "source": [
    "import os\n",
    "os.getcwd()"
   ]
  },
  {
   "cell_type": "code",
   "execution_count": 2,
   "metadata": {},
   "outputs": [
    {
     "data": {
      "text/plain": [
       "8"
      ]
     },
     "execution_count": 2,
     "metadata": {},
     "output_type": "execute_result"
    }
   ],
   "source": [
    "1 + 5 * 2 - 3"
   ]
  },
  {
   "cell_type": "code",
   "execution_count": 3,
   "metadata": {},
   "outputs": [
    {
     "data": {
      "text/plain": [
       "32"
      ]
     },
     "execution_count": 3,
     "metadata": {},
     "output_type": "execute_result"
    }
   ],
   "source": [
    "2**5"
   ]
  },
  {
   "cell_type": "code",
   "execution_count": 4,
   "metadata": {},
   "outputs": [
    {
     "data": {
      "text/plain": [
       "10"
      ]
     },
     "execution_count": 4,
     "metadata": {},
     "output_type": "execute_result"
    }
   ],
   "source": [
    "2*5"
   ]
  },
  {
   "cell_type": "code",
   "execution_count": 5,
   "metadata": {},
   "outputs": [
    {
     "data": {
      "text/plain": [
       "2.5"
      ]
     },
     "execution_count": 5,
     "metadata": {},
     "output_type": "execute_result"
    }
   ],
   "source": [
    "5/2"
   ]
  },
  {
   "cell_type": "code",
   "execution_count": 6,
   "metadata": {},
   "outputs": [
    {
     "data": {
      "text/plain": [
       "2"
      ]
     },
     "execution_count": 6,
     "metadata": {},
     "output_type": "execute_result"
    }
   ],
   "source": [
    "5//2"
   ]
  },
  {
   "cell_type": "code",
   "execution_count": 7,
   "metadata": {},
   "outputs": [
    {
     "name": "stdout",
     "output_type": "stream",
     "text": [
      "showing info https://raw.githubusercontent.com/nltk/nltk_data/gh-pages/index.xml\n",
      "showing info https://raw.githubusercontent.com/nltk/nltk_data/gh-pages/index.xml\n"
     ]
    },
    {
     "data": {
      "text/plain": [
       "True"
      ]
     },
     "execution_count": 7,
     "metadata": {},
     "output_type": "execute_result"
    }
   ],
   "source": [
    ">>> import nltk\n",
    ">>> nltk.download()"
   ]
  },
  {
   "cell_type": "code",
   "execution_count": 9,
   "metadata": {},
   "outputs": [],
   "source": [
    "import nltk"
   ]
  },
  {
   "cell_type": "code",
   "execution_count": 10,
   "metadata": {},
   "outputs": [
    {
     "name": "stdout",
     "output_type": "stream",
     "text": [
      "showing info https://raw.githubusercontent.com/nltk/nltk_data/gh-pages/index.xml\n",
      "showing info https://raw.githubusercontent.com/nltk/nltk_data/gh-pages/index.xml\n"
     ]
    },
    {
     "data": {
      "text/plain": [
       "True"
      ]
     },
     "execution_count": 10,
     "metadata": {},
     "output_type": "execute_result"
    }
   ],
   "source": [
    ">>> import nltk\n",
    ">>> nltk.download()"
   ]
  },
  {
   "cell_type": "code",
   "execution_count": 13,
   "metadata": {},
   "outputs": [
    {
     "name": "stdout",
     "output_type": "stream",
     "text": [
      "*** Introductory Examples for the NLTK Book ***\n",
      "Loading text1, ..., text9 and sent1, ..., sent9\n",
      "Type the name of the text or sentence to view it.\n",
      "Type: 'texts()' or 'sents()' to list the materials.\n",
      "text1: Moby Dick by Herman Melville 1851\n",
      "text2: Sense and Sensibility by Jane Austen 1811\n",
      "text3: The Book of Genesis\n",
      "text4: Inaugural Address Corpus\n",
      "text5: Chat Corpus\n",
      "text6: Monty Python and the Holy Grail\n",
      "text7: Wall Street Journal\n",
      "text8: Personals Corpus\n",
      "text9: The Man Who Was Thursday by G . K . Chesterton 1908\n"
     ]
    }
   ],
   "source": [
    "from nltk.book import *"
   ]
  },
  {
   "cell_type": "code",
   "execution_count": 14,
   "metadata": {},
   "outputs": [
    {
     "data": {
      "text/plain": [
       "['Call', 'me', 'Ishmael', '.']"
      ]
     },
     "execution_count": 14,
     "metadata": {},
     "output_type": "execute_result"
    }
   ],
   "source": [
    "sent1"
   ]
  },
  {
   "cell_type": "code",
   "execution_count": 15,
   "metadata": {},
   "outputs": [
    {
     "data": {
      "text/plain": [
       "['The',\n",
       " 'family',\n",
       " 'of',\n",
       " 'Dashwood',\n",
       " 'had',\n",
       " 'long',\n",
       " 'been',\n",
       " 'settled',\n",
       " 'in',\n",
       " 'Sussex',\n",
       " '.']"
      ]
     },
     "execution_count": 15,
     "metadata": {},
     "output_type": "execute_result"
    }
   ],
   "source": [
    "sent2"
   ]
  },
  {
   "cell_type": "code",
   "execution_count": 16,
   "metadata": {},
   "outputs": [
    {
     "data": {
      "text/plain": [
       "<Text: Moby Dick by Herman Melville 1851>"
      ]
     },
     "execution_count": 16,
     "metadata": {},
     "output_type": "execute_result"
    }
   ],
   "source": [
    "text1"
   ]
  },
  {
   "cell_type": "code",
   "execution_count": 17,
   "metadata": {},
   "outputs": [
    {
     "name": "stdout",
     "output_type": "stream",
     "text": [
      "Displaying 11 of 11 matches:\n",
      "ong the former , one was of a most monstrous size . ... This came towards us , \n",
      "ON OF THE PSALMS . \" Touching that monstrous bulk of the whale or ork we have r\n",
      "ll over with a heathenish array of monstrous clubs and spears . Some were thick\n",
      "d as you gazed , and wondered what monstrous cannibal and savage could ever hav\n",
      "that has survived the flood ; most monstrous and most mountainous ! That Himmal\n",
      "they might scout at Moby Dick as a monstrous fable , or still worse and more de\n",
      "th of Radney .'\" CHAPTER 55 Of the Monstrous Pictures of Whales . I shall ere l\n",
      "ing Scenes . In connexion with the monstrous pictures of whales , I am strongly\n",
      "ere to enter upon those still more monstrous stories of them which are to be fo\n",
      "ght have been rummaged out of this monstrous cabinet there is no telling . But \n",
      "of Whale - Bones ; for Whales of a monstrous size are oftentimes cast up dead u\n"
     ]
    }
   ],
   "source": [
    "text1.concordance(\"monstrous\")"
   ]
  },
  {
   "cell_type": "code",
   "execution_count": 18,
   "metadata": {},
   "outputs": [
    {
     "name": "stdout",
     "output_type": "stream",
     "text": [
      "<Text: Moby Dick by Herman Melville 1851>\n"
     ]
    }
   ],
   "source": [
    "print(text1)"
   ]
  },
  {
   "cell_type": "code",
   "execution_count": 19,
   "metadata": {},
   "outputs": [
    {
     "name": "stdout",
     "output_type": "stream",
     "text": [
      "no matches\n"
     ]
    }
   ],
   "source": [
    "text8.concordance(\"stock\")"
   ]
  },
  {
   "cell_type": "code",
   "execution_count": 23,
   "metadata": {},
   "outputs": [
    {
     "name": "stdout",
     "output_type": "stream",
     "text": [
      "Displaying 25 of 38 matches:\n",
      "ay when they were created . And Adam lived an hundred and thirty years , and be\n",
      "ughters : And all the days that Adam lived were nine hundred and thirty yea and\n",
      "nd thirty yea and he died . And Seth lived an hundred and five years , and bega\n",
      "ve years , and begat Enos : And Seth lived after he begat Enos eight hundred an\n",
      "welve years : and he died . And Enos lived ninety years , and begat Cainan : An\n",
      " years , and begat Cainan : And Enos lived after he begat Cainan eight hundred \n",
      "ive years : and he died . And Cainan lived seventy years and begat Mahalaleel :\n",
      "rs and begat Mahalaleel : And Cainan lived after he begat Mahalaleel eight hund\n",
      "years : and he died . And Mahalaleel lived sixty and five years , and begat Jar\n",
      "s , and begat Jared : And Mahalaleel lived after he begat Jared eight hundred a\n",
      "and five yea and he died . And Jared lived an hundred sixty and two years , and\n",
      "o years , and he begat Eno And Jared lived after he begat Enoch eight hundred y\n",
      " and two yea and he died . And Enoch lived sixty and five years , and begat Met\n",
      " ; for God took him . And Methuselah lived an hundred eighty and seven years , \n",
      " , and begat Lamech . And Methuselah lived after he begat Lamech seven hundred \n",
      "nd nine yea and he died . And Lamech lived an hundred eighty and two years , an\n",
      "ch the LORD hath cursed . And Lamech lived after he begat Noah five hundred nin\n",
      "naan shall be his servant . And Noah lived after the flood three hundred and fi\n",
      "xad two years after the flo And Shem lived after he begat Arphaxad five hundred\n",
      "at sons and daughters . And Arphaxad lived five and thirty years , and begat Sa\n",
      "ars , and begat Salah : And Arphaxad lived after he begat Salah four hundred an\n",
      "begat sons and daughters . And Salah lived thirty years , and begat Eber : And \n",
      "y years , and begat Eber : And Salah lived after he begat Eber four hundred and\n",
      " begat sons and daughters . And Eber lived four and thirty years , and begat Pe\n",
      "y years , and begat Peleg : And Eber lived after he begat Peleg four hundred an\n"
     ]
    }
   ],
   "source": [
    "text3.concordance(\"lived\")"
   ]
  },
  {
   "cell_type": "code",
   "execution_count": 24,
   "metadata": {},
   "outputs": [
    {
     "name": "stdout",
     "output_type": "stream",
     "text": [
      "true contemptible christian abundant few part mean careful puzzled\n",
      "mystifying passing curious loving wise doleful gamesome singular\n",
      "delightfully perilous fearless\n"
     ]
    }
   ],
   "source": [
    "text1.similar(\"monstrous\")"
   ]
  },
  {
   "cell_type": "code",
   "execution_count": 25,
   "metadata": {},
   "outputs": [
    {
     "data": {
      "text/plain": [
       "<Text: Moby Dick by Herman Melville 1851>"
      ]
     },
     "execution_count": 25,
     "metadata": {},
     "output_type": "execute_result"
    }
   ],
   "source": [
    "text1"
   ]
  },
  {
   "cell_type": "code",
   "execution_count": 26,
   "metadata": {},
   "outputs": [
    {
     "name": "stdout",
     "output_type": "stream",
     "text": [
      "very so exceedingly heartily a as good great extremely remarkably\n",
      "sweet vast amazingly\n"
     ]
    }
   ],
   "source": [
    "text2.similar(\"monstrous\")"
   ]
  },
  {
   "cell_type": "code",
   "execution_count": 28,
   "metadata": {},
   "outputs": [
    {
     "data": {
      "image/png": "[encoded data removed]",
      "text/plain": [
       "<Figure size 432x288 with 1 Axes>"
      ]
     },
     "metadata": {
      "needs_background": "light"
     },
     "output_type": "display_data"
    }
   ],
   "source": [
    "text4.dispersion_plot([\"citizens\", \"democracy\", \"freedom\", \"duties\", \"America\"])"
   ]
  },
  {
   "cell_type": "code",
   "execution_count": 29,
   "metadata": {},
   "outputs": [
    {
     "data": {
      "text/plain": [
       "<Text: The Book of Genesis>"
      ]
     },
     "execution_count": 29,
     "metadata": {},
     "output_type": "execute_result"
    }
   ],
   "source": [
    "text3"
   ]
  },
  {
   "cell_type": "code",
   "execution_count": 30,
   "metadata": {},
   "outputs": [
    {
     "data": {
      "text/plain": [
       "<Text: Monty Python and the Holy Grail>"
      ]
     },
     "execution_count": 30,
     "metadata": {},
     "output_type": "execute_result"
    }
   ],
   "source": [
    "text6"
   ]
  },
  {
   "cell_type": "code",
   "execution_count": 32,
   "metadata": {},
   "outputs": [
    {
     "name": "stderr",
     "output_type": "stream",
     "text": [
      "Building ngram index...\n"
     ]
    },
    {
     "name": "stdout",
     "output_type": "stream",
     "text": [
      "has *-2 to close at 2645.90 in moderate trading , a large addition or\n",
      "subtraction to a new public spirit for school betterment . *-1 to beat\n",
      "the tests themselves that critics say 0 Columbia 's junk problems\n",
      "*T*-1 . Sea Containers is still : ` * Buy , ' '' he said *T*-2 Mr.\n",
      "Guffey , `` and I 'm afraid 0 I reached *T*-1 . After the first 0 it\n",
      "believes 0 the Big Board 's leadership -- over the next 12 months --\n",
      "vs. a `` reckless course of action '' for President Bush must decide\n",
      "whether\n"
     ]
    },
    {
     "data": {
      "text/plain": [
       "\"has *-2 to close at 2645.90 in moderate trading , a large addition or\\nsubtraction to a new public spirit for school betterment . *-1 to beat\\nthe tests themselves that critics say 0 Columbia 's junk problems\\n*T*-1 . Sea Containers is still : ` * Buy , ' '' he said *T*-2 Mr.\\nGuffey , `` and I 'm afraid 0 I reached *T*-1 . After the first 0 it\\nbelieves 0 the Big Board 's leadership -- over the next 12 months --\\nvs. a `` reckless course of action '' for President Bush must decide\\nwhether\""
      ]
     },
     "execution_count": 32,
     "metadata": {},
     "output_type": "execute_result"
    }
   ],
   "source": [
    "text7.generate()"
   ]
  },
  {
   "cell_type": "code",
   "execution_count": 33,
   "metadata": {},
   "outputs": [
    {
     "name": "stderr",
     "output_type": "stream",
     "text": [
      "Building ngram index...\n"
     ]
    },
    {
     "name": "stdout",
     "output_type": "stream",
     "text": [
      "laid by her , and said unto Cain , Where art thou , and said , Go to ,\n",
      "I will not do it for ten ' s sons ; we dreamed each man according to\n",
      "their generatio the firstborn said unto Laban , Because I said , Nay ,\n",
      "but Sarah shall her name be . , duke Elah , duke Shobal , and Akan .\n",
      "and looked upon my affliction . Bashemath Ishmael ' s blood , but Isra\n",
      "for as a prince hast thou found of all the cattle in the valley , and\n",
      "the wo The\n"
     ]
    },
    {
     "data": {
      "text/plain": [
       "\"laid by her , and said unto Cain , Where art thou , and said , Go to ,\\nI will not do it for ten ' s sons ; we dreamed each man according to\\ntheir generatio the firstborn said unto Laban , Because I said , Nay ,\\nbut Sarah shall her name be . , duke Elah , duke Shobal , and Akan .\\nand looked upon my affliction . Bashemath Ishmael ' s blood , but Isra\\nfor as a prince hast thou found of all the cattle in the valley , and\\nthe wo The\""
      ]
     },
     "execution_count": 33,
     "metadata": {},
     "output_type": "execute_result"
    }
   ],
   "source": [
    "text3.generate()"
   ]
  },
  {
   "cell_type": "code",
   "execution_count": 34,
   "metadata": {},
   "outputs": [
    {
     "data": {
      "text/plain": [
       "\u001b[1;31mSignature:\u001b[0m \u001b[0msorted\u001b[0m\u001b[1;33m(\u001b[0m\u001b[0miterable\u001b[0m\u001b[1;33m,\u001b[0m \u001b[1;33m/\u001b[0m\u001b[1;33m,\u001b[0m \u001b[1;33m*\u001b[0m\u001b[1;33m,\u001b[0m \u001b[0mkey\u001b[0m\u001b[1;33m=\u001b[0m\u001b[1;32mNone\u001b[0m\u001b[1;33m,\u001b[0m \u001b[0mreverse\u001b[0m\u001b[1;33m=\u001b[0m\u001b[1;32mFalse\u001b[0m\u001b[1;33m)\u001b[0m\u001b[1;33m\u001b[0m\u001b[1;33m\u001b[0m\u001b[0m\n",
       "\u001b[1;31mDocstring:\u001b[0m\n",
       "Return a new list containing all items from the iterable in ascending order.\n",
       "\n",
       "A custom key function can be supplied to customize the sort order, and the\n",
       "reverse flag can be set to request the result in descending order.\n",
       "\u001b[1;31mType:\u001b[0m      builtin_function_or_method\n"
      ]
     },
     "metadata": {},
     "output_type": "display_data"
    }
   ],
   "source": [
    "sorted?"
   ]
  },
  {
   "cell_type": "code",
   "execution_count": 35,
   "metadata": {},
   "outputs": [
    {
     "data": {
      "text/plain": [
       "100676"
      ]
     },
     "execution_count": 35,
     "metadata": {},
     "output_type": "execute_result"
    }
   ],
   "source": [
    "len(text7)"
   ]
  },
  {
   "cell_type": "code",
   "execution_count": 36,
   "metadata": {},
   "outputs": [
    {
     "data": {
      "text/plain": [
       "44764"
      ]
     },
     "execution_count": 36,
     "metadata": {},
     "output_type": "execute_result"
    }
   ],
   "source": [
    "len(text3)"
   ]
  },
  {
   "cell_type": "code",
   "execution_count": 39,
   "metadata": {},
   "outputs": [
    {
     "data": {
      "text/plain": [
       "12408"
      ]
     },
     "execution_count": 39,
     "metadata": {},
     "output_type": "execute_result"
    }
   ],
   "source": [
    "len(set(text7))"
   ]
  },
  {
   "cell_type": "code",
   "execution_count": 40,
   "metadata": {},
   "outputs": [
    {
     "data": {
      "text/plain": [
       "2789"
      ]
     },
     "execution_count": 40,
     "metadata": {},
     "output_type": "execute_result"
    }
   ],
   "source": [
    "len(set(text3))"
   ]
  },
  {
   "cell_type": "code",
   "execution_count": 41,
   "metadata": {},
   "outputs": [
    {
     "data": {
      "text/plain": [
       "16.050197203298673"
      ]
     },
     "execution_count": 41,
     "metadata": {},
     "output_type": "execute_result"
    }
   ],
   "source": [
    "len(text3)/len(set(text3))"
   ]
  },
  {
   "cell_type": "code",
   "execution_count": 42,
   "metadata": {},
   "outputs": [
    {
     "data": {
      "text/plain": [
       "40"
      ]
     },
     "execution_count": 42,
     "metadata": {},
     "output_type": "execute_result"
    }
   ],
   "source": [
    "text7.count(\"firm\")"
   ]
  },
  {
   "cell_type": "code",
   "execution_count": 50,
   "metadata": {},
   "outputs": [
    {
     "data": {
      "text/plain": [
       "1.8653899638444118"
      ]
     },
     "execution_count": 50,
     "metadata": {},
     "output_type": "execute_result"
    }
   ],
   "source": [
    "100*text7.count(\"a\")/len(text7)"
   ]
  },
  {
   "cell_type": "code",
   "execution_count": 51,
   "metadata": {},
   "outputs": [],
   "source": [
    "def lex_div(text):\n",
    "    return len(text)/len(set(text))"
   ]
  },
  {
   "cell_type": "code",
   "execution_count": 52,
   "metadata": {},
   "outputs": [
    {
     "data": {
      "text/plain": [
       "16.050197203298673"
      ]
     },
     "execution_count": 52,
     "metadata": {},
     "output_type": "execute_result"
    }
   ],
   "source": [
    "lex_div(text3)"
   ]
  },
  {
   "cell_type": "code",
   "execution_count": 53,
   "metadata": {},
   "outputs": [
    {
     "data": {
      "text/plain": [
       "1.0"
      ]
     },
     "execution_count": 53,
     "metadata": {},
     "output_type": "execute_result"
    }
   ],
   "source": [
    "lex_div(sent1)"
   ]
  },
  {
   "cell_type": "code",
   "execution_count": 54,
   "metadata": {},
   "outputs": [],
   "source": [
    "sent10 = sent1 + sent2"
   ]
  },
  {
   "cell_type": "code",
   "execution_count": 55,
   "metadata": {},
   "outputs": [
    {
     "data": {
      "text/plain": [
       "['Call',\n",
       " 'me',\n",
       " 'Ishmael',\n",
       " '.',\n",
       " 'The',\n",
       " 'family',\n",
       " 'of',\n",
       " 'Dashwood',\n",
       " 'had',\n",
       " 'long',\n",
       " 'been',\n",
       " 'settled',\n",
       " 'in',\n",
       " 'Sussex',\n",
       " '.']"
      ]
     },
     "execution_count": 55,
     "metadata": {},
     "output_type": "execute_result"
    }
   ],
   "source": [
    "sent10"
   ]
  },
  {
   "cell_type": "code",
   "execution_count": 56,
   "metadata": {},
   "outputs": [
    {
     "data": {
      "text/plain": [
       "4299"
      ]
     },
     "execution_count": 56,
     "metadata": {},
     "output_type": "execute_result"
    }
   ],
   "source": [
    "text7.index(\"firm\")"
   ]
  },
  {
   "cell_type": "code",
   "execution_count": 57,
   "metadata": {},
   "outputs": [
    {
     "data": {
      "text/plain": [
       "<bound method Text.readability of <Text: Wall Street Journal>>"
      ]
     },
     "execution_count": 57,
     "metadata": {},
     "output_type": "execute_result"
    }
   ],
   "source": [
    "text7.readability"
   ]
  },
  {
   "cell_type": "code",
   "execution_count": 58,
   "metadata": {},
   "outputs": [
    {
     "ename": "AttributeError",
     "evalue": "'Text' object has no attribute 'indexes'",
     "output_type": "error",
     "traceback": [
      "\u001b[1;31m---------------------------------------------------------------------------\u001b[0m",
      "\u001b[1;31mAttributeError\u001b[0m                            Traceback (most recent call last)",
      "\u001b[1;32m<ipython-input-58-44ec091f0b2b>\u001b[0m in \u001b[0;36m<module>\u001b[1;34m\u001b[0m\n\u001b[1;32m----> 1\u001b[1;33m \u001b[0mtext7\u001b[0m\u001b[1;33m.\u001b[0m\u001b[0mindexes\u001b[0m\u001b[1;33m(\u001b[0m\u001b[1;34m\"firm\"\u001b[0m\u001b[1;33m)\u001b[0m\u001b[1;33m\u001b[0m\u001b[1;33m\u001b[0m\u001b[0m\n\u001b[0m",
      "\u001b[1;31mAttributeError\u001b[0m: 'Text' object has no attribute 'indexes'"
     ]
    }
   ],
   "source": [
    "text7.indexes(\"firm\")"
   ]
  },
  {
   "cell_type": "code",
   "execution_count": 59,
   "metadata": {},
   "outputs": [
    {
     "data": {
      "text/plain": [
       "['Call',\n",
       " 'me',\n",
       " 'Ishmael',\n",
       " '.',\n",
       " 'The',\n",
       " 'family',\n",
       " 'of',\n",
       " 'Dashwood',\n",
       " 'had',\n",
       " 'long',\n",
       " 'been',\n",
       " 'settled',\n",
       " 'in',\n",
       " 'Sussex',\n",
       " '.']"
      ]
     },
     "execution_count": 59,
     "metadata": {},
     "output_type": "execute_result"
    }
   ],
   "source": [
    "sent10"
   ]
  },
  {
   "cell_type": "code",
   "execution_count": 61,
   "metadata": {},
   "outputs": [
    {
     "data": {
      "text/plain": [
       "['Call', 'me', 'Ishmael', '.', 'The']"
      ]
     },
     "execution_count": 61,
     "metadata": {},
     "output_type": "execute_result"
    }
   ],
   "source": [
    "sent10[:5]"
   ]
  },
  {
   "cell_type": "code",
   "execution_count": 62,
   "metadata": {},
   "outputs": [
    {
     "data": {
      "text/plain": [
       "15"
      ]
     },
     "execution_count": 62,
     "metadata": {},
     "output_type": "execute_result"
    }
   ],
   "source": [
    "len(sent10)"
   ]
  },
  {
   "cell_type": "code",
   "execution_count": 64,
   "metadata": {},
   "outputs": [
    {
     "data": {
      "text/plain": [
       "['The']"
      ]
     },
     "execution_count": 64,
     "metadata": {},
     "output_type": "execute_result"
    }
   ],
   "source": [
    "sent10[4:5]"
   ]
  },
  {
   "cell_type": "code",
   "execution_count": 66,
   "metadata": {},
   "outputs": [
    {
     "data": {
      "text/plain": [
       "['.', 'The']"
      ]
     },
     "execution_count": 66,
     "metadata": {},
     "output_type": "execute_result"
    }
   ],
   "source": [
    "sent10[3:5]"
   ]
  },
  {
   "cell_type": "code",
   "execution_count": 67,
   "metadata": {},
   "outputs": [],
   "source": [
    "sent10[3:5] = \"ai\""
   ]
  },
  {
   "cell_type": "code",
   "execution_count": 68,
   "metadata": {},
   "outputs": [
    {
     "data": {
      "text/plain": [
       "15"
      ]
     },
     "execution_count": 68,
     "metadata": {},
     "output_type": "execute_result"
    }
   ],
   "source": [
    "len(sent10)"
   ]
  },
  {
   "cell_type": "code",
   "execution_count": 69,
   "metadata": {},
   "outputs": [
    {
     "data": {
      "text/plain": [
       "['Call',\n",
       " 'me',\n",
       " 'Ishmael',\n",
       " 'a',\n",
       " 'i',\n",
       " 'family',\n",
       " 'of',\n",
       " 'Dashwood',\n",
       " 'had',\n",
       " 'long',\n",
       " 'been',\n",
       " 'settled',\n",
       " 'in',\n",
       " 'Sussex',\n",
       " '.']"
      ]
     },
     "execution_count": 69,
     "metadata": {},
     "output_type": "execute_result"
    }
   ],
   "source": [
    "sent10"
   ]
  },
  {
   "cell_type": "code",
   "execution_count": 70,
   "metadata": {},
   "outputs": [],
   "source": [
    "sent10[3:5] = [\"ai\"]"
   ]
  },
  {
   "cell_type": "code",
   "execution_count": 71,
   "metadata": {},
   "outputs": [
    {
     "data": {
      "text/plain": [
       "14"
      ]
     },
     "execution_count": 71,
     "metadata": {},
     "output_type": "execute_result"
    }
   ],
   "source": [
    "len(sent10)"
   ]
  },
  {
   "cell_type": "code",
   "execution_count": 72,
   "metadata": {},
   "outputs": [
    {
     "data": {
      "text/plain": [
       "['Call',\n",
       " 'me',\n",
       " 'Ishmael',\n",
       " 'ai',\n",
       " 'family',\n",
       " 'of',\n",
       " 'Dashwood',\n",
       " 'had',\n",
       " 'long',\n",
       " 'been',\n",
       " 'settled',\n",
       " 'in',\n",
       " 'Sussex',\n",
       " '.']"
      ]
     },
     "execution_count": 72,
     "metadata": {},
     "output_type": "execute_result"
    }
   ],
   "source": [
    "sent10"
   ]
  },
  {
   "cell_type": "code",
   "execution_count": 73,
   "metadata": {},
   "outputs": [
    {
     "ename": "IndexError",
     "evalue": "list index out of range",
     "output_type": "error",
     "traceback": [
      "\u001b[1;31m---------------------------------------------------------------------------\u001b[0m",
      "\u001b[1;31mIndexError\u001b[0m                                Traceback (most recent call last)",
      "\u001b[1;32m<ipython-input-73-8cba432a9dd3>\u001b[0m in \u001b[0;36m<module>\u001b[1;34m\u001b[0m\n\u001b[1;32m----> 1\u001b[1;33m \u001b[0msent10\u001b[0m\u001b[1;33m[\u001b[0m\u001b[1;36m15\u001b[0m\u001b[1;33m]\u001b[0m\u001b[1;33m\u001b[0m\u001b[1;33m\u001b[0m\u001b[0m\n\u001b[0m",
      "\u001b[1;31mIndexError\u001b[0m: list index out of range"
     ]
    }
   ],
   "source": [
    "sent10[15]"
   ]
  },
  {
   "cell_type": "code",
   "execution_count": 74,
   "metadata": {},
   "outputs": [
    {
     "ename": "IndexError",
     "evalue": "list index out of range",
     "output_type": "error",
     "traceback": [
      "\u001b[1;31m---------------------------------------------------------------------------\u001b[0m",
      "\u001b[1;31mIndexError\u001b[0m                                Traceback (most recent call last)",
      "\u001b[1;32m<ipython-input-74-744f731b9d3a>\u001b[0m in \u001b[0;36m<module>\u001b[1;34m\u001b[0m\n\u001b[1;32m----> 1\u001b[1;33m \u001b[0msent10\u001b[0m\u001b[1;33m[\u001b[0m\u001b[1;36m14\u001b[0m\u001b[1;33m]\u001b[0m\u001b[1;33m\u001b[0m\u001b[1;33m\u001b[0m\u001b[0m\n\u001b[0m",
      "\u001b[1;31mIndexError\u001b[0m: list index out of range"
     ]
    }
   ],
   "source": [
    "sent10[14]"
   ]
  },
  {
   "cell_type": "code",
   "execution_count": 75,
   "metadata": {},
   "outputs": [
    {
     "data": {
      "text/plain": [
       "'.'"
      ]
     },
     "execution_count": 75,
     "metadata": {},
     "output_type": "execute_result"
    }
   ],
   "source": [
    "sent10[13]"
   ]
  },
  {
   "cell_type": "code",
   "execution_count": 81,
   "metadata": {},
   "outputs": [
    {
     "data": {
      "text/plain": [
       "'monty python'"
      ]
     },
     "execution_count": 81,
     "metadata": {},
     "output_type": "execute_result"
    }
   ],
   "source": [
    "' '.join(['monty', 'python'])"
   ]
  },
  {
   "cell_type": "code",
   "execution_count": 82,
   "metadata": {},
   "outputs": [],
   "source": [
    "a = \"apple\""
   ]
  },
  {
   "cell_type": "code",
   "execution_count": 83,
   "metadata": {},
   "outputs": [
    {
     "data": {
      "text/plain": [
       "'app'"
      ]
     },
     "execution_count": 83,
     "metadata": {},
     "output_type": "execute_result"
    }
   ],
   "source": [
    "a[0:3]"
   ]
  },
  {
   "cell_type": "code",
   "execution_count": 84,
   "metadata": {},
   "outputs": [],
   "source": [
    "a = \"The information contained in this Current Report shall not be deemed “filed” for purposes of Section 18 of the Securities Exchange Act of 1934, as amended (the “Exchange Act”), or incorporated by reference in any filing under the Securities Act of 1933, as amended, or the Exchange Act, except as shall be expressly set forth by specific reference in such a filing.\""
   ]
  },
  {
   "cell_type": "code",
   "execution_count": 86,
   "metadata": {},
   "outputs": [],
   "source": [
    "a_list = a.split()"
   ]
  },
  {
   "cell_type": "code",
   "execution_count": 88,
   "metadata": {},
   "outputs": [
    {
     "data": {
      "text/plain": [
       "62"
      ]
     },
     "execution_count": 88,
     "metadata": {},
     "output_type": "execute_result"
    }
   ],
   "source": [
    "len(a_list)"
   ]
  },
  {
   "cell_type": "code",
   "execution_count": 89,
   "metadata": {},
   "outputs": [
    {
     "data": {
      "text/plain": [
       "45"
      ]
     },
     "execution_count": 89,
     "metadata": {},
     "output_type": "execute_result"
    }
   ],
   "source": [
    "len(set(a_list))"
   ]
  },
  {
   "cell_type": "code",
   "execution_count": 90,
   "metadata": {},
   "outputs": [
    {
     "data": {
      "text/plain": [
       "3"
      ]
     },
     "execution_count": 90,
     "metadata": {},
     "output_type": "execute_result"
    }
   ],
   "source": [
    "a_list.count(\"the\")"
   ]
  },
  {
   "cell_type": "code",
   "execution_count": 91,
   "metadata": {},
   "outputs": [],
   "source": [
    "saying = ['After', 'all', 'is', 'said', 'and', 'done',\n",
    "...           'more', 'is', 'said', 'than', 'done']\n",
    ">>> tokens = set(saying)"
   ]
  },
  {
   "cell_type": "code",
   "execution_count": 92,
   "metadata": {},
   "outputs": [
    {
     "data": {
      "text/plain": [
       "{'After', 'all', 'and', 'done', 'is', 'more', 'said', 'than'}"
      ]
     },
     "execution_count": 92,
     "metadata": {},
     "output_type": "execute_result"
    }
   ],
   "source": [
    "tokens"
   ]
  },
  {
   "cell_type": "code",
   "execution_count": 93,
   "metadata": {},
   "outputs": [],
   "source": [
    "tokens = sorted(tokens)"
   ]
  },
  {
   "cell_type": "code",
   "execution_count": 94,
   "metadata": {},
   "outputs": [
    {
     "data": {
      "text/plain": [
       "['After', 'all', 'and', 'done', 'is', 'more', 'said', 'than']"
      ]
     },
     "execution_count": 94,
     "metadata": {},
     "output_type": "execute_result"
    }
   ],
   "source": [
    "tokens"
   ]
  },
  {
   "cell_type": "code",
   "execution_count": 95,
   "metadata": {},
   "outputs": [
    {
     "data": {
      "text/plain": [
       "['said', 'than']"
      ]
     },
     "execution_count": 95,
     "metadata": {},
     "output_type": "execute_result"
    }
   ],
   "source": [
    "tokens[-2:]"
   ]
  },
  {
   "cell_type": "code",
   "execution_count": 97,
   "metadata": {},
   "outputs": [
    {
     "name": "stdout",
     "output_type": "stream",
     "text": [
      "<FreqDist with 19317 samples and 260819 outcomes>\n"
     ]
    }
   ],
   "source": [
    "fdist1 = FreqDist(text1)"
   ]
  },
  {
   "cell_type": "code",
   "execution_count": 98,
   "metadata": {},
   "outputs": [
    {
     "name": "stdout",
     "output_type": "stream",
     "text": [
      "<FreqDist with 19317 samples and 260819 outcomes>\n"
     ]
    }
   ],
   "source": [
    "print(fdist1)"
   ]
  },
  {
   "cell_type": "code",
   "execution_count": 99,
   "metadata": {},
   "outputs": [
    {
     "data": {
      "text/plain": [
       "[(',', 18713),\n",
       " ('the', 13721),\n",
       " ('.', 6862),\n",
       " ('of', 6536),\n",
       " ('and', 6024),\n",
       " ('a', 4569),\n",
       " ('to', 4542),\n",
       " (';', 4072),\n",
       " ('in', 3916),\n",
       " ('that', 2982),\n",
       " (\"'\", 2684),\n",
       " ('-', 2552),\n",
       " ('his', 2459),\n",
       " ('it', 2209),\n",
       " ('I', 2124),\n",
       " ('s', 1739),\n",
       " ('is', 1695),\n",
       " ('he', 1661),\n",
       " ('with', 1659),\n",
       " ('was', 1632),\n",
       " ('as', 1620),\n",
       " ('\"', 1478),\n",
       " ('all', 1462),\n",
       " ('for', 1414),\n",
       " ('this', 1280),\n",
       " ('!', 1269),\n",
       " ('at', 1231),\n",
       " ('by', 1137),\n",
       " ('but', 1113),\n",
       " ('not', 1103),\n",
       " ('--', 1070),\n",
       " ('him', 1058),\n",
       " ('from', 1052),\n",
       " ('be', 1030),\n",
       " ('on', 1005),\n",
       " ('so', 918),\n",
       " ('whale', 906),\n",
       " ('one', 889),\n",
       " ('you', 841),\n",
       " ('had', 767),\n",
       " ('have', 760),\n",
       " ('there', 715),\n",
       " ('But', 705),\n",
       " ('or', 697),\n",
       " ('were', 680),\n",
       " ('now', 646),\n",
       " ('which', 640),\n",
       " ('?', 637),\n",
       " ('me', 627),\n",
       " ('like', 624)]"
      ]
     },
     "execution_count": 99,
     "metadata": {},
     "output_type": "execute_result"
    }
   ],
   "source": [
    "fdist1.most_common(50)"
   ]
  },
  {
   "cell_type": "code",
   "execution_count": 101,
   "metadata": {},
   "outputs": [
    {
     "data": {
      "text/plain": [
       "906"
      ]
     },
     "execution_count": 101,
     "metadata": {},
     "output_type": "execute_result"
    }
   ],
   "source": [
    "fdist1['whale']"
   ]
  },
  {
   "cell_type": "code",
   "execution_count": 107,
   "metadata": {},
   "outputs": [
    {
     "data": {
      "text/plain": [
       "\u001b[1;31mSignature:\u001b[0m \u001b[0mlen\u001b[0m\u001b[1;33m(\u001b[0m\u001b[0mobj\u001b[0m\u001b[1;33m,\u001b[0m \u001b[1;33m/\u001b[0m\u001b[1;33m)\u001b[0m\u001b[1;33m\u001b[0m\u001b[1;33m\u001b[0m\u001b[0m\n",
       "\u001b[1;31mDocstring:\u001b[0m Return the number of items in a container.\n",
       "\u001b[1;31mType:\u001b[0m      builtin_function_or_method\n"
      ]
     },
     "metadata": {},
     "output_type": "display_data"
    }
   ],
   "source": [
    "len?"
   ]
  },
  {
   "cell_type": "code",
   "execution_count": 108,
   "metadata": {},
   "outputs": [
    {
     "data": {
      "text/plain": [
       "\u001b[1;31mInit signature:\u001b[0m \u001b[0mFreqDist\u001b[0m\u001b[1;33m(\u001b[0m\u001b[0msamples\u001b[0m\u001b[1;33m=\u001b[0m\u001b[1;32mNone\u001b[0m\u001b[1;33m)\u001b[0m\u001b[1;33m\u001b[0m\u001b[1;33m\u001b[0m\u001b[0m\n",
       "\u001b[1;31mDocstring:\u001b[0m     \n",
       "A frequency distribution for the outcomes of an experiment.  A\n",
       "frequency distribution records the number of times each outcome of\n",
       "an experiment has occurred.  For example, a frequency distribution\n",
       "could be used to record the frequency of each word type in a\n",
       "document.  Formally, a frequency distribution can be defined as a\n",
       "function mapping from each sample to the number of times that\n",
       "sample occurred as an outcome.\n",
       "\n",
       "Frequency distributions are generally constructed by running a\n",
       "number of experiments, and incrementing the count for a sample\n",
       "every time it is an outcome of an experiment.  For example, the\n",
       "following code will produce a frequency distribution that encodes\n",
       "how often each word occurs in a text:\n",
       "\n",
       "    >>> from nltk.tokenize import word_tokenize\n",
       "    >>> from nltk.probability import FreqDist\n",
       "    >>> sent = 'This is an example sentence'\n",
       "    >>> fdist = FreqDist()\n",
       "    >>> for word in word_tokenize(sent):\n",
       "    ...    fdist[word.lower()] += 1\n",
       "\n",
       "An equivalent way to do this is with the initializer:\n",
       "\n",
       "    >>> fdist = FreqDist(word.lower() for word in word_tokenize(sent))\n",
       "\u001b[1;31mInit docstring:\u001b[0m\n",
       "Construct a new frequency distribution.  If ``samples`` is\n",
       "given, then the frequency distribution will be initialized\n",
       "with the count of each object in ``samples``; otherwise, it\n",
       "will be initialized to be empty.\n",
       "\n",
       "In particular, ``FreqDist()`` returns an empty frequency\n",
       "distribution; and ``FreqDist(samples)`` first creates an empty\n",
       "frequency distribution, and then calls ``update`` with the\n",
       "list ``samples``.\n",
       "\n",
       ":param samples: The samples to initialize the frequency\n",
       "    distribution with.\n",
       ":type samples: Sequence\n",
       "\u001b[1;31mFile:\u001b[0m           e:\\python\\lib\\site-packages\\nltk\\probability.py\n",
       "\u001b[1;31mType:\u001b[0m           type\n",
       "\u001b[1;31mSubclasses:\u001b[0m     \n"
      ]
     },
     "metadata": {},
     "output_type": "display_data"
    }
   ],
   "source": [
    "FreqDist?"
   ]
  },
  {
   "cell_type": "code",
   "execution_count": 110,
   "metadata": {},
   "outputs": [
    {
     "data": {
      "text/plain": [
       "[(',', 9397),\n",
       " ('to', 4063),\n",
       " ('.', 3975),\n",
       " ('the', 3861),\n",
       " ('of', 3565),\n",
       " ('and', 3350),\n",
       " ('her', 2436),\n",
       " ('a', 2043),\n",
       " ('I', 2004),\n",
       " ('in', 1904),\n",
       " ('was', 1846),\n",
       " ('it', 1568),\n",
       " ('\"', 1506),\n",
       " (';', 1419),\n",
       " ('she', 1333),\n",
       " ('be', 1305),\n",
       " ('that', 1297),\n",
       " ('for', 1234),\n",
       " ('not', 1212),\n",
       " ('as', 1179),\n",
       " ('you', 1037),\n",
       " ('with', 971),\n",
       " ('had', 969),\n",
       " ('his', 941),\n",
       " ('he', 895),\n",
       " (\"'\", 883),\n",
       " ('have', 807),\n",
       " ('at', 806),\n",
       " ('by', 737),\n",
       " ('is', 728),\n",
       " ('.\"', 721),\n",
       " ('s', 700),\n",
       " ('Elinor', 684),\n",
       " ('on', 676),\n",
       " ('all', 642),\n",
       " ('him', 633),\n",
       " ('so', 617),\n",
       " ('but', 597),\n",
       " ('which', 592),\n",
       " ('could', 568),\n",
       " ('Marianne', 566),\n",
       " ('my', 551),\n",
       " ('Mrs', 530),\n",
       " ('from', 527),\n",
       " ('would', 507),\n",
       " ('very', 492),\n",
       " ('no', 488),\n",
       " ('their', 463),\n",
       " ('them', 462),\n",
       " ('--', 461)]"
      ]
     },
     "execution_count": 110,
     "metadata": {},
     "output_type": "execute_result"
    }
   ],
   "source": [
    "fdist2 = FreqDist(text2)\n",
    "fdist2.most_common(50)"
   ]
  },
  {
   "cell_type": "code",
   "execution_count": 111,
   "metadata": {},
   "outputs": [
    {
     "data": {
      "text/plain": [
       "[(',', 4885),\n",
       " ('the', 4045),\n",
       " ('.', 3828),\n",
       " ('of', 2319),\n",
       " ('to', 2164),\n",
       " ('a', 1878),\n",
       " ('in', 1572),\n",
       " ('and', 1511),\n",
       " ('*-1', 1123),\n",
       " ('0', 1099),\n",
       " ('*', 965),\n",
       " (\"'s\", 864),\n",
       " ('for', 817),\n",
       " ('that', 807),\n",
       " ('*T*-1', 806),\n",
       " ('*U*', 744),\n",
       " ('$', 718),\n",
       " ('The', 717),\n",
       " ('``', 702),\n",
       " (\"''\", 684),\n",
       " ('is', 671),\n",
       " ('said', 628),\n",
       " ('on', 490),\n",
       " ('it', 476),\n",
       " ('%', 446),\n",
       " ('by', 429),\n",
       " ('at', 402),\n",
       " ('with', 387),\n",
       " ('from', 386),\n",
       " ('as', 385),\n",
       " ('million', 383),\n",
       " ('Mr.', 375),\n",
       " ('*-2', 372),\n",
       " ('are', 369),\n",
       " ('was', 367),\n",
       " ('be', 356),\n",
       " ('*T*-2', 345),\n",
       " ('has', 339),\n",
       " ('its', 332),\n",
       " (\"n't\", 325),\n",
       " ('have', 323),\n",
       " ('an', 316),\n",
       " ('or', 291),\n",
       " ('will', 281),\n",
       " ('company', 260),\n",
       " ('--', 230),\n",
       " ('he', 230),\n",
       " ('which', 225),\n",
       " ('U.S.', 221),\n",
       " ('year', 212)]"
      ]
     },
     "execution_count": 111,
     "metadata": {},
     "output_type": "execute_result"
    }
   ],
   "source": [
    "fdist7 = FreqDist(text7)\n",
    "fdist7.most_common(50)"
   ]
  },
  {
   "cell_type": "code",
   "execution_count": 112,
   "metadata": {},
   "outputs": [
    {
     "data": {
      "image/png": "[encoded data removed]",
      "text/plain": [
       "<Figure size 432x288 with 1 Axes>"
      ]
     },
     "metadata": {
      "needs_background": "light"
     },
     "output_type": "display_data"
    },
    {
     "data": {
      "text/plain": [
       "<matplotlib.axes._subplots.AxesSubplot at 0x23cc8e6d3c8>"
      ]
     },
     "execution_count": 112,
     "metadata": {},
     "output_type": "execute_result"
    }
   ],
   "source": [
    "fdist1.plot(50,cumulative = True)"
   ]
  },
  {
   "cell_type": "code",
   "execution_count": 113,
   "metadata": {},
   "outputs": [
    {
     "data": {
      "text/plain": [
       "260819"
      ]
     },
     "execution_count": 113,
     "metadata": {},
     "output_type": "execute_result"
    }
   ],
   "source": [
    "len(text1)"
   ]
  },
  {
   "cell_type": "code",
   "execution_count": 114,
   "metadata": {},
   "outputs": [
    {
     "data": {
      "image/png": "[encoded data removed]",
      "text/plain": [
       "<Figure size 432x288 with 1 Axes>"
      ]
     },
     "metadata": {
      "needs_background": "light"
     },
     "output_type": "display_data"
    },
    {
     "data": {
      "text/plain": [
       "<matplotlib.axes._subplots.AxesSubplot at 0x23cc92a1e48>"
      ]
     },
     "execution_count": 114,
     "metadata": {},
     "output_type": "execute_result"
    }
   ],
   "source": [
    "fdist7.plot(50, cumulative = True)"
   ]
  },
  {
   "cell_type": "code",
   "execution_count": 115,
   "metadata": {},
   "outputs": [
    {
     "data": {
      "text/plain": [
       "100676"
      ]
     },
     "execution_count": 115,
     "metadata": {},
     "output_type": "execute_result"
    }
   ],
   "source": [
    "len(text7)"
   ]
  },
  {
   "cell_type": "code",
   "execution_count": 116,
   "metadata": {},
   "outputs": [
    {
     "data": {
      "text/plain": [
       "nltk.probability.FreqDist"
      ]
     },
     "execution_count": 116,
     "metadata": {},
     "output_type": "execute_result"
    }
   ],
   "source": [
    "type(fdist1)"
   ]
  },
  {
   "cell_type": "code",
   "execution_count": 119,
   "metadata": {},
   "outputs": [
    {
     "ename": "TypeError",
     "evalue": "list indices must be integers or slices, not str",
     "output_type": "error",
     "traceback": [
      "\u001b[1;31m---------------------------------------------------------------------------\u001b[0m",
      "\u001b[1;31mTypeError\u001b[0m                                 Traceback (most recent call last)",
      "\u001b[1;32m<ipython-input-119-ac9d94af7c48>\u001b[0m in \u001b[0;36m<module>\u001b[1;34m\u001b[0m\n\u001b[1;32m----> 1\u001b[1;33m \u001b[0mfdist1\u001b[0m\u001b[1;33m.\u001b[0m\u001b[0mhapaxes\u001b[0m\u001b[1;33m(\u001b[0m\u001b[1;33m)\u001b[0m\u001b[1;33m[\u001b[0m\u001b[1;34m'lexicographer'\u001b[0m\u001b[1;33m]\u001b[0m\u001b[1;33m\u001b[0m\u001b[1;33m\u001b[0m\u001b[0m\n\u001b[0m",
      "\u001b[1;31mTypeError\u001b[0m: list indices must be integers or slices, not str"
     ]
    }
   ],
   "source": [
    "fdist1.hapaxes()['lexicographer']"
   ]
  },
  {
   "cell_type": "code",
   "execution_count": 120,
   "metadata": {},
   "outputs": [],
   "source": [
    "a = fdist1.hapaxes()"
   ]
  },
  {
   "cell_type": "code",
   "execution_count": 125,
   "metadata": {},
   "outputs": [
    {
     "data": {
      "text/plain": [
       "7345"
      ]
     },
     "execution_count": 125,
     "metadata": {},
     "output_type": "execute_result"
    }
   ],
   "source": [
    "a.index('lexicographer')"
   ]
  },
  {
   "cell_type": "code",
   "execution_count": 126,
   "metadata": {},
   "outputs": [
    {
     "data": {
      "text/plain": [
       "['CIRCUMNAVIGATION',\n",
       " 'Physiognomically',\n",
       " 'apprehensiveness',\n",
       " 'cannibalistically',\n",
       " 'characteristically',\n",
       " 'circumnavigating',\n",
       " 'circumnavigation',\n",
       " 'circumnavigations',\n",
       " 'comprehensiveness',\n",
       " 'hermaphroditical',\n",
       " 'indiscriminately',\n",
       " 'indispensableness',\n",
       " 'irresistibleness',\n",
       " 'physiognomically',\n",
       " 'preternaturalness',\n",
       " 'responsibilities',\n",
       " 'simultaneousness',\n",
       " 'subterraneousness',\n",
       " 'supernaturalness',\n",
       " 'superstitiousness',\n",
       " 'uncomfortableness',\n",
       " 'uncompromisedness',\n",
       " 'undiscriminating',\n",
       " 'uninterpenetratingly']"
      ]
     },
     "execution_count": 126,
     "metadata": {},
     "output_type": "execute_result"
    }
   ],
   "source": [
    ">>> V = set(text1)\n",
    ">>> long_words = [w for w in V if len(w) > 15]\n",
    ">>> sorted(long_words)"
   ]
  },
  {
   "cell_type": "code",
   "execution_count": 128,
   "metadata": {},
   "outputs": [
    {
     "data": {
      "text/plain": [
       "['disproportionate',\n",
       " 'English-speaking',\n",
       " 'industrial-production',\n",
       " 'morale-damaging',\n",
       " 'language-housekeeper',\n",
       " 'sometimes-tawdry',\n",
       " 'battery-operated',\n",
       " 'diethylstilbestrol',\n",
       " 'school-district',\n",
       " 'Macmillan\\\\/McGraw-Hill',\n",
       " 'incentive-backed',\n",
       " 'interest-bearing',\n",
       " 'parts-engineering',\n",
       " 'non-encapsulating',\n",
       " 'water-authority',\n",
       " 'self-regulatory',\n",
       " 'limited-partnership',\n",
       " 'Sacramento-based',\n",
       " 'equity-purchase',\n",
       " 'electrical-safety',\n",
       " 'disaster-assistance',\n",
       " 'Minneapolis-based',\n",
       " 'computer-assisted',\n",
       " 'weapons-modernization',\n",
       " 'Ballantine\\\\/Del',\n",
       " '2,050-passenger',\n",
       " 'superconductors',\n",
       " 'yet-to-be-formed',\n",
       " 'citizen-sparked',\n",
       " 'yttrium-containing',\n",
       " 'characteristics',\n",
       " 'non-biodegradable',\n",
       " 'equal-opportunity',\n",
       " 'asbestos-related',\n",
       " 'savings-and-loan',\n",
       " 'marketing-communications',\n",
       " 'government-funded',\n",
       " 'automotive-parts',\n",
       " 'asset-valuation',\n",
       " 'newspaper-printing',\n",
       " 'self-perpetuating',\n",
       " 'contingency-fee',\n",
       " 'machine-gun-toting',\n",
       " 'replacement-car',\n",
       " 'computer-generated',\n",
       " 'detective-story',\n",
       " 'underperforming',\n",
       " 'two-time-losers',\n",
       " 'get-out-the-vote',\n",
       " 'computer-system-design',\n",
       " 'housing-assistance',\n",
       " 'school-sponsored',\n",
       " 'school-research',\n",
       " 'anti-miscarriage',\n",
       " 'labor-intensive',\n",
       " 'Bridgestone\\\\/Firestone',\n",
       " 'sports-oriented',\n",
       " 'industry-supported',\n",
       " 'government-certified',\n",
       " 'export-oriented',\n",
       " 'Fundamentalists',\n",
       " 'government-owned',\n",
       " 'generalizations',\n",
       " 'family-planning',\n",
       " 'market-oriented',\n",
       " 'program-trading',\n",
       " 'computer-services',\n",
       " 'unconstitutional',\n",
       " 'fastest-growing',\n",
       " 'information-services',\n",
       " 'insider-trading',\n",
       " 'Macmillan\\\\/McGraw',\n",
       " 'Renaissance-style',\n",
       " 'Louisiana-Pacific',\n",
       " 'yen-denominated',\n",
       " 'Mortgage-Backed',\n",
       " 'transplantation',\n",
       " 'creditworthiness',\n",
       " 'shareholder-rights',\n",
       " 'stock-manipulation',\n",
       " 'achievement-test',\n",
       " 'attorney-client',\n",
       " 'anti-abortionists',\n",
       " 'staff-reduction',\n",
       " 'representatives',\n",
       " 'thirtysomething',\n",
       " 'Arbitrage-related',\n",
       " 'environmentalists',\n",
       " 'Prudential-Bache',\n",
       " 'seven-million-ton',\n",
       " 'consumer-driven',\n",
       " 'state-supervised',\n",
       " 'Herald-American',\n",
       " 'cleaner-burning',\n",
       " 'Francisco-based',\n",
       " 'search-and-seizure',\n",
       " 'stock-specialist',\n",
       " 'Anti-Deficiency',\n",
       " 'Superconductors',\n",
       " 'property\\\\/casualty',\n",
       " 'most-likely-successor',\n",
       " 'pianist-comedian',\n",
       " 'insurance-company',\n",
       " 'U.N.-supervised',\n",
       " 'Chinese-American',\n",
       " '90-cent-an-hour',\n",
       " 'telephone-information',\n",
       " 'recession-inspired',\n",
       " 'labor-management',\n",
       " 'diversification',\n",
       " 'computer-driven',\n",
       " 'headcount-control',\n",
       " 'abortion-related',\n",
       " 'telecommunications',\n",
       " 'circuit-breaker',\n",
       " 'automotive-lighting',\n",
       " 'classifications',\n",
       " 'stock-selection',\n",
       " 'identity-management',\n",
       " 'financial-services',\n",
       " 'familiarization',\n",
       " 'state-appointed',\n",
       " 'underprivileged',\n",
       " 'revenue-desperate',\n",
       " 'truth-in-lending',\n",
       " 'Georgia-Pacific',\n",
       " 'airline-related',\n",
       " 'self-aggrandizing',\n",
       " 'acquisition-minded',\n",
       " 'Metallgesellschaft',\n",
       " 'public-relations',\n",
       " 'Lafite-Rothschild',\n",
       " 'Philadelphia-based',\n",
       " 'recommendations',\n",
       " 'traditionalists',\n",
       " 'larger-than-normal',\n",
       " 'price-depressing',\n",
       " 'tissue-transplant',\n",
       " 'car-development',\n",
       " 'higher-salaried',\n",
       " 'mortgage-backed',\n",
       " 'intellectual-property',\n",
       " 'futures-related',\n",
       " 'building-products',\n",
       " 'constitutional-law',\n",
       " 'investor-relations',\n",
       " 'bread-and-butter',\n",
       " 'black-and-white',\n",
       " 'over-the-counter',\n",
       " 'capital-markets',\n",
       " 'Trockenbeerenauslesen',\n",
       " 'confrontational',\n",
       " 'sometimes-exhausting',\n",
       " 'Freeport-McMoRan',\n",
       " 'single-handedly',\n",
       " 'liquid-nitrogen',\n",
       " 'word-processing',\n",
       " 'multibillion-dollar',\n",
       " 'substance-abusing',\n",
       " '238,000-circulation',\n",
       " 'highest-pitched',\n",
       " 'Carnegie-Mellon',\n",
       " 'Washington-based',\n",
       " 'life-of-contract',\n",
       " 'securities-based',\n",
       " 'notwithstanding',\n",
       " 'free-enterprise',\n",
       " 'executive-office',\n",
       " 'accomplishments',\n",
       " 'current-carrying',\n",
       " 'investment-grade',\n",
       " 'collective-bargaining',\n",
       " 'noncompetitively',\n",
       " 'index-arbitrage',\n",
       " 'super-absorbent',\n",
       " 'Test-preparation',\n",
       " 'forest-products',\n",
       " 'early-retirement',\n",
       " 'Index-arbitrage',\n",
       " 'Jalaalwalikraam',\n",
       " 'electric-utility',\n",
       " 'crystal-lattice',\n",
       " 'unrealistically',\n",
       " 'counterrevolutionary',\n",
       " 'Corton-Charlemagne',\n",
       " 'surreptitiously',\n",
       " 'dollar-denominated',\n",
       " 'less-than-brilliant',\n",
       " 'administrations',\n",
       " 'trading-company',\n",
       " 'microprocessors',\n",
       " 'pharmaceuticals',\n",
       " 'Hart-Scott-Rodino',\n",
       " 'high-technology',\n",
       " 'school-improvement',\n",
       " 'anti-morning-sickness',\n",
       " 'incentive-bonus',\n",
       " 'energy-services',\n",
       " 'savers\\\\/investors',\n",
       " 'direct-investment',\n",
       " 'Property\\\\/casualty',\n",
       " 'anti-programmers',\n",
       " 'responsibilities',\n",
       " 'test-preparation']"
      ]
     },
     "execution_count": 128,
     "metadata": {},
     "output_type": "execute_result"
    }
   ],
   "source": [
    "[word for word in set(text7) if len(word) >=15]"
   ]
  },
  {
   "cell_type": "code",
   "execution_count": 131,
   "metadata": {},
   "outputs": [
    {
     "data": {
      "text/plain": [
       "['RESPONSIBILITIES',\n",
       " 'antiphilosophists',\n",
       " 'constitutionally',\n",
       " 'contradistinction',\n",
       " 'discountenancing',\n",
       " 'disqualification',\n",
       " 'enthusiastically',\n",
       " 'instrumentalities',\n",
       " 'internationality',\n",
       " 'irresponsibility',\n",
       " 'misappropriation',\n",
       " 'misrepresentation',\n",
       " 'misunderstanding',\n",
       " 'responsibilities',\n",
       " 'sentimentalizing',\n",
       " 'transcontinental',\n",
       " 'uncharitableness',\n",
       " 'unconstitutional']"
      ]
     },
     "execution_count": 131,
     "metadata": {},
     "output_type": "execute_result"
    }
   ],
   "source": [
    "sorted([word for word in set(text4) if len(word)>15])"
   ]
  },
  {
   "cell_type": "code",
   "execution_count": 132,
   "metadata": {},
   "outputs": [
    {
     "data": {
      "text/plain": [
       "['!!!!!!!!!!!!!!!!',\n",
       " '!!!!!!!!!!!!!!!!!!!!!!',\n",
       " '!!!!!!!!!!!!!!!!!!!!!!!',\n",
       " '!!!!!!!!!!!!!!!!!!!!!!!!!!!',\n",
       " '!!!!!!!!!!!!!!!!!!!!!!!!!!!!',\n",
       " '!!!!!!!!!!!!!!!!!!!!!!!!!!!!!!!!!!!!!!!!!!!!!!!!!!!!!!',\n",
       " '#talkcity_adults',\n",
       " '(((((((((((((((((',\n",
       " '((((((((((((((((((',\n",
       " '((((((((((((((((((((',\n",
       " '(((((((((((((((((((((',\n",
       " '(((((((((((((((((((((((',\n",
       " '((((((((((((((((((((((((',\n",
       " '(((((((((((((((((((((((((',\n",
       " '((((((((((((((((((((((((((',\n",
       " ')))))))))))))))))',\n",
       " ')))))))))))))))))))',\n",
       " ')))))))))))))))))))))',\n",
       " '))))))))))))))))))))))',\n",
       " '))))))))))))))))))))))))))))',\n",
       " ')))))))))))))))))))))))))))))))',\n",
       " '--------------------',\n",
       " '.(..(.vMp3 v1.7.4.).)',\n",
       " '.(..(.vMp3 vi.p.t.)..).',\n",
       " '................',\n",
       " '..................',\n",
       " '...................',\n",
       " '....................',\n",
       " '........................',\n",
       " '..............................',\n",
       " '.A.n.a.c.?.n.?.a.',\n",
       " '//www.wunderground.com/cgi-bin/findweather/getForecast?query=95953#FIR',\n",
       " '<3333333333333333',\n",
       " '<33333333333333333',\n",
       " 'BAAAAALLLLLLLLIIIIIIINNNNNNNNNNN',\n",
       " 'Bloooooooooooood',\n",
       " 'HHEEYYYYYYYYYYYYYYYYYYYYYYYYYYYYYYYYYYYYYYYYYYYYYYY',\n",
       " 'HolocaustYourMom',\n",
       " 'Mooooooooooooooooooooooooooo',\n",
       " 'Nooooooooooooooo',\n",
       " 'WEEEEEEEEEEEEEEEEEE',\n",
       " '[[[[[[[[[[[[[[[[[[',\n",
       " ']]]]]]]]]]]]]]]]]]]]]',\n",
       " 'aaaaaaaaaaaaaaaaa',\n",
       " 'agurlwithbigguns',\n",
       " 'aiiiiiiiiiiiiiiiiiiiiiiii',\n",
       " 'anyyyyyyyyyyyyyyyyy',\n",
       " 'backfrontsidewaysandallaroundtheworld',\n",
       " 'bbbbbyyyyyyyeeeeeeeee',\n",
       " 'boooooooooooglyyyyyy',\n",
       " 'bwahahahahahahahahahaha',\n",
       " 'cooooooooookiiiiiiiiiiiieeeeeeeeeeee',\n",
       " 'eeeeeeeeewwwwwwww',\n",
       " 'grrrrrrrrrrrrrrrrr',\n",
       " 'hahahahahahahahahahahahahahahaha',\n",
       " 'heeheeheeheeheehee',\n",
       " 'heyyyyyyyyyyyyyy',\n",
       " 'http://forums.talkcity.com/tc-adults/start ',\n",
       " 'http://www.shadowbots.com',\n",
       " 'huuuuuuuuuuuuuuuuuuuuuuuuuuuuuuuuuuugZ',\n",
       " 'iamahotniplickme',\n",
       " 'iamahotnipwithhotnippics',\n",
       " 'iamahotnipwithpics',\n",
       " 'lllllllliiiiiiiiiikeee',\n",
       " 'llloooozzzzeeerrrrzzzzzzzzzzzzzzzzzzzzzzzzzzzzzzzzzzzzzzzzzzzzzzzzz',\n",
       " 'miiiiiiiiiiiiinnnnnnnnnnneeeeeeeeee',\n",
       " 'miiiiiinnnnnnnnnneeeeeeee',\n",
       " 'mikeeeeeeeeeeeeeeeeeeeeeeeeee',\n",
       " 'mmmmmmmmiiiiiiiiinnnnnnnnneeeeeeee',\n",
       " 'muahssssssssssssssss',\n",
       " 'muahsssssssssssssssssss',\n",
       " 'niteeeeeeeeeeeeeeeeeee',\n",
       " 'ohhhhhhhhhhhhhhhh',\n",
       " 'oooooooooooglyyyyyyyy',\n",
       " 'oooooooooooooonnnnnnnnnnnneeeeeeeeeeeeeeesssssssss',\n",
       " 'raaaaaaaaaaaaaaaaaaaaaaaaaaaaa',\n",
       " 'tatatatnanaantatat',\n",
       " 'weeeeeeeeeeeeeeee',\n",
       " 'weeeeeeeeeeeeeeeeeeeeeeeeed',\n",
       " 'wheeeeeeeeeeeeeeeeeeeeeeeeeeeeeeeeee',\n",
       " 'woooooooooaaaahhhhhhhhhhhh',\n",
       " 'wooooooooooooohoooooooooooooooo',\n",
       " 'www.Wunderground.com',\n",
       " 'yuuuuuuuuuuuummmmmmmmmmmm']"
      ]
     },
     "execution_count": 132,
     "metadata": {},
     "output_type": "execute_result"
    }
   ],
   "source": [
    "sorted([word for word in set(text5) if len(word)>15])"
   ]
  },
  {
   "cell_type": "code",
   "execution_count": 135,
   "metadata": {},
   "outputs": [
    {
     "data": {
      "text/plain": [
       "[('After', 'all'),\n",
       " ('all', 'is'),\n",
       " ('is', 'said'),\n",
       " ('said', 'and'),\n",
       " ('and', 'done'),\n",
       " ('done', 'more'),\n",
       " ('more', 'is'),\n",
       " ('is', 'said'),\n",
       " ('said', 'than'),\n",
       " ('than', 'done')]"
      ]
     },
     "execution_count": 135,
     "metadata": {},
     "output_type": "execute_result"
    }
   ],
   "source": [
    "list(bigrams(saying))"
   ]
  },
  {
   "cell_type": "code",
   "execution_count": 136,
   "metadata": {},
   "outputs": [
    {
     "data": {
      "text/plain": [
       "['Sperm Whale',\n",
       " 'Moby Dick',\n",
       " 'White Whale',\n",
       " 'old man',\n",
       " 'Captain Ahab',\n",
       " 'sperm whale',\n",
       " 'Right Whale',\n",
       " 'Captain Peleg',\n",
       " 'New Bedford',\n",
       " 'Cape Horn',\n",
       " 'cried Ahab',\n",
       " 'years ago',\n",
       " 'lower jaw',\n",
       " 'never mind',\n",
       " 'Father Mapple',\n",
       " 'cried Stubb',\n",
       " 'chief mate',\n",
       " 'white whale',\n",
       " 'ivory leg',\n",
       " 'one hand']"
      ]
     },
     "execution_count": 136,
     "metadata": {},
     "output_type": "execute_result"
    }
   ],
   "source": [
    "text1.collocation_list()"
   ]
  },
  {
   "cell_type": "code",
   "execution_count": 141,
   "metadata": {},
   "outputs": [
    {
     "data": {
      "text/plain": [
       "['United States',\n",
       " 'fellow citizens',\n",
       " 'four years',\n",
       " 'years ago',\n",
       " 'Federal Government',\n",
       " 'General Government',\n",
       " 'American people',\n",
       " 'Vice President',\n",
       " 'God bless',\n",
       " 'Chief Justice',\n",
       " 'Old World',\n",
       " 'Almighty God',\n",
       " 'Fellow citizens',\n",
       " 'Chief Magistrate',\n",
       " 'every citizen',\n",
       " 'one another',\n",
       " 'fellow Americans',\n",
       " 'Indian tribes',\n",
       " 'public debt',\n",
       " 'foreign nations']"
      ]
     },
     "execution_count": 141,
     "metadata": {},
     "output_type": "execute_result"
    }
   ],
   "source": [
    "text4.collocation_list()"
   ]
  },
  {
   "cell_type": "code",
   "execution_count": 142,
   "metadata": {},
   "outputs": [],
   "source": [
    "a = text4.collocation_list()"
   ]
  },
  {
   "cell_type": "code",
   "execution_count": 143,
   "metadata": {},
   "outputs": [
    {
     "data": {
      "text/plain": [
       "list"
      ]
     },
     "execution_count": 143,
     "metadata": {},
     "output_type": "execute_result"
    }
   ],
   "source": [
    "type(a)"
   ]
  },
  {
   "cell_type": "code",
   "execution_count": 144,
   "metadata": {},
   "outputs": [
    {
     "data": {
      "text/plain": [
       "['would like',\n",
       " 'medium build',\n",
       " 'social drinker',\n",
       " 'quiet nights',\n",
       " 'non smoker',\n",
       " 'long term',\n",
       " 'age open',\n",
       " 'Would like',\n",
       " 'easy going',\n",
       " 'financially secure',\n",
       " 'fun times',\n",
       " 'similar interests',\n",
       " 'Age open',\n",
       " 'weekends away',\n",
       " 'poss rship',\n",
       " 'well presented',\n",
       " 'never married',\n",
       " 'single mum',\n",
       " 'permanent relationship',\n",
       " 'slim build']"
      ]
     },
     "execution_count": 144,
     "metadata": {},
     "output_type": "execute_result"
    }
   ],
   "source": [
    "text8.collocation_list()"
   ]
  },
  {
   "cell_type": "code",
   "execution_count": 145,
   "metadata": {},
   "outputs": [
    {
     "data": {
      "text/plain": [
       "[6,\n",
       " 6,\n",
       " 1,\n",
       " 2,\n",
       " 5,\n",
       " 3,\n",
       " 1,\n",
       " 4,\n",
       " 4,\n",
       " 3,\n",
       " 5,\n",
       " 2,\n",
       " 1,\n",
       " 12,\n",
       " 8,\n",
       " 4,\n",
       " 2,\n",
       " 1,\n",
       " 3,\n",
       " 6,\n",
       " 2,\n",
       " 8,\n",
       " 2,\n",
       " 8,\n",
       " 4,\n",
       " 1,\n",
       " 3,\n",
       " 5,\n",
       " 10,\n",
       " 5,\n",
       " 1,\n",
       " 7,\n",
       " 5,\n",
       " 1,\n",
       " 2,\n",
       " 5,\n",
       " 3,\n",
       " 3,\n",
       " 6,\n",
       " 8,\n",
       " 2,\n",
       " 12,\n",
       " 4,\n",
       " 6,\n",
       " 3,\n",
       " 1,\n",
       " 3,\n",
       " 5,\n",
       " 3,\n",
       " 1,\n",
       " 12,\n",
       " 8,\n",
       " 2,\n",
       " 4,\n",
       " 7,\n",
       " 10,\n",
       " 12,\n",
       " 1,\n",
       " 1,\n",
       " 4,\n",
       " 2,\n",
       " 8,\n",
       " 4,\n",
       " 4,\n",
       " 1,\n",
       " 1,\n",
       " 2,\n",
       " 4,\n",
       " 4,\n",
       " 9,\n",
       " 7,\n",
       " 3,\n",
       " 6,\n",
       " 1,\n",
       " 4,\n",
       " 10,\n",
       " 2,\n",
       " 6,\n",
       " 6,\n",
       " 5,\n",
       " 1,\n",
       " 5,\n",
       " 2,\n",
       " 7,\n",
       " 7,\n",
       " 1,\n",
       " 2,\n",
       " 2,\n",
       " 4,\n",
       " 4,\n",
       " 2,\n",
       " 5,\n",
       " 3,\n",
       " 1,\n",
       " 11,\n",
       " 8,\n",
       " 1,\n",
       " 5,\n",
       " 1,\n",
       " 3,\n",
       " 8,\n",
       " 5,\n",
       " 1,\n",
       " 11,\n",
       " 1,\n",
       " 2,\n",
       " 9,\n",
       " 9,\n",
       " 4,\n",
       " 2,\n",
       " 6,\n",
       " 3,\n",
       " 5,\n",
       " 1,\n",
       " 4,\n",
       " 4,\n",
       " 5,\n",
       " 9,\n",
       " 2,\n",
       " 2,\n",
       " 7,\n",
       " 8,\n",
       " 4,\n",
       " 5,\n",
       " 4,\n",
       " 2,\n",
       " 7,\n",
       " 5,\n",
       " 1,\n",
       " 11,\n",
       " 4,\n",
       " 1,\n",
       " 5,\n",
       " 1,\n",
       " 9,\n",
       " 4,\n",
       " 1,\n",
       " 3,\n",
       " 4,\n",
       " 2,\n",
       " 3,\n",
       " 10,\n",
       " 5,\n",
       " 5,\n",
       " 4,\n",
       " 5,\n",
       " 5,\n",
       " 4,\n",
       " 10,\n",
       " 1,\n",
       " 7,\n",
       " 5,\n",
       " 11,\n",
       " 2,\n",
       " 3,\n",
       " 9,\n",
       " 9,\n",
       " 7,\n",
       " 2,\n",
       " 4,\n",
       " 1,\n",
       " 8,\n",
       " 11,\n",
       " 8,\n",
       " 4,\n",
       " 8,\n",
       " 3,\n",
       " 4,\n",
       " 4,\n",
       " 1,\n",
       " 4,\n",
       " 3,\n",
       " 1,\n",
       " 3,\n",
       " 6,\n",
       " 7,\n",
       " 6,\n",
       " 2,\n",
       " 5,\n",
       " 2,\n",
       " 3,\n",
       " 7,\n",
       " 7,\n",
       " 2,\n",
       " 8,\n",
       " 1,\n",
       " 1,\n",
       " 5,\n",
       " 6,\n",
       " 1,\n",
       " 2,\n",
       " 5,\n",
       " 3,\n",
       " 9,\n",
       " 2,\n",
       " 3,\n",
       " 7,\n",
       " 1,\n",
       " 1,\n",
       " 9,\n",
       " 10,\n",
       " 4,\n",
       " 1,\n",
       " 2,\n",
       " 4,\n",
       " 2,\n",
       " 2,\n",
       " 3,\n",
       " 5,\n",
       " 1,\n",
       " 2,\n",
       " 3,\n",
       " 7,\n",
       " 5,\n",
       " 5,\n",
       " 3,\n",
       " 6,\n",
       " 6,\n",
       " 5,\n",
       " 2,\n",
       " 8,\n",
       " 6,\n",
       " 3,\n",
       " 12,\n",
       " 10,\n",
       " 1,\n",
       " 5,\n",
       " 2,\n",
       " 2,\n",
       " 8,\n",
       " 2,\n",
       " 3,\n",
       " 8,\n",
       " 3,\n",
       " 1,\n",
       " 2,\n",
       " 7,\n",
       " 9,\n",
       " 3,\n",
       " 3,\n",
       " 11,\n",
       " 3,\n",
       " 5,\n",
       " 7,\n",
       " 3,\n",
       " 7,\n",
       " 4,\n",
       " 5,\n",
       " 2,\n",
       " 3,\n",
       " 8,\n",
       " 2,\n",
       " 7,\n",
       " 2,\n",
       " 3,\n",
       " 4,\n",
       " 10,\n",
       " 1,\n",
       " 2,\n",
       " 2,\n",
       " 4,\n",
       " 2,\n",
       " 6,\n",
       " 11,\n",
       " 2,\n",
       " 7,\n",
       " 5,\n",
       " 3,\n",
       " 2,\n",
       " 4,\n",
       " 1,\n",
       " 2,\n",
       " 4,\n",
       " 5,\n",
       " 5,\n",
       " 2,\n",
       " 7,\n",
       " 2,\n",
       " 6,\n",
       " 2,\n",
       " 11,\n",
       " 6,\n",
       " 9,\n",
       " 1,\n",
       " 3,\n",
       " 7,\n",
       " 3,\n",
       " 1,\n",
       " 4,\n",
       " 2,\n",
       " 11,\n",
       " 4,\n",
       " 3,\n",
       " 8,\n",
       " 6,\n",
       " 9,\n",
       " 3,\n",
       " 3,\n",
       " 7,\n",
       " 7,\n",
       " 2,\n",
       " 7,\n",
       " 10,\n",
       " 3,\n",
       " 6,\n",
       " 10,\n",
       " 1,\n",
       " 3,\n",
       " 9,\n",
       " 11,\n",
       " 4,\n",
       " 1,\n",
       " 8,\n",
       " 3,\n",
       " 4,\n",
       " 3,\n",
       " 2,\n",
       " 2,\n",
       " 4,\n",
       " 6,\n",
       " 7,\n",
       " 2,\n",
       " 2,\n",
       " 1,\n",
       " 6,\n",
       " 5,\n",
       " 3,\n",
       " 3,\n",
       " 7,\n",
       " 2,\n",
       " 3,\n",
       " 5,\n",
       " 5,\n",
       " 3,\n",
       " 8,\n",
       " 3,\n",
       " 4,\n",
       " 1,\n",
       " 9,\n",
       " 4,\n",
       " 2,\n",
       " 6,\n",
       " 2,\n",
       " 4,\n",
       " 1,\n",
       " 4,\n",
       " 4,\n",
       " 2,\n",
       " 4,\n",
       " 1,\n",
       " 3,\n",
       " 7,\n",
       " 4,\n",
       " 10,\n",
       " 4,\n",
       " 3,\n",
       " 7,\n",
       " 4,\n",
       " 4,\n",
       " 3,\n",
       " 1,\n",
       " 3,\n",
       " 7,\n",
       " 4,\n",
       " 1,\n",
       " 5,\n",
       " 1,\n",
       " 5,\n",
       " 2,\n",
       " 3,\n",
       " 3,\n",
       " 5,\n",
       " 6,\n",
       " 7,\n",
       " 4,\n",
       " 3,\n",
       " 9,\n",
       " 1,\n",
       " 2,\n",
       " 7,\n",
       " 4,\n",
       " 4,\n",
       " 2,\n",
       " 4,\n",
       " 4,\n",
       " 5,\n",
       " 5,\n",
       " 3,\n",
       " 8,\n",
       " 6,\n",
       " 1,\n",
       " 4,\n",
       " 2,\n",
       " 3,\n",
       " 4,\n",
       " 9,\n",
       " 7,\n",
       " 4,\n",
       " 16,\n",
       " 8,\n",
       " 1,\n",
       " 9,\n",
       " 5,\n",
       " 4,\n",
       " 8,\n",
       " 9,\n",
       " 6,\n",
       " 1,\n",
       " 3,\n",
       " 5,\n",
       " 2,\n",
       " 2,\n",
       " 6,\n",
       " 4,\n",
       " 9,\n",
       " 12,\n",
       " 1,\n",
       " 4,\n",
       " 6,\n",
       " 3,\n",
       " 10,\n",
       " 3,\n",
       " 3,\n",
       " 6,\n",
       " 4,\n",
       " 1,\n",
       " 8,\n",
       " 3,\n",
       " 1,\n",
       " 3,\n",
       " 11,\n",
       " 4,\n",
       " 1,\n",
       " 5,\n",
       " 1,\n",
       " 2,\n",
       " 3,\n",
       " 9,\n",
       " 4,\n",
       " 2,\n",
       " 1,\n",
       " 8,\n",
       " 7,\n",
       " 5,\n",
       " 5,\n",
       " 2,\n",
       " 2,\n",
       " 3,\n",
       " 5,\n",
       " 5,\n",
       " 16,\n",
       " 8,\n",
       " 1,\n",
       " 2,\n",
       " 4,\n",
       " 5,\n",
       " 3,\n",
       " 7,\n",
       " 1,\n",
       " 3,\n",
       " 10,\n",
       " 2,\n",
       " 4,\n",
       " 6,\n",
       " 6,\n",
       " 5,\n",
       " 3,\n",
       " 7,\n",
       " 2,\n",
       " 3,\n",
       " 4,\n",
       " 6,\n",
       " 1,\n",
       " 5,\n",
       " 1,\n",
       " 5,\n",
       " 7,\n",
       " 7,\n",
       " 3,\n",
       " 2,\n",
       " 2,\n",
       " 3,\n",
       " 7,\n",
       " 3,\n",
       " 3,\n",
       " 8,\n",
       " 7,\n",
       " 7,\n",
       " 1,\n",
       " 2,\n",
       " 7,\n",
       " 14,\n",
       " 9,\n",
       " 1,\n",
       " 2,\n",
       " 4,\n",
       " 1,\n",
       " 5,\n",
       " 1,\n",
       " 3,\n",
       " 5,\n",
       " 1,\n",
       " 5,\n",
       " 5,\n",
       " 2,\n",
       " 5,\n",
       " 3,\n",
       " 2,\n",
       " 13,\n",
       " 1,\n",
       " 4,\n",
       " 3,\n",
       " 1,\n",
       " 3,\n",
       " 5,\n",
       " 8,\n",
       " 7,\n",
       " 4,\n",
       " 9,\n",
       " 1,\n",
       " 2,\n",
       " 4,\n",
       " 3,\n",
       " 9,\n",
       " 7,\n",
       " 1,\n",
       " 3,\n",
       " 7,\n",
       " 8,\n",
       " 4,\n",
       " 7,\n",
       " 5,\n",
       " 3,\n",
       " 5,\n",
       " 5,\n",
       " 4,\n",
       " 3,\n",
       " 4,\n",
       " 6,\n",
       " 8,\n",
       " 3,\n",
       " 5,\n",
       " 2,\n",
       " 8,\n",
       " 9,\n",
       " 11,\n",
       " 4,\n",
       " 11,\n",
       " 4,\n",
       " 3,\n",
       " 6,\n",
       " 4,\n",
       " 2,\n",
       " 8,\n",
       " 1,\n",
       " 10,\n",
       " 1,\n",
       " 5,\n",
       " 1,\n",
       " 2,\n",
       " 4,\n",
       " 7,\n",
       " 3,\n",
       " 5,\n",
       " 9,\n",
       " 1,\n",
       " 3,\n",
       " 7,\n",
       " 4,\n",
       " 1,\n",
       " 5,\n",
       " 1,\n",
       " 3,\n",
       " 4,\n",
       " 2,\n",
       " 3,\n",
       " 2,\n",
       " 3,\n",
       " 3,\n",
       " 14,\n",
       " 7,\n",
       " 4,\n",
       " 5,\n",
       " 4,\n",
       " 3,\n",
       " 4,\n",
       " 1,\n",
       " 6,\n",
       " 8,\n",
       " 2,\n",
       " 10,\n",
       " 3,\n",
       " 3,\n",
       " 6,\n",
       " 1,\n",
       " 11,\n",
       " 6,\n",
       " 4,\n",
       " 2,\n",
       " 11,\n",
       " 4,\n",
       " 5,\n",
       " 3,\n",
       " 10,\n",
       " 3,\n",
       " 2,\n",
       " 10,\n",
       " 1,\n",
       " 9,\n",
       " 2,\n",
       " 6,\n",
       " 2,\n",
       " 7,\n",
       " 1,\n",
       " 1,\n",
       " 9,\n",
       " 2,\n",
       " 8,\n",
       " 2,\n",
       " 3,\n",
       " 10,\n",
       " 2,\n",
       " 7,\n",
       " 7,\n",
       " 2,\n",
       " 8,\n",
       " 1,\n",
       " 4,\n",
       " 6,\n",
       " 10,\n",
       " 6,\n",
       " 3,\n",
       " 5,\n",
       " 3,\n",
       " 3,\n",
       " 4,\n",
       " 6,\n",
       " 8,\n",
       " 3,\n",
       " 2,\n",
       " 3,\n",
       " 4,\n",
       " 1,\n",
       " 3,\n",
       " 7,\n",
       " 9,\n",
       " 1,\n",
       " 5,\n",
       " 1,\n",
       " 2,\n",
       " 4,\n",
       " 1,\n",
       " 3,\n",
       " 13,\n",
       " 10,\n",
       " 6,\n",
       " 7,\n",
       " 1,\n",
       " 7,\n",
       " 3,\n",
       " 2,\n",
       " 9,\n",
       " 3,\n",
       " 4,\n",
       " 2,\n",
       " 8,\n",
       " 1,\n",
       " 2,\n",
       " 4,\n",
       " 1,\n",
       " 6,\n",
       " 3,\n",
       " 9,\n",
       " 4,\n",
       " 2,\n",
       " 14,\n",
       " 8,\n",
       " 4,\n",
       " 2,\n",
       " 8,\n",
       " 3,\n",
       " 1,\n",
       " 5,\n",
       " 3,\n",
       " 7,\n",
       " 2,\n",
       " 1,\n",
       " 7,\n",
       " 4,\n",
       " 5,\n",
       " 4,\n",
       " 5,\n",
       " 3,\n",
       " 3,\n",
       " 4,\n",
       " 7,\n",
       " 4,\n",
       " 7,\n",
       " 3,\n",
       " 2,\n",
       " 8,\n",
       " 2,\n",
       " 3,\n",
       " 5,\n",
       " 1,\n",
       " 5,\n",
       " 2,\n",
       " 3,\n",
       " 7,\n",
       " 7,\n",
       " 4,\n",
       " 12,\n",
       " 5,\n",
       " 5,\n",
       " 3,\n",
       " 11,\n",
       " 3,\n",
       " 4,\n",
       " 3,\n",
       " 5,\n",
       " 1,\n",
       " 7,\n",
       " 6,\n",
       " 5,\n",
       " 6,\n",
       " 5,\n",
       " 2,\n",
       " 3,\n",
       " 8,\n",
       " 8,\n",
       " 4,\n",
       " 1,\n",
       " 4,\n",
       " 3,\n",
       " 1,\n",
       " 6,\n",
       " 2,\n",
       " 6,\n",
       " 3,\n",
       " 7,\n",
       " 6,\n",
       " 3,\n",
       " 12,\n",
       " 5,\n",
       " 3,\n",
       " 3,\n",
       " 6,\n",
       " 2,\n",
       " 1,\n",
       " 7,\n",
       " 4,\n",
       " 1,\n",
       " 1,\n",
       " 2,\n",
       " 4,\n",
       " 7,\n",
       " 1,\n",
       " 7,\n",
       " 9,\n",
       " 2,\n",
       " 6,\n",
       " 2,\n",
       " 4,\n",
       " 4,\n",
       " 2,\n",
       " 4,\n",
       " 5,\n",
       " 4,\n",
       " 4,\n",
       " 5,\n",
       " 2,\n",
       " 3,\n",
       " 7,\n",
       " 1,\n",
       " 4,\n",
       " 6,\n",
       " 7,\n",
       " 4,\n",
       " 10,\n",
       " 3,\n",
       " 4,\n",
       " 1,\n",
       " 2,\n",
       " 5,\n",
       " 2,\n",
       " 2,\n",
       " 8,\n",
       " 4,\n",
       " 4,\n",
       " 2,\n",
       " 5,\n",
       " 7,\n",
       " 3,\n",
       " 8,\n",
       " 10,\n",
       " 16,\n",
       " 8,\n",
       " 1,\n",
       " 2,\n",
       " 4,\n",
       " 5,\n",
       " 7,\n",
       " 8,\n",
       " 1,\n",
       " 4,\n",
       " 9,\n",
       " 2,\n",
       " 5,\n",
       " 9,\n",
       " 3,\n",
       " 13,\n",
       " 1,\n",
       " 4,\n",
       " 1,\n",
       " 2,\n",
       " 3,\n",
       " 3,\n",
       " 4,\n",
       " 3,\n",
       " 2,\n",
       " 9,\n",
       " 4,\n",
       " 5,\n",
       " 6,\n",
       " 4,\n",
       " 5,\n",
       " 2,\n",
       " 5,\n",
       " 3,\n",
       " 1,\n",
       " 2,\n",
       " 3,\n",
       " 2,\n",
       " 7,\n",
       " 2,\n",
       " 3,\n",
       " 4,\n",
       " 5,\n",
       " 5,\n",
       " 1,\n",
       " 6,\n",
       " 2,\n",
       " 12,\n",
       " 6,\n",
       " 5,\n",
       " 9,\n",
       " 3,\n",
       " 2,\n",
       " 5,\n",
       " 1,\n",
       " 4,\n",
       " 5,\n",
       " 4,\n",
       " 9,\n",
       " 8,\n",
       " 6,\n",
       " 7,\n",
       " 8,\n",
       " 2,\n",
       " 8,\n",
       " 5,\n",
       " 1,\n",
       " 3,\n",
       " 7,\n",
       " 9,\n",
       " 8,\n",
       " 5,\n",
       " 2,\n",
       " 3,\n",
       " 3,\n",
       " 7,\n",
       " 5,\n",
       " 7,\n",
       " 1,\n",
       " 2,\n",
       " 3,\n",
       " 2,\n",
       " 5,\n",
       " 4,\n",
       " 6,\n",
       " 5,\n",
       " 1,\n",
       " 8,\n",
       " 2,\n",
       " 1,\n",
       " 10,\n",
       " 5,\n",
       " 2,\n",
       " 4,\n",
       " 1,\n",
       " 4,\n",
       " 4,\n",
       " 1,\n",
       " 3,\n",
       " 3,\n",
       " 4,\n",
       " 5,\n",
       " 7,\n",
       " 1,\n",
       " 8,\n",
       " 6,\n",
       " 6,\n",
       " 12,\n",
       " 2,\n",
       " 9,\n",
       " 3,\n",
       " 4,\n",
       " 3,\n",
       " 7,\n",
       " 5,\n",
       " 9,\n",
       " 3,\n",
       " 1,\n",
       " 4,\n",
       " 1,\n",
       " 7,\n",
       " 8,\n",
       " 2,\n",
       " 3,\n",
       " 5,\n",
       " 1,\n",
       " 11,\n",
       " 10,\n",
       " 2,\n",
       " 1,\n",
       " 3,\n",
       " 2,\n",
       " 2,\n",
       " 4,\n",
       " 1,\n",
       " 3,\n",
       " 7,\n",
       " 5,\n",
       " 5,\n",
       " 6,\n",
       " 1,\n",
       " 9,\n",
       " 2,\n",
       " 8,\n",
       " 2,\n",
       " 1,\n",
       " 6,\n",
       " 10,\n",
       " 3,\n",
       " 7,\n",
       " 3,\n",
       " 2,\n",
       " 8,\n",
       " 9,\n",
       " 8,\n",
       " 5,\n",
       " 7,\n",
       " 4,\n",
       " 6,\n",
       " 9,\n",
       " 8,\n",
       " 2,\n",
       " 6,\n",
       " 10,\n",
       " 6,\n",
       " 5,\n",
       " 3,\n",
       " 1,\n",
       " 6,\n",
       " 6,\n",
       " 1,\n",
       " 7,\n",
       " 10,\n",
       " 3,\n",
       " 10,\n",
       " 3,\n",
       " 1,\n",
       " 4,\n",
       " 2,\n",
       " 6,\n",
       " 5,\n",
       " 7,\n",
       " 9,\n",
       " 8,\n",
       " 3,\n",
       " 7,\n",
       " 6,\n",
       " 5,\n",
       " 6,\n",
       " 1,\n",
       " 3,\n",
       " 7,\n",
       " 8,\n",
       " 3,\n",
       " 5,\n",
       " 4,\n",
       " 4,\n",
       " 2,\n",
       " 12,\n",
       " 1,\n",
       " 10,\n",
       " 2,\n",
       " 4,\n",
       " 1,\n",
       " 2,\n",
       " ...]"
      ]
     },
     "execution_count": 145,
     "metadata": {},
     "output_type": "execute_result"
    }
   ],
   "source": [
    "[len(word) for word in text7]"
   ]
  },
  {
   "cell_type": "code",
   "execution_count": 146,
   "metadata": {},
   "outputs": [
    {
     "data": {
      "text/plain": [
       "['million *U*',\n",
       " 'New York',\n",
       " 'billion *U*',\n",
       " 'Wall Street',\n",
       " 'program trading',\n",
       " 'Mrs. Yeargin',\n",
       " 'vice president',\n",
       " 'Stock Exchange',\n",
       " 'Big Board',\n",
       " 'Georgia Gulf',\n",
       " 'chief executive',\n",
       " 'Dow Jones',\n",
       " 'S&P 500',\n",
       " 'says *T*-1',\n",
       " 'York Stock',\n",
       " 'last year',\n",
       " 'Sea Containers',\n",
       " 'South Korea',\n",
       " 'American Express',\n",
       " 'San Francisco']"
      ]
     },
     "execution_count": 146,
     "metadata": {},
     "output_type": "execute_result"
    }
   ],
   "source": [
    "text7.collocation_list()"
   ]
  },
  {
   "cell_type": "code",
   "execution_count": 147,
   "metadata": {},
   "outputs": [],
   "source": [
    "fdist = FreqDist(len(w) for w in text1)"
   ]
  },
  {
   "cell_type": "code",
   "execution_count": 148,
   "metadata": {},
   "outputs": [
    {
     "name": "stdout",
     "output_type": "stream",
     "text": [
      "<FreqDist with 19 samples and 260819 outcomes>\n"
     ]
    }
   ],
   "source": [
    "print(fdist)"
   ]
  },
  {
   "cell_type": "code",
   "execution_count": 149,
   "metadata": {},
   "outputs": [
    {
     "data": {
      "text/plain": [
       "FreqDist({3: 50223, 1: 47933, 4: 42345, 2: 38513, 5: 26597, 6: 17111, 7: 14399, 8: 9966, 9: 6428, 10: 3528, ...})"
      ]
     },
     "execution_count": 149,
     "metadata": {},
     "output_type": "execute_result"
    }
   ],
   "source": [
    "fdist"
   ]
  },
  {
   "cell_type": "code",
   "execution_count": 150,
   "metadata": {},
   "outputs": [
    {
     "data": {
      "text/plain": [
       "47933"
      ]
     },
     "execution_count": 150,
     "metadata": {},
     "output_type": "execute_result"
    }
   ],
   "source": [
    "fdist[1]"
   ]
  },
  {
   "cell_type": "code",
   "execution_count": 151,
   "metadata": {},
   "outputs": [
    {
     "data": {
      "text/plain": [
       "42345"
      ]
     },
     "execution_count": 151,
     "metadata": {},
     "output_type": "execute_result"
    }
   ],
   "source": [
    "fdist[4]"
   ]
  },
  {
   "cell_type": "code",
   "execution_count": 152,
   "metadata": {},
   "outputs": [
    {
     "data": {
      "text/plain": [
       "\u001b[1;31mSignature:\u001b[0m \u001b[0mfdist\u001b[0m\u001b[1;33m.\u001b[0m\u001b[0mfreq\u001b[0m\u001b[1;33m(\u001b[0m\u001b[0msample\u001b[0m\u001b[1;33m)\u001b[0m\u001b[1;33m\u001b[0m\u001b[1;33m\u001b[0m\u001b[0m\n",
       "\u001b[1;31mDocstring:\u001b[0m\n",
       "Return the frequency of a given sample.  The frequency of a\n",
       "sample is defined as the count of that sample divided by the\n",
       "total number of sample outcomes that have been recorded by\n",
       "this FreqDist.  The count of a sample is defined as the\n",
       "number of times that sample outcome was recorded by this\n",
       "FreqDist.  Frequencies are always real numbers in the range\n",
       "[0, 1].\n",
       "\n",
       ":param sample: the sample whose frequency\n",
       "       should be returned.\n",
       ":type sample: any\n",
       ":rtype: float\n",
       "\u001b[1;31mFile:\u001b[0m      e:\\python\\lib\\site-packages\\nltk\\probability.py\n",
       "\u001b[1;31mType:\u001b[0m      method\n"
      ]
     },
     "metadata": {},
     "output_type": "display_data"
    }
   ],
   "source": [
    "fdist.freq?"
   ]
  },
  {
   "cell_type": "code",
   "execution_count": 154,
   "metadata": {},
   "outputs": [
    {
     "data": {
      "text/plain": [
       "[(3, 50223), (1, 47933), (4, 42345)]"
      ]
     },
     "execution_count": 154,
     "metadata": {},
     "output_type": "execute_result"
    }
   ],
   "source": [
    "fdist.most_common(3)"
   ]
  },
  {
   "cell_type": "code",
   "execution_count": 155,
   "metadata": {},
   "outputs": [
    {
     "data": {
      "text/plain": [
       "260819"
      ]
     },
     "execution_count": 155,
     "metadata": {},
     "output_type": "execute_result"
    }
   ],
   "source": [
    "fdist.N()"
   ]
  },
  {
   "cell_type": "code",
   "execution_count": 156,
   "metadata": {},
   "outputs": [
    {
     "data": {
      "text/plain": [
       "50223"
      ]
     },
     "execution_count": 156,
     "metadata": {},
     "output_type": "execute_result"
    }
   ],
   "source": [
    "fdist[3]"
   ]
  },
  {
   "cell_type": "code",
   "execution_count": 158,
   "metadata": {},
   "outputs": [
    {
     "data": {
      "text/plain": [
       "0.19255882431878046"
      ]
     },
     "execution_count": 158,
     "metadata": {},
     "output_type": "execute_result"
    }
   ],
   "source": [
    "fdist[3]/fdist.N()"
   ]
  },
  {
   "cell_type": "code",
   "execution_count": 159,
   "metadata": {},
   "outputs": [
    {
     "data": {
      "text/plain": [
       "0.19255882431878046"
      ]
     },
     "execution_count": 159,
     "metadata": {},
     "output_type": "execute_result"
    }
   ],
   "source": [
    "fdist.freq(3)"
   ]
  },
  {
   "cell_type": "code",
   "execution_count": 161,
   "metadata": {},
   "outputs": [
    {
     "data": {
      "image/png": "[encoded data removed]",
      "text/plain": [
       "<Figure size 432x288 with 1 Axes>"
      ]
     },
     "metadata": {
      "needs_background": "light"
     },
     "output_type": "display_data"
    },
    {
     "data": {
      "text/plain": [
       "<matplotlib.axes._subplots.AxesSubplot at 0x23cca71bcc8>"
      ]
     },
     "execution_count": 161,
     "metadata": {},
     "output_type": "execute_result"
    }
   ],
   "source": [
    "fdist.plot()"
   ]
  },
  {
   "cell_type": "code",
   "execution_count": 162,
   "metadata": {},
   "outputs": [
    {
     "data": {
      "text/plain": [
       "['comfortableness',\n",
       " 'honourableness',\n",
       " 'immutableness',\n",
       " 'indispensableness',\n",
       " 'indomitableness',\n",
       " 'intolerableness',\n",
       " 'palpableness',\n",
       " 'reasonableness',\n",
       " 'uncomfortableness']"
      ]
     },
     "execution_count": 162,
     "metadata": {},
     "output_type": "execute_result"
    }
   ],
   "source": [
    "sorted(w for w in set(text1) if w.endswith('ableness'))"
   ]
  },
  {
   "cell_type": "code",
   "execution_count": 165,
   "metadata": {},
   "outputs": [
    {
     "data": {
      "text/plain": [
       "['Sovereignty', 'sovereignties', 'sovereignty']"
      ]
     },
     "execution_count": 165,
     "metadata": {},
     "output_type": "execute_result"
    }
   ],
   "source": [
    "sorted(w for w in set(text4) if 'gnt' in w)"
   ]
  },
  {
   "cell_type": "code",
   "execution_count": 170,
   "metadata": {},
   "outputs": [
    {
     "data": {
      "text/plain": [
       "['Stock-index',\n",
       " 'index-arbitrage',\n",
       " 'index-fund',\n",
       " 'index-options',\n",
       " 'index-related',\n",
       " 'stock-index']"
      ]
     },
     "execution_count": 170,
     "metadata": {},
     "output_type": "execute_result"
    }
   ],
   "source": [
    "sorted(w for w in set(text7) if '-' in w and 'index' in w)"
   ]
  },
  {
   "cell_type": "code",
   "execution_count": 171,
   "metadata": {},
   "outputs": [
    {
     "data": {
      "text/plain": [
       "['Abelmizraim',\n",
       " 'Allonbachuth',\n",
       " 'Beerlahairoi',\n",
       " 'Canaanitish',\n",
       " 'Chedorlaomer',\n",
       " 'Girgashites',\n",
       " 'Hazarmaveth',\n",
       " 'Hazezontamar',\n",
       " 'Ishmeelites',\n",
       " 'Jegarsahadutha',\n",
       " 'Jehovahjireh',\n",
       " 'Kirjatharba',\n",
       " 'Melchizedek',\n",
       " 'Mesopotamia',\n",
       " 'Peradventure',\n",
       " 'Philistines',\n",
       " 'Zaphnathpaaneah']"
      ]
     },
     "execution_count": 171,
     "metadata": {},
     "output_type": "execute_result"
    }
   ],
   "source": [
    "sorted(wd for wd in set(text3) if wd.istitle() and len(wd) > 10)"
   ]
  },
  {
   "cell_type": "code",
   "execution_count": 172,
   "metadata": {},
   "outputs": [
    {
     "data": {
      "text/plain": [
       "[',', '.', '29', '61', 'Nov.', 'Pierre', 'Vinken']"
      ]
     },
     "execution_count": 172,
     "metadata": {},
     "output_type": "execute_result"
    }
   ],
   "source": [
    "sorted(w for w in set(sent7) if not w.islower())"
   ]
  },
  {
   "cell_type": "code",
   "execution_count": 173,
   "metadata": {},
   "outputs": [
    {
     "data": {
      "text/plain": [
       "['ancient',\n",
       " 'ceiling',\n",
       " 'conceit',\n",
       " 'conceited',\n",
       " 'conceive',\n",
       " 'conscience',\n",
       " 'conscientious',\n",
       " 'conscientiously',\n",
       " 'deceitful',\n",
       " 'deceive',\n",
       " 'deceived',\n",
       " 'deceiving',\n",
       " 'deficiencies',\n",
       " 'deficiency',\n",
       " 'deficient',\n",
       " 'delicacies',\n",
       " 'excellencies',\n",
       " 'fancied',\n",
       " 'insufficiency',\n",
       " 'insufficient',\n",
       " 'legacies',\n",
       " 'perceive',\n",
       " 'perceived',\n",
       " 'perceiving',\n",
       " 'prescience',\n",
       " 'prophecies',\n",
       " 'receipt',\n",
       " 'receive',\n",
       " 'received',\n",
       " 'receiving',\n",
       " 'society',\n",
       " 'species',\n",
       " 'sufficient',\n",
       " 'sufficiently',\n",
       " 'undeceive',\n",
       " 'undeceiving']"
      ]
     },
     "execution_count": 173,
     "metadata": {},
     "output_type": "execute_result"
    }
   ],
   "source": [
    "sorted(t for t in set(text2) if 'cie' in t or 'cei' in t)"
   ]
  },
  {
   "cell_type": "code",
   "execution_count": 174,
   "metadata": {},
   "outputs": [
    {
     "data": {
      "text/plain": [
       "16948"
      ]
     },
     "execution_count": 174,
     "metadata": {},
     "output_type": "execute_result"
    }
   ],
   "source": [
    "len(set(word.lower() for word in text1 if word.isalpha()))"
   ]
  },
  {
   "cell_type": "code",
   "execution_count": 179,
   "metadata": {},
   "outputs": [
    {
     "data": {
      "text/plain": [
       "2"
      ]
     },
     "execution_count": 179,
     "metadata": {},
     "output_type": "execute_result"
    }
   ],
   "source": [
    "len(set(w.islower() for w in text1))"
   ]
  },
  {
   "cell_type": "code",
   "execution_count": 180,
   "metadata": {},
   "outputs": [],
   "source": [
    "a = [w.islower() for w in text1]"
   ]
  },
  {
   "cell_type": "code",
   "execution_count": 187,
   "metadata": {},
   "outputs": [
    {
     "data": {
      "text/plain": [
       "3"
      ]
     },
     "execution_count": 187,
     "metadata": {},
     "output_type": "execute_result"
    }
   ],
   "source": [
    "a.index(True)"
   ]
  },
  {
   "cell_type": "code",
   "execution_count": 182,
   "metadata": {},
   "outputs": [],
   "source": [
    "b = [word.lower() for word in text1 if word.isalpha()]"
   ]
  },
  {
   "cell_type": "code",
   "execution_count": 183,
   "metadata": {},
   "outputs": [
    {
     "data": {
      "text/plain": [
       "['moby',\n",
       " 'dick',\n",
       " 'by',\n",
       " 'herman',\n",
       " 'melville',\n",
       " 'etymology',\n",
       " 'supplied',\n",
       " 'by',\n",
       " 'a',\n",
       " 'late',\n",
       " 'consumptive',\n",
       " 'usher',\n",
       " 'to',\n",
       " 'a',\n",
       " 'grammar',\n",
       " 'school',\n",
       " 'the',\n",
       " 'pale',\n",
       " 'usher',\n",
       " 'threadbare',\n",
       " 'in',\n",
       " 'coat',\n",
       " 'heart',\n",
       " 'body',\n",
       " 'and',\n",
       " 'brain',\n",
       " 'i',\n",
       " 'see',\n",
       " 'him',\n",
       " 'now',\n",
       " 'he',\n",
       " 'was',\n",
       " 'ever',\n",
       " 'dusting',\n",
       " 'his',\n",
       " 'old',\n",
       " 'lexicons',\n",
       " 'and',\n",
       " 'grammars',\n",
       " 'with',\n",
       " 'a',\n",
       " 'queer',\n",
       " 'handkerchief',\n",
       " 'mockingly',\n",
       " 'embellished',\n",
       " 'with',\n",
       " 'all',\n",
       " 'the',\n",
       " 'gay',\n",
       " 'flags',\n",
       " 'of',\n",
       " 'all',\n",
       " 'the',\n",
       " 'known',\n",
       " 'nations',\n",
       " 'of',\n",
       " 'the',\n",
       " 'world',\n",
       " 'he',\n",
       " 'loved',\n",
       " 'to',\n",
       " 'dust',\n",
       " 'his',\n",
       " 'old',\n",
       " 'grammars',\n",
       " 'it',\n",
       " 'somehow',\n",
       " 'mildly',\n",
       " 'reminded',\n",
       " 'him',\n",
       " 'of',\n",
       " 'his',\n",
       " 'mortality',\n",
       " 'while',\n",
       " 'you',\n",
       " 'take',\n",
       " 'in',\n",
       " 'hand',\n",
       " 'to',\n",
       " 'school',\n",
       " 'others',\n",
       " 'and',\n",
       " 'to',\n",
       " 'teach',\n",
       " 'them',\n",
       " 'by',\n",
       " 'what',\n",
       " 'name',\n",
       " 'a',\n",
       " 'whale',\n",
       " 'fish',\n",
       " 'is',\n",
       " 'to',\n",
       " 'be',\n",
       " 'called',\n",
       " 'in',\n",
       " 'our',\n",
       " 'tongue',\n",
       " 'leaving',\n",
       " 'out',\n",
       " 'through',\n",
       " 'ignorance',\n",
       " 'the',\n",
       " 'letter',\n",
       " 'h',\n",
       " 'which',\n",
       " 'almost',\n",
       " 'alone',\n",
       " 'maketh',\n",
       " 'the',\n",
       " 'signification',\n",
       " 'of',\n",
       " 'the',\n",
       " 'word',\n",
       " 'you',\n",
       " 'deliver',\n",
       " 'that',\n",
       " 'which',\n",
       " 'is',\n",
       " 'not',\n",
       " 'true',\n",
       " 'hackluyt',\n",
       " 'whale',\n",
       " 'sw',\n",
       " 'and',\n",
       " 'dan',\n",
       " 'hval',\n",
       " 'this',\n",
       " 'animal',\n",
       " 'is',\n",
       " 'named',\n",
       " 'from',\n",
       " 'roundness',\n",
       " 'or',\n",
       " 'rolling',\n",
       " 'for',\n",
       " 'in',\n",
       " 'dan',\n",
       " 'hvalt',\n",
       " 'is',\n",
       " 'arched',\n",
       " 'or',\n",
       " 'vaulted',\n",
       " 'webster',\n",
       " 's',\n",
       " 'dictionary',\n",
       " 'whale',\n",
       " 'it',\n",
       " 'is',\n",
       " 'more',\n",
       " 'immediately',\n",
       " 'from',\n",
       " 'the',\n",
       " 'dut',\n",
       " 'and',\n",
       " 'ger',\n",
       " 'wallen',\n",
       " 'a',\n",
       " 's',\n",
       " 'walw',\n",
       " 'ian',\n",
       " 'to',\n",
       " 'roll',\n",
       " 'to',\n",
       " 'wallow',\n",
       " 'richardson',\n",
       " 's',\n",
       " 'dictionary',\n",
       " 'ketos',\n",
       " 'greek',\n",
       " 'cetus',\n",
       " 'latin',\n",
       " 'whoel',\n",
       " 'anglo',\n",
       " 'saxon',\n",
       " 'hvalt',\n",
       " 'danish',\n",
       " 'wal',\n",
       " 'dutch',\n",
       " 'hwal',\n",
       " 'swedish',\n",
       " 'whale',\n",
       " 'icelandic',\n",
       " 'whale',\n",
       " 'english',\n",
       " 'baleine',\n",
       " 'french',\n",
       " 'ballena',\n",
       " 'spanish',\n",
       " 'pekee',\n",
       " 'nuee',\n",
       " 'nuee',\n",
       " 'fegee',\n",
       " 'pekee',\n",
       " 'nuee',\n",
       " 'nuee',\n",
       " 'erromangoan',\n",
       " 'extracts',\n",
       " 'supplied',\n",
       " 'by',\n",
       " 'a',\n",
       " 'sub',\n",
       " 'sub',\n",
       " 'librarian',\n",
       " 'it',\n",
       " 'will',\n",
       " 'be',\n",
       " 'seen',\n",
       " 'that',\n",
       " 'this',\n",
       " 'mere',\n",
       " 'painstaking',\n",
       " 'burrower',\n",
       " 'and',\n",
       " 'grub',\n",
       " 'worm',\n",
       " 'of',\n",
       " 'a',\n",
       " 'poor',\n",
       " 'devil',\n",
       " 'of',\n",
       " 'a',\n",
       " 'sub',\n",
       " 'sub',\n",
       " 'appears',\n",
       " 'to',\n",
       " 'have',\n",
       " 'gone',\n",
       " 'through',\n",
       " 'the',\n",
       " 'long',\n",
       " 'vaticans',\n",
       " 'and',\n",
       " 'street',\n",
       " 'stalls',\n",
       " 'of',\n",
       " 'the',\n",
       " 'earth',\n",
       " 'picking',\n",
       " 'up',\n",
       " 'whatever',\n",
       " 'random',\n",
       " 'allusions',\n",
       " 'to',\n",
       " 'whales',\n",
       " 'he',\n",
       " 'could',\n",
       " 'anyways',\n",
       " 'find',\n",
       " 'in',\n",
       " 'any',\n",
       " 'book',\n",
       " 'whatsoever',\n",
       " 'sacred',\n",
       " 'or',\n",
       " 'profane',\n",
       " 'therefore',\n",
       " 'you',\n",
       " 'must',\n",
       " 'not',\n",
       " 'in',\n",
       " 'every',\n",
       " 'case',\n",
       " 'at',\n",
       " 'least',\n",
       " 'take',\n",
       " 'the',\n",
       " 'higgledy',\n",
       " 'piggledy',\n",
       " 'whale',\n",
       " 'statements',\n",
       " 'however',\n",
       " 'authentic',\n",
       " 'in',\n",
       " 'these',\n",
       " 'extracts',\n",
       " 'for',\n",
       " 'veritable',\n",
       " 'gospel',\n",
       " 'cetology',\n",
       " 'far',\n",
       " 'from',\n",
       " 'it',\n",
       " 'as',\n",
       " 'touching',\n",
       " 'the',\n",
       " 'ancient',\n",
       " 'authors',\n",
       " 'generally',\n",
       " 'as',\n",
       " 'well',\n",
       " 'as',\n",
       " 'the',\n",
       " 'poets',\n",
       " 'here',\n",
       " 'appearing',\n",
       " 'these',\n",
       " 'extracts',\n",
       " 'are',\n",
       " 'solely',\n",
       " 'valuable',\n",
       " 'or',\n",
       " 'entertaining',\n",
       " 'as',\n",
       " 'affording',\n",
       " 'a',\n",
       " 'glancing',\n",
       " 'bird',\n",
       " 's',\n",
       " 'eye',\n",
       " 'view',\n",
       " 'of',\n",
       " 'what',\n",
       " 'has',\n",
       " 'been',\n",
       " 'promiscuously',\n",
       " 'said',\n",
       " 'thought',\n",
       " 'fancied',\n",
       " 'and',\n",
       " 'sung',\n",
       " 'of',\n",
       " 'leviathan',\n",
       " 'by',\n",
       " 'many',\n",
       " 'nations',\n",
       " 'and',\n",
       " 'generations',\n",
       " 'including',\n",
       " 'our',\n",
       " 'own',\n",
       " 'so',\n",
       " 'fare',\n",
       " 'thee',\n",
       " 'well',\n",
       " 'poor',\n",
       " 'devil',\n",
       " 'of',\n",
       " 'a',\n",
       " 'sub',\n",
       " 'sub',\n",
       " 'whose',\n",
       " 'commentator',\n",
       " 'i',\n",
       " 'am',\n",
       " 'thou',\n",
       " 'belongest',\n",
       " 'to',\n",
       " 'that',\n",
       " 'hopeless',\n",
       " 'sallow',\n",
       " 'tribe',\n",
       " 'which',\n",
       " 'no',\n",
       " 'wine',\n",
       " 'of',\n",
       " 'this',\n",
       " 'world',\n",
       " 'will',\n",
       " 'ever',\n",
       " 'warm',\n",
       " 'and',\n",
       " 'for',\n",
       " 'whom',\n",
       " 'even',\n",
       " 'pale',\n",
       " 'sherry',\n",
       " 'would',\n",
       " 'be',\n",
       " 'too',\n",
       " 'rosy',\n",
       " 'strong',\n",
       " 'but',\n",
       " 'with',\n",
       " 'whom',\n",
       " 'one',\n",
       " 'sometimes',\n",
       " 'loves',\n",
       " 'to',\n",
       " 'sit',\n",
       " 'and',\n",
       " 'feel',\n",
       " 'poor',\n",
       " 'devilish',\n",
       " 'too',\n",
       " 'and',\n",
       " 'grow',\n",
       " 'convivial',\n",
       " 'upon',\n",
       " 'tears',\n",
       " 'and',\n",
       " 'say',\n",
       " 'to',\n",
       " 'them',\n",
       " 'bluntly',\n",
       " 'with',\n",
       " 'full',\n",
       " 'eyes',\n",
       " 'and',\n",
       " 'empty',\n",
       " 'glasses',\n",
       " 'and',\n",
       " 'in',\n",
       " 'not',\n",
       " 'altogether',\n",
       " 'unpleasant',\n",
       " 'sadness',\n",
       " 'give',\n",
       " 'it',\n",
       " 'up',\n",
       " 'sub',\n",
       " 'subs',\n",
       " 'for',\n",
       " 'by',\n",
       " 'how',\n",
       " 'much',\n",
       " 'the',\n",
       " 'more',\n",
       " 'pains',\n",
       " 'ye',\n",
       " 'take',\n",
       " 'to',\n",
       " 'please',\n",
       " 'the',\n",
       " 'world',\n",
       " 'by',\n",
       " 'so',\n",
       " 'much',\n",
       " 'the',\n",
       " 'more',\n",
       " 'shall',\n",
       " 'ye',\n",
       " 'for',\n",
       " 'ever',\n",
       " 'go',\n",
       " 'thankless',\n",
       " 'would',\n",
       " 'that',\n",
       " 'i',\n",
       " 'could',\n",
       " 'clear',\n",
       " 'out',\n",
       " 'hampton',\n",
       " 'court',\n",
       " 'and',\n",
       " 'the',\n",
       " 'tuileries',\n",
       " 'for',\n",
       " 'ye',\n",
       " 'but',\n",
       " 'gulp',\n",
       " 'down',\n",
       " 'your',\n",
       " 'tears',\n",
       " 'and',\n",
       " 'hie',\n",
       " 'aloft',\n",
       " 'to',\n",
       " 'the',\n",
       " 'royal',\n",
       " 'mast',\n",
       " 'with',\n",
       " 'your',\n",
       " 'hearts',\n",
       " 'for',\n",
       " 'your',\n",
       " 'friends',\n",
       " 'who',\n",
       " 'have',\n",
       " 'gone',\n",
       " 'before',\n",
       " 'are',\n",
       " 'clearing',\n",
       " 'out',\n",
       " 'the',\n",
       " 'seven',\n",
       " 'storied',\n",
       " 'heavens',\n",
       " 'and',\n",
       " 'making',\n",
       " 'refugees',\n",
       " 'of',\n",
       " 'long',\n",
       " 'pampered',\n",
       " 'gabriel',\n",
       " 'michael',\n",
       " 'and',\n",
       " 'raphael',\n",
       " 'against',\n",
       " 'your',\n",
       " 'coming',\n",
       " 'here',\n",
       " 'ye',\n",
       " 'strike',\n",
       " 'but',\n",
       " 'splintered',\n",
       " 'hearts',\n",
       " 'together',\n",
       " 'there',\n",
       " 'ye',\n",
       " 'shall',\n",
       " 'strike',\n",
       " 'unsplinterable',\n",
       " 'glasses',\n",
       " 'extracts',\n",
       " 'and',\n",
       " 'god',\n",
       " 'created',\n",
       " 'great',\n",
       " 'whales',\n",
       " 'genesis',\n",
       " 'leviathan',\n",
       " 'maketh',\n",
       " 'a',\n",
       " 'path',\n",
       " 'to',\n",
       " 'shine',\n",
       " 'after',\n",
       " 'him',\n",
       " 'one',\n",
       " 'would',\n",
       " 'think',\n",
       " 'the',\n",
       " 'deep',\n",
       " 'to',\n",
       " 'be',\n",
       " 'hoary',\n",
       " 'job',\n",
       " 'now',\n",
       " 'the',\n",
       " 'lord',\n",
       " 'had',\n",
       " 'prepared',\n",
       " 'a',\n",
       " 'great',\n",
       " 'fish',\n",
       " 'to',\n",
       " 'swallow',\n",
       " 'up',\n",
       " 'jonah',\n",
       " 'jonah',\n",
       " 'there',\n",
       " 'go',\n",
       " 'the',\n",
       " 'ships',\n",
       " 'there',\n",
       " 'is',\n",
       " 'that',\n",
       " 'leviathan',\n",
       " 'whom',\n",
       " 'thou',\n",
       " 'hast',\n",
       " 'made',\n",
       " 'to',\n",
       " 'play',\n",
       " 'therein',\n",
       " 'psalms',\n",
       " 'in',\n",
       " 'that',\n",
       " 'day',\n",
       " 'the',\n",
       " 'lord',\n",
       " 'with',\n",
       " 'his',\n",
       " 'sore',\n",
       " 'and',\n",
       " 'great',\n",
       " 'and',\n",
       " 'strong',\n",
       " 'sword',\n",
       " 'shall',\n",
       " 'punish',\n",
       " 'leviathan',\n",
       " 'the',\n",
       " 'piercing',\n",
       " 'serpent',\n",
       " 'even',\n",
       " 'leviathan',\n",
       " 'that',\n",
       " 'crooked',\n",
       " 'serpent',\n",
       " 'and',\n",
       " 'he',\n",
       " 'shall',\n",
       " 'slay',\n",
       " 'the',\n",
       " 'dragon',\n",
       " 'that',\n",
       " 'is',\n",
       " 'in',\n",
       " 'the',\n",
       " 'sea',\n",
       " 'isaiah',\n",
       " 'and',\n",
       " 'what',\n",
       " 'thing',\n",
       " 'soever',\n",
       " 'besides',\n",
       " 'cometh',\n",
       " 'within',\n",
       " 'the',\n",
       " 'chaos',\n",
       " 'of',\n",
       " 'this',\n",
       " 'monster',\n",
       " 's',\n",
       " 'mouth',\n",
       " 'be',\n",
       " 'it',\n",
       " 'beast',\n",
       " 'boat',\n",
       " 'or',\n",
       " 'stone',\n",
       " 'down',\n",
       " 'it',\n",
       " 'goes',\n",
       " 'all',\n",
       " 'incontinently',\n",
       " 'that',\n",
       " 'foul',\n",
       " 'great',\n",
       " 'swallow',\n",
       " 'of',\n",
       " 'his',\n",
       " 'and',\n",
       " 'perisheth',\n",
       " 'in',\n",
       " 'the',\n",
       " 'bottomless',\n",
       " 'gulf',\n",
       " 'of',\n",
       " 'his',\n",
       " 'paunch',\n",
       " 'holland',\n",
       " 's',\n",
       " 'plutarch',\n",
       " 's',\n",
       " 'morals',\n",
       " 'the',\n",
       " 'indian',\n",
       " 'sea',\n",
       " 'breedeth',\n",
       " 'the',\n",
       " 'most',\n",
       " 'and',\n",
       " 'the',\n",
       " 'biggest',\n",
       " 'fishes',\n",
       " 'that',\n",
       " 'are',\n",
       " 'among',\n",
       " 'which',\n",
       " 'the',\n",
       " 'whales',\n",
       " 'and',\n",
       " 'whirlpooles',\n",
       " 'called',\n",
       " 'balaene',\n",
       " 'take',\n",
       " 'up',\n",
       " 'as',\n",
       " 'much',\n",
       " 'in',\n",
       " 'length',\n",
       " 'as',\n",
       " 'four',\n",
       " 'acres',\n",
       " 'or',\n",
       " 'arpens',\n",
       " 'of',\n",
       " 'land',\n",
       " 'holland',\n",
       " 's',\n",
       " 'pliny',\n",
       " 'scarcely',\n",
       " 'had',\n",
       " 'we',\n",
       " 'proceeded',\n",
       " 'two',\n",
       " 'days',\n",
       " 'on',\n",
       " 'the',\n",
       " 'sea',\n",
       " 'when',\n",
       " 'about',\n",
       " 'sunrise',\n",
       " 'a',\n",
       " 'great',\n",
       " 'many',\n",
       " 'whales',\n",
       " 'and',\n",
       " 'other',\n",
       " 'monsters',\n",
       " 'of',\n",
       " 'the',\n",
       " 'sea',\n",
       " 'appeared',\n",
       " 'among',\n",
       " 'the',\n",
       " 'former',\n",
       " 'one',\n",
       " 'was',\n",
       " 'of',\n",
       " 'a',\n",
       " 'most',\n",
       " 'monstrous',\n",
       " 'size',\n",
       " 'this',\n",
       " 'came',\n",
       " 'towards',\n",
       " 'us',\n",
       " 'open',\n",
       " 'mouthed',\n",
       " 'raising',\n",
       " 'the',\n",
       " 'waves',\n",
       " 'on',\n",
       " 'all',\n",
       " 'sides',\n",
       " 'and',\n",
       " 'beating',\n",
       " 'the',\n",
       " 'sea',\n",
       " 'before',\n",
       " 'him',\n",
       " 'into',\n",
       " 'a',\n",
       " 'foam',\n",
       " 'tooke',\n",
       " 's',\n",
       " 'lucian',\n",
       " 'the',\n",
       " 'true',\n",
       " 'history',\n",
       " 'he',\n",
       " 'visited',\n",
       " 'this',\n",
       " 'country',\n",
       " 'also',\n",
       " 'with',\n",
       " 'a',\n",
       " 'view',\n",
       " 'of',\n",
       " 'catching',\n",
       " 'horse',\n",
       " 'whales',\n",
       " 'which',\n",
       " 'had',\n",
       " 'bones',\n",
       " 'of',\n",
       " 'very',\n",
       " 'great',\n",
       " 'value',\n",
       " 'for',\n",
       " 'their',\n",
       " 'teeth',\n",
       " 'of',\n",
       " 'which',\n",
       " 'he',\n",
       " 'brought',\n",
       " 'some',\n",
       " 'to',\n",
       " 'the',\n",
       " 'king',\n",
       " 'the',\n",
       " 'best',\n",
       " 'whales',\n",
       " 'were',\n",
       " 'catched',\n",
       " 'in',\n",
       " 'his',\n",
       " 'own',\n",
       " 'country',\n",
       " 'of',\n",
       " 'which',\n",
       " 'some',\n",
       " 'were',\n",
       " 'forty',\n",
       " 'eight',\n",
       " 'some',\n",
       " 'fifty',\n",
       " 'yards',\n",
       " 'long',\n",
       " 'he',\n",
       " 'said',\n",
       " 'that',\n",
       " 'he',\n",
       " 'was',\n",
       " 'one',\n",
       " 'of',\n",
       " 'six',\n",
       " 'who',\n",
       " 'had',\n",
       " 'killed',\n",
       " 'sixty',\n",
       " 'in',\n",
       " 'two',\n",
       " 'days',\n",
       " 'other',\n",
       " 'or',\n",
       " 'octher',\n",
       " 's',\n",
       " 'verbal',\n",
       " 'narrative',\n",
       " 'taken',\n",
       " 'down',\n",
       " 'from',\n",
       " 'his',\n",
       " 'mouth',\n",
       " 'by',\n",
       " 'king',\n",
       " 'alfred',\n",
       " 'a',\n",
       " 'd',\n",
       " 'and',\n",
       " 'whereas',\n",
       " 'all',\n",
       " 'the',\n",
       " 'other',\n",
       " 'things',\n",
       " 'whether',\n",
       " 'beast',\n",
       " 'or',\n",
       " 'vessel',\n",
       " 'that',\n",
       " 'enter',\n",
       " 'into',\n",
       " 'the',\n",
       " 'dreadful',\n",
       " 'gulf',\n",
       " 'of',\n",
       " 'this',\n",
       " 'monster',\n",
       " 's',\n",
       " 'whale',\n",
       " 's',\n",
       " 'mouth',\n",
       " 'are',\n",
       " 'immediately',\n",
       " 'lost',\n",
       " 'and',\n",
       " 'swallowed',\n",
       " 'up',\n",
       " 'the',\n",
       " 'sea',\n",
       " 'gudgeon',\n",
       " 'retires',\n",
       " 'into',\n",
       " 'it',\n",
       " 'in',\n",
       " 'great',\n",
       " 'security',\n",
       " 'and',\n",
       " 'there',\n",
       " 'sleeps',\n",
       " 'montaigne',\n",
       " 'apology',\n",
       " 'for',\n",
       " 'raimond',\n",
       " 'sebond',\n",
       " 'let',\n",
       " 'us',\n",
       " 'fly',\n",
       " 'let',\n",
       " 'us',\n",
       " 'fly',\n",
       " 'old',\n",
       " 'nick',\n",
       " 'take',\n",
       " 'me',\n",
       " 'if',\n",
       " 'is',\n",
       " 'not',\n",
       " 'leviathan',\n",
       " 'described',\n",
       " 'by',\n",
       " 'the',\n",
       " 'noble',\n",
       " 'prophet',\n",
       " 'moses',\n",
       " 'in',\n",
       " 'the',\n",
       " 'life',\n",
       " 'of',\n",
       " 'patient',\n",
       " 'job',\n",
       " 'rabelais',\n",
       " 'this',\n",
       " 'whale',\n",
       " 's',\n",
       " 'liver',\n",
       " 'was',\n",
       " 'two',\n",
       " 'cartloads',\n",
       " 'stowe',\n",
       " 's',\n",
       " 'annals',\n",
       " 'the',\n",
       " 'great',\n",
       " 'leviathan',\n",
       " 'that',\n",
       " 'maketh',\n",
       " 'the',\n",
       " 'seas',\n",
       " 'to',\n",
       " 'seethe',\n",
       " 'like',\n",
       " 'boiling',\n",
       " 'pan',\n",
       " 'lord',\n",
       " 'bacon',\n",
       " 's',\n",
       " 'version',\n",
       " 'of',\n",
       " 'the',\n",
       " 'psalms',\n",
       " 'touching',\n",
       " 'that',\n",
       " 'monstrous',\n",
       " 'bulk',\n",
       " 'of',\n",
       " 'the',\n",
       " 'whale',\n",
       " 'or',\n",
       " 'ork',\n",
       " 'we',\n",
       " 'have',\n",
       " 'received',\n",
       " 'nothing',\n",
       " 'certain',\n",
       " 'they',\n",
       " 'grow',\n",
       " 'exceeding',\n",
       " 'fat',\n",
       " 'insomuch',\n",
       " 'that',\n",
       " 'an',\n",
       " 'incredible',\n",
       " 'quantity',\n",
       " 'of',\n",
       " 'oil',\n",
       " 'will',\n",
       " 'be',\n",
       " 'extracted',\n",
       " 'out',\n",
       " 'of',\n",
       " 'one',\n",
       " 'whale',\n",
       " 'ibid',\n",
       " 'history',\n",
       " 'of',\n",
       " 'life',\n",
       " 'and',\n",
       " 'death',\n",
       " 'the',\n",
       " 'sovereignest',\n",
       " 'thing',\n",
       " 'on',\n",
       " 'earth',\n",
       " 'is',\n",
       " 'parmacetti',\n",
       " 'for',\n",
       " 'an',\n",
       " 'inward',\n",
       " 'bruise',\n",
       " 'king',\n",
       " 'henry',\n",
       " 'very',\n",
       " 'like',\n",
       " 'a',\n",
       " 'whale',\n",
       " 'hamlet',\n",
       " 'which',\n",
       " 'to',\n",
       " 'secure',\n",
       " 'no',\n",
       " 'skill',\n",
       " 'of',\n",
       " 'leach',\n",
       " 's',\n",
       " 'art',\n",
       " 'mote',\n",
       " 'him',\n",
       " 'availle',\n",
       " 'but',\n",
       " 'to',\n",
       " 'returne',\n",
       " 'againe',\n",
       " 'to',\n",
       " 'his',\n",
       " 'wound',\n",
       " 's',\n",
       " 'worker',\n",
       " 'that',\n",
       " 'with',\n",
       " 'lowly',\n",
       " 'dart',\n",
       " 'dinting',\n",
       " 'his',\n",
       " 'breast',\n",
       " ...]"
      ]
     },
     "execution_count": 183,
     "metadata": {},
     "output_type": "execute_result"
    }
   ],
   "source": [
    "b"
   ]
  },
  {
   "cell_type": "code",
   "execution_count": 188,
   "metadata": {},
   "outputs": [
    {
     "name": "stdout",
     "output_type": "stream",
     "text": [
      "word length is less than 5\n"
     ]
    }
   ],
   "source": [
    ">>> word = 'cat'\n",
    ">>> if len(word) < 5:\n",
    "...     print('word length is less than 5')\n",
    "... "
   ]
  },
  {
   "cell_type": "code",
   "execution_count": 189,
   "metadata": {},
   "outputs": [],
   "source": [
    "a = sorted(w for w in set(text2) if 'cie' in w or 'cei' in w)"
   ]
  },
  {
   "cell_type": "code",
   "execution_count": 192,
   "metadata": {},
   "outputs": [
    {
     "name": "stdout",
     "output_type": "stream",
     "text": [
      "ancient ceiling conceit conceited conceive conscience conscientious conscientiously deceitful deceive deceived deceiving deficiencies deficiency deficient delicacies excellencies fancied insufficiency insufficient legacies perceive perceived perceiving prescience prophecies receipt receive received receiving society species sufficient sufficiently undeceive undeceiving "
     ]
    }
   ],
   "source": [
    "for word in a:\n",
    "    print(word, end = \" \")"
   ]
  },
  {
   "cell_type": "code",
   "execution_count": 193,
   "metadata": {},
   "outputs": [
    {
     "data": {
      "text/plain": [
       "\u001b[1;31mDocstring:\u001b[0m\n",
       "print(value, ..., sep=' ', end='\\n', file=sys.stdout, flush=False)\n",
       "\n",
       "Prints the values to a stream, or to sys.stdout by default.\n",
       "Optional keyword arguments:\n",
       "file:  a file-like object (stream); defaults to the current sys.stdout.\n",
       "sep:   string inserted between values, default a space.\n",
       "end:   string appended after the last value, default a newline.\n",
       "flush: whether to forcibly flush the stream.\n",
       "\u001b[1;31mType:\u001b[0m      builtin_function_or_method\n"
      ]
     },
     "metadata": {},
     "output_type": "display_data"
    }
   ],
   "source": [
    "print?"
   ]
  },
  {
   "cell_type": "code",
   "execution_count": 196,
   "metadata": {},
   "outputs": [
    {
     "ename": "TypeError",
     "evalue": "count() missing 1 required positional argument: 'word'",
     "output_type": "error",
     "traceback": [
      "\u001b[1;31m---------------------------------------------------------------------------\u001b[0m",
      "\u001b[1;31mTypeError\u001b[0m                                 Traceback (most recent call last)",
      "\u001b[1;32m<ipython-input-196-53e0c11f7627>\u001b[0m in \u001b[0;36m<module>\u001b[1;34m\u001b[0m\n\u001b[1;32m----> 1\u001b[1;33m \u001b[0mtext2\u001b[0m\u001b[1;33m.\u001b[0m\u001b[0mcount\u001b[0m\u001b[1;33m(\u001b[0m\u001b[1;33m)\u001b[0m\u001b[1;33m\u001b[0m\u001b[1;33m\u001b[0m\u001b[0m\n\u001b[0m",
      "\u001b[1;31mTypeError\u001b[0m: count() missing 1 required positional argument: 'word'"
     ]
    }
   ],
   "source": [
    "text2.count()"
   ]
  },
  {
   "cell_type": "code",
   "execution_count": 197,
   "metadata": {},
   "outputs": [
    {
     "data": {
      "text/plain": [
       "141576"
      ]
     },
     "execution_count": 197,
     "metadata": {},
     "output_type": "execute_result"
    }
   ],
   "source": [
    "len(text2)"
   ]
  },
  {
   "cell_type": "code",
   "execution_count": 198,
   "metadata": {},
   "outputs": [
    {
     "data": {
      "text/plain": [
       "6833"
      ]
     },
     "execution_count": 198,
     "metadata": {},
     "output_type": "execute_result"
    }
   ],
   "source": [
    "len(set(text2))"
   ]
  },
  {
   "cell_type": "code",
   "execution_count": 199,
   "metadata": {},
   "outputs": [
    {
     "data": {
      "text/plain": [
       "{'why',\n",
       " 'defects',\n",
       " 'petty',\n",
       " 'advice',\n",
       " 'bowed',\n",
       " 'inn',\n",
       " 'reconciliation',\n",
       " 'spot',\n",
       " 'hence',\n",
       " '7',\n",
       " 'women',\n",
       " 'unequivocal',\n",
       " 'soon',\n",
       " 'detest',\n",
       " 'Upon',\n",
       " 'vain',\n",
       " 'call',\n",
       " 'subsist',\n",
       " 'weddings',\n",
       " 'advised',\n",
       " 'slightest',\n",
       " 'enthusiasm',\n",
       " 'imperfections',\n",
       " 'blindly',\n",
       " 'acquit',\n",
       " 'tea',\n",
       " 'comforted',\n",
       " 'landlord',\n",
       " 'talked',\n",
       " 'resolving',\n",
       " 'THEM',\n",
       " 'scorning',\n",
       " 'You',\n",
       " 'pleasantness',\n",
       " 'civility',\n",
       " 'politely',\n",
       " 'employed',\n",
       " 'hopes',\n",
       " 'grass',\n",
       " 'Born',\n",
       " 'trace',\n",
       " 'mediation',\n",
       " 'ignorance',\n",
       " 'bedchamber',\n",
       " 'incessantly',\n",
       " 'clever',\n",
       " 'fortunately',\n",
       " 'older',\n",
       " 'disapprove',\n",
       " 'gardener',\n",
       " 'promontories',\n",
       " 'toothpick',\n",
       " 'dissembling',\n",
       " 'speaks',\n",
       " 'would',\n",
       " 'turns',\n",
       " 'deprive',\n",
       " 'repose',\n",
       " 'holding',\n",
       " 'Temple',\n",
       " 'Brandon',\n",
       " 'OCCASION',\n",
       " 'fashion',\n",
       " \",'\",\n",
       " 'cares',\n",
       " 'strictly',\n",
       " 'stating',\n",
       " 'uniform',\n",
       " 'thankful',\n",
       " 'trifling',\n",
       " 'nicety',\n",
       " 'assisted',\n",
       " 'remembers',\n",
       " 'rare',\n",
       " 'repine',\n",
       " 'real',\n",
       " 'unlocked',\n",
       " 'wrought',\n",
       " 'blinded',\n",
       " 'begging',\n",
       " 'sending',\n",
       " 'lips',\n",
       " 'Early',\n",
       " 'Five',\n",
       " 'tedious',\n",
       " 'harmony',\n",
       " 'separate',\n",
       " 'guarded',\n",
       " 'ours',\n",
       " 'adhering',\n",
       " 'froid',\n",
       " 'whist',\n",
       " 'enclosure',\n",
       " 'delightfully',\n",
       " 'disapproved',\n",
       " 'eclat',\n",
       " 'invitations',\n",
       " 'regain',\n",
       " 'penury',\n",
       " 'rapidly',\n",
       " 'Christian',\n",
       " 'deny',\n",
       " 'composed',\n",
       " 'desperate',\n",
       " 'made',\n",
       " 'Edward',\n",
       " 'Lane',\n",
       " 'blooming',\n",
       " 'bruised',\n",
       " 'dismounted',\n",
       " 'guilty',\n",
       " 'meaning',\n",
       " 'rest',\n",
       " 'discrimination',\n",
       " 'spiritless',\n",
       " 'sneer',\n",
       " 'substance',\n",
       " 'sick',\n",
       " 'used',\n",
       " 'strikingly',\n",
       " 'attract',\n",
       " 'policy',\n",
       " 'repulsed',\n",
       " 'actions',\n",
       " 'quit',\n",
       " 'stayed',\n",
       " 'he',\n",
       " 'unguarded',\n",
       " 'ankles',\n",
       " 'Vanity',\n",
       " 'oh',\n",
       " 'climate',\n",
       " 'inflict',\n",
       " 'born',\n",
       " 'require',\n",
       " 'playful',\n",
       " 'widen',\n",
       " 'stipulate',\n",
       " 'same',\n",
       " 'bed',\n",
       " 'appointment',\n",
       " 'rung',\n",
       " 'pang',\n",
       " 'appearance',\n",
       " 'wrapt',\n",
       " 'approve',\n",
       " 'eyed',\n",
       " 'foolishly',\n",
       " 'danger',\n",
       " 'announced',\n",
       " 'behaviour',\n",
       " 'employments',\n",
       " 'practicable',\n",
       " 'daily',\n",
       " 'copied',\n",
       " 'prettiest',\n",
       " 'exertions',\n",
       " 'earned',\n",
       " 'ridge',\n",
       " 'foundations',\n",
       " 'shan',\n",
       " 'meadows',\n",
       " 'sufferings',\n",
       " 'sale',\n",
       " 'hot',\n",
       " 'extorting',\n",
       " 'dove',\n",
       " 'forgave',\n",
       " 'long',\n",
       " 'strength',\n",
       " 'Easter',\n",
       " 'basis',\n",
       " 'adjoining',\n",
       " 'advancement',\n",
       " 'luxury',\n",
       " 'spirits',\n",
       " 'excessively',\n",
       " 'strive',\n",
       " 'conceit',\n",
       " 'plaguing',\n",
       " 'sex',\n",
       " 'yew',\n",
       " 'once',\n",
       " 'unison',\n",
       " 'debating',\n",
       " 'dissented',\n",
       " 'differently',\n",
       " 'intimate',\n",
       " 'questions',\n",
       " 'pointers',\n",
       " 'explained',\n",
       " 'These',\n",
       " 'destroy',\n",
       " 'increased',\n",
       " 'gravel',\n",
       " 'sides',\n",
       " 'independent',\n",
       " 'rejected',\n",
       " 'Because',\n",
       " 'concerned',\n",
       " 'law',\n",
       " 'civilities',\n",
       " 'madness',\n",
       " 'midst',\n",
       " 'uncomfortable',\n",
       " 'undesignedly',\n",
       " 'lowering',\n",
       " 'hostile',\n",
       " 'By',\n",
       " 'cruelly',\n",
       " 'imagery',\n",
       " 'ninny',\n",
       " 'observable',\n",
       " 'probable',\n",
       " 'privately',\n",
       " 'boldly',\n",
       " 'contented',\n",
       " 'billiards',\n",
       " 'dismiss',\n",
       " 'troop',\n",
       " 'disorder',\n",
       " 'intelligent',\n",
       " 'intruder',\n",
       " 'spite',\n",
       " 'F',\n",
       " 'ill',\n",
       " 'creditable',\n",
       " 'feminine',\n",
       " 'accosted',\n",
       " 'WAS',\n",
       " 'sensations',\n",
       " 'thanks',\n",
       " 'unpleasantest',\n",
       " 'promotion',\n",
       " 'exercised',\n",
       " 'sheath',\n",
       " 'Cruel',\n",
       " 'unreasonably',\n",
       " 'virtues',\n",
       " 'attention',\n",
       " 'Greatness',\n",
       " 'usually',\n",
       " 'likewise',\n",
       " 'small',\n",
       " 'offer',\n",
       " 'closing',\n",
       " 'unsuitableness',\n",
       " 'pleasantly',\n",
       " 'Avignon',\n",
       " 'Nancy',\n",
       " 'never',\n",
       " 'seconded',\n",
       " 'patient',\n",
       " 'complaining',\n",
       " 'allowances',\n",
       " 'seizure',\n",
       " 'borrow',\n",
       " 'deep',\n",
       " 'borne',\n",
       " 'dissent',\n",
       " 'misled',\n",
       " 'plans',\n",
       " 'occasions',\n",
       " 'subservient',\n",
       " '31',\n",
       " 'Three',\n",
       " 'Extravagance',\n",
       " 'Within',\n",
       " 'Few',\n",
       " 'air',\n",
       " 'encouragements',\n",
       " 'parts',\n",
       " 'delicacies',\n",
       " 'liberty',\n",
       " 'auspiciously',\n",
       " 'overspreading',\n",
       " 'heartily',\n",
       " 'apparent',\n",
       " 'pages',\n",
       " 'unknowingly',\n",
       " 'expel',\n",
       " 'mischievous',\n",
       " 'family',\n",
       " 'ungenteel',\n",
       " 'identify',\n",
       " '24',\n",
       " 'delayed',\n",
       " 'integrity',\n",
       " 'sentences',\n",
       " 'remained',\n",
       " 'awakened',\n",
       " 'replied',\n",
       " 'house',\n",
       " 'Palmers',\n",
       " 'followed',\n",
       " 'supplied',\n",
       " 'fast',\n",
       " 'Reflection',\n",
       " 'more',\n",
       " 'leisure',\n",
       " 'Dear',\n",
       " 'exist',\n",
       " 'placing',\n",
       " 'prevented',\n",
       " 'gracefulness',\n",
       " 'frankness',\n",
       " 'unnoticed',\n",
       " 'somewhat',\n",
       " 'complaisance',\n",
       " 'oblige',\n",
       " 'indefatigable',\n",
       " 'forwards',\n",
       " 'contrived',\n",
       " 'forth',\n",
       " 'likes',\n",
       " 'unquiet',\n",
       " 'care',\n",
       " 'cavil',\n",
       " 'Sackville',\n",
       " 'silent',\n",
       " 'recommending',\n",
       " 'reconcile',\n",
       " 'mound',\n",
       " 'inconvenience',\n",
       " 'unblemished',\n",
       " 'honours',\n",
       " 'spotted',\n",
       " 'befalls',\n",
       " 'salts',\n",
       " 'ashamed',\n",
       " 'partial',\n",
       " 'outweigh',\n",
       " 'nervous',\n",
       " 'flowing',\n",
       " 'acknowledge',\n",
       " 'affixed',\n",
       " 'gay',\n",
       " 'smallness',\n",
       " 'No',\n",
       " 'tolerably',\n",
       " 'scornfully',\n",
       " 'Impossible',\n",
       " 'unreasonable',\n",
       " 'hazarding',\n",
       " 'nought',\n",
       " 'modestest',\n",
       " 'ensued',\n",
       " 'number',\n",
       " 'uncertainty',\n",
       " 'chiefly',\n",
       " 'inspiring',\n",
       " 'larger',\n",
       " 'expediency',\n",
       " 'acknowledgment',\n",
       " 'contributed',\n",
       " 'large',\n",
       " 'orders',\n",
       " 'Impudence',\n",
       " 'truest',\n",
       " 'proportioned',\n",
       " 'cultivated',\n",
       " 'hoarded',\n",
       " 'pretence',\n",
       " 'rid',\n",
       " 'incredulity',\n",
       " 'prejudiced',\n",
       " 'hopeless',\n",
       " 'shape',\n",
       " 'stupid',\n",
       " 'comforter',\n",
       " 'innate',\n",
       " 'method',\n",
       " 'guided',\n",
       " 'construction',\n",
       " 'Go',\n",
       " 'qualification',\n",
       " 'blackguard',\n",
       " 'THIS',\n",
       " 'amendment',\n",
       " 'prayers',\n",
       " 'spirit',\n",
       " 'wise',\n",
       " 'fallen',\n",
       " 'engrossed',\n",
       " 'dared',\n",
       " 'stole',\n",
       " 'obliged',\n",
       " 'particulars',\n",
       " 'embitter',\n",
       " 'impertinence',\n",
       " 'another',\n",
       " 'privilege',\n",
       " 'seducer',\n",
       " 'irreproachable',\n",
       " 'artlessness',\n",
       " 'powerfully',\n",
       " 'consult',\n",
       " 'preceding',\n",
       " 'shut',\n",
       " 'indisposition',\n",
       " 'Dullness',\n",
       " 'torn',\n",
       " 'propriety',\n",
       " 'kind',\n",
       " 'Ferrars',\n",
       " 'qualifications',\n",
       " 'thoroughly',\n",
       " 'examination',\n",
       " 'quarrel',\n",
       " 'demesne',\n",
       " 'honor',\n",
       " 'travel',\n",
       " 'undertake',\n",
       " 'withdrawn',\n",
       " 'sighted',\n",
       " 'pardon',\n",
       " 'look',\n",
       " 'looking',\n",
       " 'despatch',\n",
       " 'ride',\n",
       " 'yesterday',\n",
       " 'tolerable',\n",
       " 'lately',\n",
       " 'Elinor',\n",
       " 'justice',\n",
       " 'reaching',\n",
       " 'Who',\n",
       " 'injury',\n",
       " 'children',\n",
       " 'shutters',\n",
       " 'hope',\n",
       " 'gales',\n",
       " 'article',\n",
       " 'Jane',\n",
       " 'pulled',\n",
       " 'suitor',\n",
       " 'Brown',\n",
       " 'Heaven',\n",
       " 'amiably',\n",
       " 'prodigiously',\n",
       " 'backwards',\n",
       " 'proofs',\n",
       " 'unnatural',\n",
       " 'glad',\n",
       " 'faded',\n",
       " 'pleasing',\n",
       " 'while',\n",
       " 'uncertain',\n",
       " 'expressive',\n",
       " 'Continual',\n",
       " 'weary',\n",
       " 'chosen',\n",
       " 'than',\n",
       " 'authority',\n",
       " 'engaging',\n",
       " 'potent',\n",
       " 'Beautifully',\n",
       " 'sagaciously',\n",
       " 'God',\n",
       " 'how',\n",
       " 'prescience',\n",
       " 'building',\n",
       " 'eloping',\n",
       " '\"--',\n",
       " 'exclamation',\n",
       " 'd',\n",
       " 'unmoved',\n",
       " 'restoring',\n",
       " 'varied',\n",
       " 'crowned',\n",
       " 'libertine',\n",
       " 'imminent',\n",
       " 'introduce',\n",
       " 'bout',\n",
       " 'Extend',\n",
       " 'myself',\n",
       " 'solicitations',\n",
       " 'terror',\n",
       " 'discovering',\n",
       " 'composedly',\n",
       " 'Bath',\n",
       " 'village',\n",
       " 'lief',\n",
       " 'gaiety',\n",
       " 'embellishments',\n",
       " 'aunt',\n",
       " 'HIS',\n",
       " ',)',\n",
       " 'boisterous',\n",
       " 'subsisted',\n",
       " 'monopolize',\n",
       " 'boasting',\n",
       " 'scarcely',\n",
       " 'conning',\n",
       " 'promoting',\n",
       " 'consolation',\n",
       " 'habitation',\n",
       " 'intends',\n",
       " 'inhabited',\n",
       " 'secret',\n",
       " 'endeavours',\n",
       " 'schemes',\n",
       " 'pink',\n",
       " 'respect',\n",
       " 'inevitable',\n",
       " 'despising',\n",
       " 'negotiation',\n",
       " 'brown',\n",
       " 'feebly',\n",
       " 'originated',\n",
       " 'afforded',\n",
       " 'misapplied',\n",
       " 'announce',\n",
       " 'views',\n",
       " 'lower',\n",
       " 'Don',\n",
       " 'trusted',\n",
       " 'greatness',\n",
       " 'inventive',\n",
       " 'concurrence',\n",
       " 'peculiar',\n",
       " 'guessed',\n",
       " 'rug',\n",
       " 'parents',\n",
       " 'rise',\n",
       " 'fir',\n",
       " 'surveying',\n",
       " 'did',\n",
       " 'idolized',\n",
       " 'attributed',\n",
       " 'accidentally',\n",
       " 'disbelief',\n",
       " 'HAS',\n",
       " 'ushered',\n",
       " 'westerly',\n",
       " 'certainly',\n",
       " 'caresses',\n",
       " 'commonest',\n",
       " 'memorable',\n",
       " 'precaution',\n",
       " 'dryness',\n",
       " 'ribbons',\n",
       " 'mama',\n",
       " 'illiterate',\n",
       " 'motion',\n",
       " 'around',\n",
       " 'scrupled',\n",
       " 'immediate',\n",
       " 'puzzled',\n",
       " 'metaphor',\n",
       " 'himself',\n",
       " 'astray',\n",
       " 'red',\n",
       " 'detestably',\n",
       " 'humiliations',\n",
       " 'undoubtingly',\n",
       " 'duty',\n",
       " 'pin',\n",
       " 'stockings',\n",
       " 'soothing',\n",
       " 'taking',\n",
       " 'sufficiently',\n",
       " 'hesitated',\n",
       " 'accusation',\n",
       " 'disgraceful',\n",
       " 'embarrassment',\n",
       " 'Concern',\n",
       " 'sensitive',\n",
       " 'varying',\n",
       " 'caprice',\n",
       " 'shuddering',\n",
       " 'remember',\n",
       " 'fainting',\n",
       " 'lightened',\n",
       " 'ponds',\n",
       " 'faults',\n",
       " 'economy',\n",
       " 'directly',\n",
       " 'familiarly',\n",
       " 'however',\n",
       " 'card',\n",
       " 'kicked',\n",
       " 'Duty',\n",
       " 'blameless',\n",
       " 'dispatched',\n",
       " 'needless',\n",
       " 'general',\n",
       " 'occupations',\n",
       " 'moments',\n",
       " 'submit',\n",
       " 'minutiae',\n",
       " 'soothings',\n",
       " 'introduced',\n",
       " 'narrowly',\n",
       " 'brothers',\n",
       " 'nurses',\n",
       " 'although',\n",
       " 'tired',\n",
       " 'Eliza',\n",
       " 'New',\n",
       " 'prepossessing',\n",
       " 'lowered',\n",
       " 'Please',\n",
       " 'age',\n",
       " 'follow',\n",
       " 'already',\n",
       " 'contents',\n",
       " 'preserve',\n",
       " 'comfortably',\n",
       " 'Norfolk',\n",
       " 'marriages',\n",
       " 'done',\n",
       " 'termination',\n",
       " 'fascinating',\n",
       " 'said',\n",
       " 'subsisting',\n",
       " 'heavens',\n",
       " 'principles',\n",
       " \"--'\",\n",
       " 'symptom',\n",
       " 'accident',\n",
       " 'endowed',\n",
       " 'acknowledging',\n",
       " 'Now',\n",
       " 'Harry',\n",
       " 'apologize',\n",
       " 'curtsying',\n",
       " 'imagination',\n",
       " 'Sit',\n",
       " 'drains',\n",
       " 'sufferer',\n",
       " 'LESS',\n",
       " 'land',\n",
       " 'gave',\n",
       " '!--',\n",
       " 'splendidly',\n",
       " 'prosperously',\n",
       " 'imagining',\n",
       " 'wish',\n",
       " 'club',\n",
       " 'compliment',\n",
       " 'attack',\n",
       " 'communicated',\n",
       " 'aptitude',\n",
       " 'cautious',\n",
       " 'above',\n",
       " 'families',\n",
       " 'imaginary',\n",
       " 'friendly',\n",
       " 'windows',\n",
       " 'pillow',\n",
       " 'moderation',\n",
       " 'olives',\n",
       " 'droll',\n",
       " 'assent',\n",
       " 'such',\n",
       " 'notions',\n",
       " '3',\n",
       " 'prudently',\n",
       " 'sheet',\n",
       " 'best',\n",
       " 'watched',\n",
       " 'breaking',\n",
       " 'quickest',\n",
       " 'inexperience',\n",
       " 'prose',\n",
       " 'affect',\n",
       " 'resists',\n",
       " 'mounted',\n",
       " 'beef',\n",
       " 'open',\n",
       " '?--\"',\n",
       " 'ascended',\n",
       " 'no',\n",
       " 'implies',\n",
       " 'working',\n",
       " 'period',\n",
       " 'cease',\n",
       " 'interval',\n",
       " 'deceitful',\n",
       " 'confidential',\n",
       " 'coach',\n",
       " 'wisher',\n",
       " 'One',\n",
       " 'Hope',\n",
       " 'cordiality',\n",
       " 'Poor',\n",
       " 'proprietor',\n",
       " 'courted',\n",
       " 'doing',\n",
       " 'sensibility',\n",
       " 'disapprobation',\n",
       " 'decay',\n",
       " 'enrich',\n",
       " 'eagerness',\n",
       " 'bias',\n",
       " 'augmenting',\n",
       " 'acquaintance',\n",
       " 'solemnly',\n",
       " 'discreet',\n",
       " 'Somersetshire',\n",
       " 'guess',\n",
       " 'tribute',\n",
       " 'nay',\n",
       " 'gazing',\n",
       " 'reproof',\n",
       " 'darker',\n",
       " 'affected',\n",
       " 'purposely',\n",
       " 'expressively',\n",
       " 'probability',\n",
       " 'propensities',\n",
       " 'exceedingly',\n",
       " 'crying',\n",
       " 'interspersed',\n",
       " 'Benevolent',\n",
       " 'many',\n",
       " 'Little',\n",
       " 'souls',\n",
       " 'cheerfuller',\n",
       " 'bewitching',\n",
       " 'Again',\n",
       " 'knowing',\n",
       " 'occasional',\n",
       " 'heirs',\n",
       " 'swoon',\n",
       " 'lasting',\n",
       " 'dances',\n",
       " 'raised',\n",
       " 'relying',\n",
       " 'planning',\n",
       " 'divide',\n",
       " 'confirm',\n",
       " 'painted',\n",
       " 'suspect',\n",
       " 'impoverishing',\n",
       " 'Strange',\n",
       " 'truths',\n",
       " 'Casino',\n",
       " 'frequency',\n",
       " 'wanting',\n",
       " 'hers',\n",
       " 'unobtrusiveness',\n",
       " 'THEN',\n",
       " 'got',\n",
       " '!\"--',\n",
       " 'sober',\n",
       " 'rising',\n",
       " 'concerning',\n",
       " 'falsehood',\n",
       " 'boiled',\n",
       " 'deserved',\n",
       " 'comments',\n",
       " 'spirited',\n",
       " 'dying',\n",
       " 'healthy',\n",
       " 'enquire',\n",
       " 'attachments',\n",
       " 'honest',\n",
       " 'carefulness',\n",
       " 'besides',\n",
       " 'after',\n",
       " 'courtesy',\n",
       " 'lengths',\n",
       " 'appeased',\n",
       " 'flow',\n",
       " 'uncouth',\n",
       " 'meanness',\n",
       " 'owning',\n",
       " 'objections',\n",
       " 'Impatient',\n",
       " 'starved',\n",
       " 'hazard',\n",
       " 'rationally',\n",
       " 'Hamlet',\n",
       " 'Among',\n",
       " 'cheated',\n",
       " 'illustration',\n",
       " 'Yet',\n",
       " 'miss',\n",
       " 'prejudice',\n",
       " 'sail',\n",
       " 'dreading',\n",
       " 'owe',\n",
       " 'militated',\n",
       " 'reliance',\n",
       " 'INconvenience',\n",
       " 'omitted',\n",
       " 'foreseeing',\n",
       " 'at',\n",
       " 'ELINOR',\n",
       " 'Martha',\n",
       " 'dissipation',\n",
       " 'staid',\n",
       " 'retirement',\n",
       " 'sore',\n",
       " 'irritability',\n",
       " 'unanimous',\n",
       " 'wished',\n",
       " 'unworthiness',\n",
       " 'secrets',\n",
       " '11',\n",
       " 'utmost',\n",
       " 'horseback',\n",
       " 'formerly',\n",
       " 'own',\n",
       " 'dawdled',\n",
       " 'unkind',\n",
       " 'threw',\n",
       " 'harm',\n",
       " 'sauntered',\n",
       " 'politeness',\n",
       " 'though',\n",
       " 'proposals',\n",
       " 'Civil',\n",
       " 'barouches',\n",
       " 'accommodations',\n",
       " 'husbands',\n",
       " 'torment',\n",
       " 'numerous',\n",
       " 'collecting',\n",
       " 'pursued',\n",
       " 'some',\n",
       " 'medicines',\n",
       " 'finished',\n",
       " 'gum',\n",
       " 'But',\n",
       " 'mirth',\n",
       " 'walnut',\n",
       " 'vouchsafe',\n",
       " 'witness',\n",
       " 'THEIR',\n",
       " 'notion',\n",
       " 'fearing',\n",
       " 'wholly',\n",
       " 'considerations',\n",
       " 'pray',\n",
       " 'Amongst',\n",
       " 'lingering',\n",
       " 'Does',\n",
       " 'deliver',\n",
       " 'punishment',\n",
       " 'directions',\n",
       " 'MY',\n",
       " 'occur',\n",
       " 'inquiring',\n",
       " 'consequence',\n",
       " 'unkindness',\n",
       " 'thank',\n",
       " 'Conversation',\n",
       " 'prepossession',\n",
       " 'watching',\n",
       " 'power',\n",
       " 'young',\n",
       " 'garret',\n",
       " 'chuse',\n",
       " 'promising',\n",
       " 'Willoughbys',\n",
       " 'frame',\n",
       " 'want',\n",
       " 'marrying',\n",
       " 'generations',\n",
       " 'animated',\n",
       " 'feared',\n",
       " '?--',\n",
       " 'forbade',\n",
       " 'conveniently',\n",
       " 'out',\n",
       " 'latter',\n",
       " 'encouraged',\n",
       " 'terms',\n",
       " 'Business',\n",
       " 'mentioned',\n",
       " 'assuage',\n",
       " 'postponing',\n",
       " 'conjure',\n",
       " 'unsatiable',\n",
       " 'vacate',\n",
       " 'Music',\n",
       " 'What',\n",
       " 'frantic',\n",
       " 'unacknowledged',\n",
       " 'commission',\n",
       " 'else',\n",
       " 'snug',\n",
       " 'withhold',\n",
       " 'undeceive',\n",
       " 'reverse',\n",
       " 'verbal',\n",
       " 'beds',\n",
       " '26',\n",
       " 'procured',\n",
       " 'Four',\n",
       " 'augmented',\n",
       " 'Exeter',\n",
       " 'motionless',\n",
       " 'yours',\n",
       " 'anticipated',\n",
       " 'compliant',\n",
       " 'possessor',\n",
       " 'imaginations',\n",
       " 'depend',\n",
       " 'considerately',\n",
       " 'settling',\n",
       " 'formally',\n",
       " 'mysteriously',\n",
       " 'girls',\n",
       " 'administer',\n",
       " 'recovery',\n",
       " 'joint',\n",
       " 'housemaid',\n",
       " 'boast',\n",
       " 'vehemence',\n",
       " 'cote',\n",
       " 'disastrous',\n",
       " '...\"',\n",
       " 'lounging',\n",
       " 'bags',\n",
       " 'either',\n",
       " 'therefore',\n",
       " 'supplanted',\n",
       " 'excess',\n",
       " 'undesirable',\n",
       " 'zeal',\n",
       " 'private',\n",
       " 'towards',\n",
       " 'obstinate',\n",
       " 'goes',\n",
       " 'fox',\n",
       " 'habits',\n",
       " 'impartiality',\n",
       " 'wishes',\n",
       " 'first',\n",
       " 'inexperienced',\n",
       " 'useless',\n",
       " 'keeping',\n",
       " 'distinguishing',\n",
       " 'previous',\n",
       " 'happening',\n",
       " 'hasty',\n",
       " 'polished',\n",
       " 'being',\n",
       " 'astonishing',\n",
       " 'weight',\n",
       " 'doat',\n",
       " 'assure',\n",
       " 'retreat',\n",
       " 'tears',\n",
       " 'lying',\n",
       " 'publication',\n",
       " 'critique',\n",
       " 'thunderbolt',\n",
       " 'plighted',\n",
       " 'nineteen',\n",
       " 'mare',\n",
       " 'contradict',\n",
       " 'September',\n",
       " 'exultingly',\n",
       " '14',\n",
       " 'eluded',\n",
       " 'discomposed',\n",
       " 'looks',\n",
       " 'inspection',\n",
       " 'interim',\n",
       " 'so',\n",
       " 'farm',\n",
       " 'Davies',\n",
       " 'unspeakable',\n",
       " 'wretchedness',\n",
       " 'literature',\n",
       " 'struggle',\n",
       " 'exactly',\n",
       " 'drift',\n",
       " 'quickened',\n",
       " 'Weymouth',\n",
       " 'patience',\n",
       " 'Gracious',\n",
       " 'waistcoats',\n",
       " 'resisting',\n",
       " 'rushed',\n",
       " 'assurance',\n",
       " 'whisper',\n",
       " 'admitting',\n",
       " 'esteem',\n",
       " 'alternately',\n",
       " 'insincere',\n",
       " 'TOLD',\n",
       " 'inexcusable',\n",
       " 'inferior',\n",
       " 'arbour',\n",
       " 'wildly',\n",
       " 'rapid',\n",
       " '.--',\n",
       " 'alluded',\n",
       " 'advise',\n",
       " 'consistency',\n",
       " 'limits',\n",
       " 'felicitations',\n",
       " 'poplars',\n",
       " 'ecstatic',\n",
       " ...}"
      ]
     },
     "execution_count": 199,
     "metadata": {},
     "output_type": "execute_result"
    }
   ],
   "source": [
    "set(text2)"
   ]
  },
  {
   "cell_type": "code",
   "execution_count": 200,
   "metadata": {},
   "outputs": [],
   "source": [
    "fdist = FreqDist(text2)"
   ]
  },
  {
   "cell_type": "code",
   "execution_count": 201,
   "metadata": {},
   "outputs": [
    {
     "data": {
      "text/plain": [
       "[(',', 9397), ('to', 4063), ('.', 3975), ('the', 3861), ('of', 3565)]"
      ]
     },
     "execution_count": 201,
     "metadata": {},
     "output_type": "execute_result"
    }
   ],
   "source": [
    "fdist.most_common(5)"
   ]
  },
  {
   "cell_type": "code",
   "execution_count": 2,
   "metadata": {},
   "outputs": [
    {
     "data": {
      "text/plain": [
       "['austen-emma.txt',\n",
       " 'austen-persuasion.txt',\n",
       " 'austen-sense.txt',\n",
       " 'bible-kjv.txt',\n",
       " 'blake-poems.txt',\n",
       " 'bryant-stories.txt',\n",
       " 'burgess-busterbrown.txt',\n",
       " 'carroll-alice.txt',\n",
       " 'chesterton-ball.txt',\n",
       " 'chesterton-brown.txt',\n",
       " 'chesterton-thursday.txt',\n",
       " 'edgeworth-parents.txt',\n",
       " 'melville-moby_dick.txt',\n",
       " 'milton-paradise.txt',\n",
       " 'shakespeare-caesar.txt',\n",
       " 'shakespeare-hamlet.txt',\n",
       " 'shakespeare-macbeth.txt',\n",
       " 'whitman-leaves.txt']"
      ]
     },
     "execution_count": 2,
     "metadata": {},
     "output_type": "execute_result"
    }
   ],
   "source": [
    ">>> import nltk\n",
    ">>> nltk.corpus.gutenberg.fileids()"
   ]
  },
  {
   "cell_type": "code",
   "execution_count": 3,
   "metadata": {},
   "outputs": [
    {
     "data": {
      "text/plain": [
       "\u001b[1;31mSignature:\u001b[0m \u001b[0mnltk\u001b[0m\u001b[1;33m.\u001b[0m\u001b[0mcorpus\u001b[0m\u001b[1;33m.\u001b[0m\u001b[0mgutenberg\u001b[0m\u001b[1;33m.\u001b[0m\u001b[0mwords\u001b[0m\u001b[1;33m(\u001b[0m\u001b[0mfileids\u001b[0m\u001b[1;33m=\u001b[0m\u001b[1;32mNone\u001b[0m\u001b[1;33m)\u001b[0m\u001b[1;33m\u001b[0m\u001b[1;33m\u001b[0m\u001b[0m\n",
       "\u001b[1;31mDocstring:\u001b[0m\n",
       ":return: the given file(s) as a list of words\n",
       "    and punctuation symbols.\n",
       ":rtype: list(str)\n",
       "\u001b[1;31mFile:\u001b[0m      e:\\python\\lib\\site-packages\\nltk\\corpus\\reader\\plaintext.py\n",
       "\u001b[1;31mType:\u001b[0m      method\n"
      ]
     },
     "metadata": {},
     "output_type": "display_data"
    }
   ],
   "source": [
    "nltk.corpus.gutenberg.words?"
   ]
  },
  {
   "cell_type": "code",
   "execution_count": 3,
   "metadata": {},
   "outputs": [],
   "source": [
    "emma = nltk.corpus.gutenberg.words('austen-emma.txt')"
   ]
  },
  {
   "cell_type": "code",
   "execution_count": 4,
   "metadata": {},
   "outputs": [
    {
     "data": {
      "text/plain": [
       "['[', 'Emma', 'by', 'Jane', 'Austen', '1816', ']', ...]"
      ]
     },
     "execution_count": 4,
     "metadata": {},
     "output_type": "execute_result"
    }
   ],
   "source": [
    "emma"
   ]
  },
  {
   "cell_type": "code",
   "execution_count": 5,
   "metadata": {},
   "outputs": [
    {
     "name": "stdout",
     "output_type": "stream",
     "text": [
      "Displaying 25 of 37 matches:\n",
      "er father , was sometimes taken by surprize at his being still able to pity ` \n",
      "hem do the other any good .\" \" You surprize me ! Emma must do Harriet good : a\n",
      "Knightley actually looked red with surprize and displeasure , as he stood up ,\n",
      "r . Elton , and found to his great surprize , that Mr . Elton was actually on \n",
      "d aid .\" Emma saw Mrs . Weston ' s surprize , and felt that it must be great ,\n",
      "father was quite taken up with the surprize of so sudden a journey , and his f\n",
      "y , in all the favouring warmth of surprize and conjecture . She was , moreove\n",
      "he appeared , to have her share of surprize , introduction , and pleasure . Th\n",
      "ir plans ; and it was an agreeable surprize to her , therefore , to perceive t\n",
      "talking aunt had taken me quite by surprize , it must have been the death of m\n",
      "f all the dialogue which ensued of surprize , and inquiry , and congratulation\n",
      " the present . They might chuse to surprize her .\" Mrs . Cole had many to agre\n",
      "the mode of it , the mystery , the surprize , is more like a young woman ' s s\n",
      " to her song took her agreeably by surprize -- a second , slightly but correct\n",
      "\" \" Oh ! no -- there is nothing to surprize one at all .-- A pretty fortune ; \n",
      "t to be considered . Emma ' s only surprize was that Jane Fairfax should accep\n",
      "of your admiration may take you by surprize some day or other .\" Mr . Knightle\n",
      "ation for her will ever take me by surprize .-- I never had a thought of her i\n",
      " expected by the best judges , for surprize -- but there was great joy . Mr . \n",
      " sound of at first , without great surprize . \" So unreasonably early !\" she w\n",
      "d Frank Churchill , with a look of surprize and displeasure .-- \" That is easy\n",
      "; and Emma could imagine with what surprize and mortification she must be retu\n",
      "tled that Jane should go . Quite a surprize to me ! I had not the least idea !\n",
      " . It is impossible to express our surprize . He came to speak to his father o\n",
      "g engaged !\" Emma even jumped with surprize ;-- and , horror - struck , exclai\n"
     ]
    }
   ],
   "source": [
    ">>> emma = nltk.Text(nltk.corpus.gutenberg.words('austen-emma.txt'))\n",
    ">>> emma.concordance(\"surprize\")"
   ]
  },
  {
   "cell_type": "code",
   "execution_count": 6,
   "metadata": {},
   "outputs": [
    {
     "name": "stdout",
     "output_type": "stream",
     "text": [
      "firefox.txt Cookie Manager: \"Don't allow sites that set removed cookies to se ...\n",
      "grail.txt SCENE 1: [wind] [clop clop clop] \n",
      "KING ARTHUR: Whoa there!  [clop ...\n",
      "overheard.txt White guy: So, do you have any plans for this evening?\n",
      "Asian girl ...\n",
      "pirates.txt PIRATES OF THE CARRIBEAN: DEAD MAN'S CHEST, by Ted Elliott & Terr ...\n",
      "singles.txt 25 SEXY MALE, seeks attrac older single lady, for discreet encoun ...\n",
      "wine.txt Lovely delicate, fragrant Rhone wine. Polished leather and strawb ...\n"
     ]
    }
   ],
   "source": [
    ">>> from nltk.corpus import webtext\n",
    ">>> for fileid in webtext.fileids():\n",
    "...     print(fileid, webtext.raw(fileid)[:65], '...')"
   ]
  },
  {
   "cell_type": "code",
   "execution_count": 7,
   "metadata": {},
   "outputs": [
    {
     "data": {
      "text/plain": [
       "['adventure',\n",
       " 'belles_lettres',\n",
       " 'editorial',\n",
       " 'fiction',\n",
       " 'government',\n",
       " 'hobbies',\n",
       " 'humor',\n",
       " 'learned',\n",
       " 'lore',\n",
       " 'mystery',\n",
       " 'news',\n",
       " 'religion',\n",
       " 'reviews',\n",
       " 'romance',\n",
       " 'science_fiction']"
      ]
     },
     "execution_count": 7,
     "metadata": {},
     "output_type": "execute_result"
    }
   ],
   "source": [
    ">>> from nltk.corpus import brown\n",
    ">>> brown.categories()"
   ]
  },
  {
   "cell_type": "code",
   "execution_count": 8,
   "metadata": {},
   "outputs": [
    {
     "data": {
      "text/plain": [
       "['ca01',\n",
       " 'ca02',\n",
       " 'ca03',\n",
       " 'ca04',\n",
       " 'ca05',\n",
       " 'ca06',\n",
       " 'ca07',\n",
       " 'ca08',\n",
       " 'ca09',\n",
       " 'ca10',\n",
       " 'ca11',\n",
       " 'ca12',\n",
       " 'ca13',\n",
       " 'ca14',\n",
       " 'ca15',\n",
       " 'ca16',\n",
       " 'ca17',\n",
       " 'ca18',\n",
       " 'ca19',\n",
       " 'ca20',\n",
       " 'ca21',\n",
       " 'ca22',\n",
       " 'ca23',\n",
       " 'ca24',\n",
       " 'ca25',\n",
       " 'ca26',\n",
       " 'ca27',\n",
       " 'ca28',\n",
       " 'ca29',\n",
       " 'ca30',\n",
       " 'ca31',\n",
       " 'ca32',\n",
       " 'ca33',\n",
       " 'ca34',\n",
       " 'ca35',\n",
       " 'ca36',\n",
       " 'ca37',\n",
       " 'ca38',\n",
       " 'ca39',\n",
       " 'ca40',\n",
       " 'ca41',\n",
       " 'ca42',\n",
       " 'ca43',\n",
       " 'ca44',\n",
       " 'cb01',\n",
       " 'cb02',\n",
       " 'cb03',\n",
       " 'cb04',\n",
       " 'cb05',\n",
       " 'cb06',\n",
       " 'cb07',\n",
       " 'cb08',\n",
       " 'cb09',\n",
       " 'cb10',\n",
       " 'cb11',\n",
       " 'cb12',\n",
       " 'cb13',\n",
       " 'cb14',\n",
       " 'cb15',\n",
       " 'cb16',\n",
       " 'cb17',\n",
       " 'cb18',\n",
       " 'cb19',\n",
       " 'cb20',\n",
       " 'cb21',\n",
       " 'cb22',\n",
       " 'cb23',\n",
       " 'cb24',\n",
       " 'cb25',\n",
       " 'cb26',\n",
       " 'cb27',\n",
       " 'cc01',\n",
       " 'cc02',\n",
       " 'cc03',\n",
       " 'cc04',\n",
       " 'cc05',\n",
       " 'cc06',\n",
       " 'cc07',\n",
       " 'cc08',\n",
       " 'cc09',\n",
       " 'cc10',\n",
       " 'cc11',\n",
       " 'cc12',\n",
       " 'cc13',\n",
       " 'cc14',\n",
       " 'cc15',\n",
       " 'cc16',\n",
       " 'cc17',\n",
       " 'cd01',\n",
       " 'cd02',\n",
       " 'cd03',\n",
       " 'cd04',\n",
       " 'cd05',\n",
       " 'cd06',\n",
       " 'cd07',\n",
       " 'cd08',\n",
       " 'cd09',\n",
       " 'cd10',\n",
       " 'cd11',\n",
       " 'cd12',\n",
       " 'cd13',\n",
       " 'cd14',\n",
       " 'cd15',\n",
       " 'cd16',\n",
       " 'cd17',\n",
       " 'ce01',\n",
       " 'ce02',\n",
       " 'ce03',\n",
       " 'ce04',\n",
       " 'ce05',\n",
       " 'ce06',\n",
       " 'ce07',\n",
       " 'ce08',\n",
       " 'ce09',\n",
       " 'ce10',\n",
       " 'ce11',\n",
       " 'ce12',\n",
       " 'ce13',\n",
       " 'ce14',\n",
       " 'ce15',\n",
       " 'ce16',\n",
       " 'ce17',\n",
       " 'ce18',\n",
       " 'ce19',\n",
       " 'ce20',\n",
       " 'ce21',\n",
       " 'ce22',\n",
       " 'ce23',\n",
       " 'ce24',\n",
       " 'ce25',\n",
       " 'ce26',\n",
       " 'ce27',\n",
       " 'ce28',\n",
       " 'ce29',\n",
       " 'ce30',\n",
       " 'ce31',\n",
       " 'ce32',\n",
       " 'ce33',\n",
       " 'ce34',\n",
       " 'ce35',\n",
       " 'ce36',\n",
       " 'cf01',\n",
       " 'cf02',\n",
       " 'cf03',\n",
       " 'cf04',\n",
       " 'cf05',\n",
       " 'cf06',\n",
       " 'cf07',\n",
       " 'cf08',\n",
       " 'cf09',\n",
       " 'cf10',\n",
       " 'cf11',\n",
       " 'cf12',\n",
       " 'cf13',\n",
       " 'cf14',\n",
       " 'cf15',\n",
       " 'cf16',\n",
       " 'cf17',\n",
       " 'cf18',\n",
       " 'cf19',\n",
       " 'cf20',\n",
       " 'cf21',\n",
       " 'cf22',\n",
       " 'cf23',\n",
       " 'cf24',\n",
       " 'cf25',\n",
       " 'cf26',\n",
       " 'cf27',\n",
       " 'cf28',\n",
       " 'cf29',\n",
       " 'cf30',\n",
       " 'cf31',\n",
       " 'cf32',\n",
       " 'cf33',\n",
       " 'cf34',\n",
       " 'cf35',\n",
       " 'cf36',\n",
       " 'cf37',\n",
       " 'cf38',\n",
       " 'cf39',\n",
       " 'cf40',\n",
       " 'cf41',\n",
       " 'cf42',\n",
       " 'cf43',\n",
       " 'cf44',\n",
       " 'cf45',\n",
       " 'cf46',\n",
       " 'cf47',\n",
       " 'cf48',\n",
       " 'cg01',\n",
       " 'cg02',\n",
       " 'cg03',\n",
       " 'cg04',\n",
       " 'cg05',\n",
       " 'cg06',\n",
       " 'cg07',\n",
       " 'cg08',\n",
       " 'cg09',\n",
       " 'cg10',\n",
       " 'cg11',\n",
       " 'cg12',\n",
       " 'cg13',\n",
       " 'cg14',\n",
       " 'cg15',\n",
       " 'cg16',\n",
       " 'cg17',\n",
       " 'cg18',\n",
       " 'cg19',\n",
       " 'cg20',\n",
       " 'cg21',\n",
       " 'cg22',\n",
       " 'cg23',\n",
       " 'cg24',\n",
       " 'cg25',\n",
       " 'cg26',\n",
       " 'cg27',\n",
       " 'cg28',\n",
       " 'cg29',\n",
       " 'cg30',\n",
       " 'cg31',\n",
       " 'cg32',\n",
       " 'cg33',\n",
       " 'cg34',\n",
       " 'cg35',\n",
       " 'cg36',\n",
       " 'cg37',\n",
       " 'cg38',\n",
       " 'cg39',\n",
       " 'cg40',\n",
       " 'cg41',\n",
       " 'cg42',\n",
       " 'cg43',\n",
       " 'cg44',\n",
       " 'cg45',\n",
       " 'cg46',\n",
       " 'cg47',\n",
       " 'cg48',\n",
       " 'cg49',\n",
       " 'cg50',\n",
       " 'cg51',\n",
       " 'cg52',\n",
       " 'cg53',\n",
       " 'cg54',\n",
       " 'cg55',\n",
       " 'cg56',\n",
       " 'cg57',\n",
       " 'cg58',\n",
       " 'cg59',\n",
       " 'cg60',\n",
       " 'cg61',\n",
       " 'cg62',\n",
       " 'cg63',\n",
       " 'cg64',\n",
       " 'cg65',\n",
       " 'cg66',\n",
       " 'cg67',\n",
       " 'cg68',\n",
       " 'cg69',\n",
       " 'cg70',\n",
       " 'cg71',\n",
       " 'cg72',\n",
       " 'cg73',\n",
       " 'cg74',\n",
       " 'cg75',\n",
       " 'ch01',\n",
       " 'ch02',\n",
       " 'ch03',\n",
       " 'ch04',\n",
       " 'ch05',\n",
       " 'ch06',\n",
       " 'ch07',\n",
       " 'ch08',\n",
       " 'ch09',\n",
       " 'ch10',\n",
       " 'ch11',\n",
       " 'ch12',\n",
       " 'ch13',\n",
       " 'ch14',\n",
       " 'ch15',\n",
       " 'ch16',\n",
       " 'ch17',\n",
       " 'ch18',\n",
       " 'ch19',\n",
       " 'ch20',\n",
       " 'ch21',\n",
       " 'ch22',\n",
       " 'ch23',\n",
       " 'ch24',\n",
       " 'ch25',\n",
       " 'ch26',\n",
       " 'ch27',\n",
       " 'ch28',\n",
       " 'ch29',\n",
       " 'ch30',\n",
       " 'cj01',\n",
       " 'cj02',\n",
       " 'cj03',\n",
       " 'cj04',\n",
       " 'cj05',\n",
       " 'cj06',\n",
       " 'cj07',\n",
       " 'cj08',\n",
       " 'cj09',\n",
       " 'cj10',\n",
       " 'cj11',\n",
       " 'cj12',\n",
       " 'cj13',\n",
       " 'cj14',\n",
       " 'cj15',\n",
       " 'cj16',\n",
       " 'cj17',\n",
       " 'cj18',\n",
       " 'cj19',\n",
       " 'cj20',\n",
       " 'cj21',\n",
       " 'cj22',\n",
       " 'cj23',\n",
       " 'cj24',\n",
       " 'cj25',\n",
       " 'cj26',\n",
       " 'cj27',\n",
       " 'cj28',\n",
       " 'cj29',\n",
       " 'cj30',\n",
       " 'cj31',\n",
       " 'cj32',\n",
       " 'cj33',\n",
       " 'cj34',\n",
       " 'cj35',\n",
       " 'cj36',\n",
       " 'cj37',\n",
       " 'cj38',\n",
       " 'cj39',\n",
       " 'cj40',\n",
       " 'cj41',\n",
       " 'cj42',\n",
       " 'cj43',\n",
       " 'cj44',\n",
       " 'cj45',\n",
       " 'cj46',\n",
       " 'cj47',\n",
       " 'cj48',\n",
       " 'cj49',\n",
       " 'cj50',\n",
       " 'cj51',\n",
       " 'cj52',\n",
       " 'cj53',\n",
       " 'cj54',\n",
       " 'cj55',\n",
       " 'cj56',\n",
       " 'cj57',\n",
       " 'cj58',\n",
       " 'cj59',\n",
       " 'cj60',\n",
       " 'cj61',\n",
       " 'cj62',\n",
       " 'cj63',\n",
       " 'cj64',\n",
       " 'cj65',\n",
       " 'cj66',\n",
       " 'cj67',\n",
       " 'cj68',\n",
       " 'cj69',\n",
       " 'cj70',\n",
       " 'cj71',\n",
       " 'cj72',\n",
       " 'cj73',\n",
       " 'cj74',\n",
       " 'cj75',\n",
       " 'cj76',\n",
       " 'cj77',\n",
       " 'cj78',\n",
       " 'cj79',\n",
       " 'cj80',\n",
       " 'ck01',\n",
       " 'ck02',\n",
       " 'ck03',\n",
       " 'ck04',\n",
       " 'ck05',\n",
       " 'ck06',\n",
       " 'ck07',\n",
       " 'ck08',\n",
       " 'ck09',\n",
       " 'ck10',\n",
       " 'ck11',\n",
       " 'ck12',\n",
       " 'ck13',\n",
       " 'ck14',\n",
       " 'ck15',\n",
       " 'ck16',\n",
       " 'ck17',\n",
       " 'ck18',\n",
       " 'ck19',\n",
       " 'ck20',\n",
       " 'ck21',\n",
       " 'ck22',\n",
       " 'ck23',\n",
       " 'ck24',\n",
       " 'ck25',\n",
       " 'ck26',\n",
       " 'ck27',\n",
       " 'ck28',\n",
       " 'ck29',\n",
       " 'cl01',\n",
       " 'cl02',\n",
       " 'cl03',\n",
       " 'cl04',\n",
       " 'cl05',\n",
       " 'cl06',\n",
       " 'cl07',\n",
       " 'cl08',\n",
       " 'cl09',\n",
       " 'cl10',\n",
       " 'cl11',\n",
       " 'cl12',\n",
       " 'cl13',\n",
       " 'cl14',\n",
       " 'cl15',\n",
       " 'cl16',\n",
       " 'cl17',\n",
       " 'cl18',\n",
       " 'cl19',\n",
       " 'cl20',\n",
       " 'cl21',\n",
       " 'cl22',\n",
       " 'cl23',\n",
       " 'cl24',\n",
       " 'cm01',\n",
       " 'cm02',\n",
       " 'cm03',\n",
       " 'cm04',\n",
       " 'cm05',\n",
       " 'cm06',\n",
       " 'cn01',\n",
       " 'cn02',\n",
       " 'cn03',\n",
       " 'cn04',\n",
       " 'cn05',\n",
       " 'cn06',\n",
       " 'cn07',\n",
       " 'cn08',\n",
       " 'cn09',\n",
       " 'cn10',\n",
       " 'cn11',\n",
       " 'cn12',\n",
       " 'cn13',\n",
       " 'cn14',\n",
       " 'cn15',\n",
       " 'cn16',\n",
       " 'cn17',\n",
       " 'cn18',\n",
       " 'cn19',\n",
       " 'cn20',\n",
       " 'cn21',\n",
       " 'cn22',\n",
       " 'cn23',\n",
       " 'cn24',\n",
       " 'cn25',\n",
       " 'cn26',\n",
       " 'cn27',\n",
       " 'cn28',\n",
       " 'cn29',\n",
       " 'cp01',\n",
       " 'cp02',\n",
       " 'cp03',\n",
       " 'cp04',\n",
       " 'cp05',\n",
       " 'cp06',\n",
       " 'cp07',\n",
       " 'cp08',\n",
       " 'cp09',\n",
       " 'cp10',\n",
       " 'cp11',\n",
       " 'cp12',\n",
       " 'cp13',\n",
       " 'cp14',\n",
       " 'cp15',\n",
       " 'cp16',\n",
       " 'cp17',\n",
       " 'cp18',\n",
       " 'cp19',\n",
       " 'cp20',\n",
       " 'cp21',\n",
       " 'cp22',\n",
       " 'cp23',\n",
       " 'cp24',\n",
       " 'cp25',\n",
       " 'cp26',\n",
       " 'cp27',\n",
       " 'cp28',\n",
       " 'cp29',\n",
       " 'cr01',\n",
       " 'cr02',\n",
       " 'cr03',\n",
       " 'cr04',\n",
       " 'cr05',\n",
       " 'cr06',\n",
       " 'cr07',\n",
       " 'cr08',\n",
       " 'cr09']"
      ]
     },
     "execution_count": 8,
     "metadata": {},
     "output_type": "execute_result"
    }
   ],
   "source": [
    "brown.fileids()"
   ]
  },
  {
   "cell_type": "code",
   "execution_count": 9,
   "metadata": {},
   "outputs": [
    {
     "name": "stdout",
     "output_type": "stream",
     "text": [
      "can: 94 could: 87 may: 93 might: 38 must: 53 will: 389 "
     ]
    }
   ],
   "source": [
    ">>> from nltk.corpus import brown\n",
    ">>> news_text = brown.words(categories='news')\n",
    ">>> fdist = nltk.FreqDist(w.lower() for w in news_text)\n",
    ">>> modals = ['can', 'could', 'may', 'might', 'must', 'will']\n",
    ">>> for m in modals:\n",
    "...     print(m + ':', fdist[m], end=' ')\n",
    "..."
   ]
  },
  {
   "cell_type": "code",
   "execution_count": 10,
   "metadata": {},
   "outputs": [
    {
     "name": "stdout",
     "output_type": "stream",
     "text": [
      "what: 186 when: 192 where: 89 who: 112 why: 42 "
     ]
    }
   ],
   "source": [
    ">>> from nltk.corpus import brown\n",
    ">>> fic_text = brown.words(categories='fiction')\n",
    ">>> fdist = nltk.FreqDist(w.lower() for w in fic_text)\n",
    ">>> whs = ['what', 'when', 'where', 'who', 'why']\n",
    ">>> for wh in whs:\n",
    "...     print(wh + ':', fdist[wh], end=' ')\n",
    "..."
   ]
  },
  {
   "cell_type": "code",
   "execution_count": 11,
   "metadata": {},
   "outputs": [],
   "source": [
    "\t\n",
    ">>> from nltk.corpus import udhr"
   ]
  },
  {
   "cell_type": "code",
   "execution_count": 13,
   "metadata": {},
   "outputs": [
    {
     "data": {
      "text/plain": [
       "<Figure size 640x480 with 1 Axes>"
      ]
     },
     "metadata": {},
     "output_type": "display_data"
    },
    {
     "data": {
      "text/plain": [
       "<matplotlib.axes._subplots.AxesSubplot at 0x2ca888f5288>"
      ]
     },
     "execution_count": 13,
     "metadata": {},
     "output_type": "execute_result"
    }
   ],
   "source": [
    ">>> languages = ['Chickasaw', 'English', 'German_Deutsch',\n",
    "...     'Greenlandic_Inuktikut', 'Hungarian_Magyar', 'Ibibio_Efik']\n",
    ">>> cfd = nltk.ConditionalFreqDist(\n",
    "...           (lang, len(word))\n",
    "...           for lang in languages\n",
    "...           for word in udhr.words(lang + '-Latin1'))\n",
    ">>> cfd.plot(cumulative=True)"
   ]
  },
  {
   "cell_type": "code",
   "execution_count": 14,
   "metadata": {},
   "outputs": [
    {
     "data": {
      "image/png": "[encoded data removed]",
      "text/plain": [
       "<Figure size 432x288 with 1 Axes>"
      ]
     },
     "metadata": {
      "needs_background": "light"
     },
     "output_type": "display_data"
    },
    {
     "data": {
      "text/plain": [
       "<matplotlib.axes._subplots.AxesSubplot at 0x2ca896bdb88>"
      ]
     },
     "execution_count": 14,
     "metadata": {},
     "output_type": "execute_result"
    }
   ],
   "source": [
    ">>> cfd.plot(cumulative=True)"
   ]
  },
  {
   "cell_type": "code",
   "execution_count": 15,
   "metadata": {},
   "outputs": [
    {
     "data": {
      "text/plain": [
       "\u001b[1;31mSignature:\u001b[0m \u001b[0mudhr\u001b[0m\u001b[1;33m.\u001b[0m\u001b[0mwords\u001b[0m\u001b[1;33m(\u001b[0m\u001b[0mfileids\u001b[0m\u001b[1;33m=\u001b[0m\u001b[1;32mNone\u001b[0m\u001b[1;33m)\u001b[0m\u001b[1;33m\u001b[0m\u001b[1;33m\u001b[0m\u001b[0m\n",
       "\u001b[1;31mDocstring:\u001b[0m\n",
       ":return: the given file(s) as a list of words\n",
       "    and punctuation symbols.\n",
       ":rtype: list(str)\n",
       "\u001b[1;31mFile:\u001b[0m      e:\\python\\lib\\site-packages\\nltk\\corpus\\reader\\plaintext.py\n",
       "\u001b[1;31mType:\u001b[0m      method\n"
      ]
     },
     "metadata": {},
     "output_type": "display_data"
    }
   ],
   "source": [
    "udhr.words?"
   ]
  },
  {
   "cell_type": "code",
   "execution_count": 22,
   "metadata": {},
   "outputs": [
    {
     "data": {
      "text/plain": [
       "['世界人权宣言', '联合国大会一九四八年十二月十日第217A', '(', 'III', ')', ...]"
      ]
     },
     "execution_count": 22,
     "metadata": {},
     "output_type": "execute_result"
    }
   ],
   "source": [
    "udhr.words(\"Chinese_Mandarin-GB2312\")"
   ]
  },
  {
   "cell_type": "code",
   "execution_count": 29,
   "metadata": {},
   "outputs": [],
   "source": [
    "raw_text = udhr.raw(\"Spanish-Latin1\")"
   ]
  },
  {
   "cell_type": "code",
   "execution_count": 30,
   "metadata": {},
   "outputs": [
    {
     "data": {
      "image/png": "[encoded data removed]",
      "text/plain": [
       "<Figure size 432x288 with 1 Axes>"
      ]
     },
     "metadata": {
      "needs_background": "light"
     },
     "output_type": "display_data"
    },
    {
     "data": {
      "text/plain": [
       "<matplotlib.axes._subplots.AxesSubplot at 0x2ca89b60988>"
      ]
     },
     "execution_count": 30,
     "metadata": {},
     "output_type": "execute_result"
    }
   ],
   "source": [
    "nltk.FreqDist(raw_text).plot()"
   ]
  },
  {
   "cell_type": "code",
   "execution_count": 38,
   "metadata": {},
   "outputs": [],
   "source": [
    "from urllib import request\n",
    "url = \"https://www.sec.gov/Archives/edgar/data/320193/000032019320000010/a10-qq1202012282019.htm\""
   ]
  },
  {
   "cell_type": "code",
   "execution_count": 39,
   "metadata": {},
   "outputs": [],
   "source": [
    "html = request.urlopen(url).read().decode('utf8')"
   ]
  },
  {
   "cell_type": "code",
   "execution_count": 40,
   "metadata": {},
   "outputs": [],
   "source": [
    "from bs4 import BeautifulSoup\n",
    "import nltk, re, pprint\n",
    "from nltk import word_tokenize\n",
    "soup = BeautifulSoup(html, 'html.parser')"
   ]
  },
  {
   "cell_type": "code",
   "execution_count": 55,
   "metadata": {},
   "outputs": [],
   "source": [
    "tabletag = soup.body.table"
   ]
  },
  {
   "cell_type": "code",
   "execution_count": 56,
   "metadata": {},
   "outputs": [
    {
     "data": {
      "text/plain": [
       "bs4.element.Tag"
      ]
     },
     "execution_count": 56,
     "metadata": {},
     "output_type": "execute_result"
    }
   ],
   "source": [
    "type(tabletag)"
   ]
  },
  {
   "cell_type": "code",
   "execution_count": 53,
   "metadata": {},
   "outputs": [
    {
     "ename": "AttributeError",
     "evalue": "'NoneType' object has no attribute 'stripped_strings'",
     "output_type": "error",
     "traceback": [
      "\u001b[1;31m---------------------------------------------------------------------------\u001b[0m",
      "\u001b[1;31mAttributeError\u001b[0m                            Traceback (most recent call last)",
      "\u001b[1;32m<ipython-input-53-6b9bcc987847>\u001b[0m in \u001b[0;36m<module>\u001b[1;34m\u001b[0m\n\u001b[1;32m----> 1\u001b[1;33m \u001b[1;32mfor\u001b[0m \u001b[0mstring\u001b[0m \u001b[1;32min\u001b[0m \u001b[0mtabletag\u001b[0m\u001b[1;33m.\u001b[0m\u001b[0mstripped_strings\u001b[0m\u001b[1;33m:\u001b[0m\u001b[1;33m\u001b[0m\u001b[1;33m\u001b[0m\u001b[0m\n\u001b[0m\u001b[0;32m      2\u001b[0m     \u001b[0mprint\u001b[0m\u001b[1;33m(\u001b[0m\u001b[0mrepr\u001b[0m\u001b[1;33m(\u001b[0m\u001b[0mstring\u001b[0m\u001b[1;33m)\u001b[0m\u001b[1;33m)\u001b[0m\u001b[1;33m\u001b[0m\u001b[1;33m\u001b[0m\u001b[0m\n",
      "\u001b[1;31mAttributeError\u001b[0m: 'NoneType' object has no attribute 'stripped_strings'"
     ]
    }
   ],
   "source": [
    "for string in tabletag.stripped_strings:\n",
    "    print(repr(string))"
   ]
  },
  {
   "cell_type": "code",
   "execution_count": 57,
   "metadata": {},
   "outputs": [
    {
     "name": "stdout",
     "output_type": "stream",
     "text": [
      "            very\n",
      "          veryvery\n",
      "        veryveryvery\n",
      "      veryveryveryvery\n",
      "    veryveryveryveryvery\n",
      "  veryveryveryveryveryvery\n",
      "veryveryveryveryveryveryvery\n",
      "  veryveryveryveryveryvery\n",
      "    veryveryveryveryvery\n",
      "      veryveryveryvery\n",
      "        veryveryvery\n",
      "          veryvery\n",
      "            very\n"
     ]
    }
   ],
   "source": [
    ">>> a = [1, 2, 3, 4, 5, 6, 7, 6, 5, 4, 3, 2, 1]\n",
    ">>> b = [' ' * 2 * (7 - i) + 'very' * i for i in a]\n",
    ">>> for line in b:\n",
    "...     print(line)"
   ]
  },
  {
   "cell_type": "code",
   "execution_count": 59,
   "metadata": {},
   "outputs": [],
   "source": [
    "html_doc = \"\"\"\n",
    "<html><head><title>The Dormouse's story</title></head>\n",
    "<body>\n",
    "<p class=\"title\"><b>The Dormouse's story</b></p>\n",
    "\n",
    "<p class=\"story\">Once upon a time there were three little sisters; and their names were\n",
    "<a href=\"http://example.com/elsie\" class=\"sister\" id=\"link1\">Elsie</a>,\n",
    "<a href=\"http://example.com/lacie\" class=\"sister\" id=\"link2\">Lacie</a> and\n",
    "<a href=\"http://example.com/tillie\" class=\"sister\" id=\"link3\">Tillie</a>;\n",
    "and they lived at the bottom of a well.</p>\n",
    "\n",
    "<p class=\"story\">...</p>\n",
    "\"\"\""
   ]
  },
  {
   "cell_type": "code",
   "execution_count": 60,
   "metadata": {},
   "outputs": [],
   "source": [
    "soup1 = BeautifulSoup(html_doc)"
   ]
  },
  {
   "cell_type": "code",
   "execution_count": 62,
   "metadata": {},
   "outputs": [
    {
     "name": "stdout",
     "output_type": "stream",
     "text": [
      "<html>\n",
      " <head>\n",
      "  <title>\n",
      "   The Dormouse's story\n",
      "  </title>\n",
      " </head>\n",
      " <body>\n",
      "  <p class=\"title\">\n",
      "   <b>\n",
      "    The Dormouse's story\n",
      "   </b>\n",
      "  </p>\n",
      "  <p class=\"story\">\n",
      "   Once upon a time there were three little sisters; and their names were\n",
      "   <a class=\"sister\" href=\"http://example.com/elsie\" id=\"link1\">\n",
      "    Elsie\n",
      "   </a>\n",
      "   ,\n",
      "   <a class=\"sister\" href=\"http://example.com/lacie\" id=\"link2\">\n",
      "    Lacie\n",
      "   </a>\n",
      "   and\n",
      "   <a class=\"sister\" href=\"http://example.com/tillie\" id=\"link3\">\n",
      "    Tillie\n",
      "   </a>\n",
      "   ;\n",
      "and they lived at the bottom of a well.\n",
      "  </p>\n",
      "  <p class=\"story\">\n",
      "   ...\n",
      "  </p>\n",
      " </body>\n",
      "</html>\n"
     ]
    }
   ],
   "source": [
    "print(soup1.prettify())"
   ]
  },
  {
   "cell_type": "code",
   "execution_count": 65,
   "metadata": {},
   "outputs": [
    {
     "data": {
      "text/plain": [
       "'title'"
      ]
     },
     "execution_count": 65,
     "metadata": {},
     "output_type": "execute_result"
    }
   ],
   "source": [
    "soup1.title.name"
   ]
  },
  {
   "cell_type": "code",
   "execution_count": 68,
   "metadata": {},
   "outputs": [],
   "source": [
    "a = soup.get_text()"
   ]
  },
  {
   "cell_type": "code",
   "execution_count": 71,
   "metadata": {},
   "outputs": [],
   "source": [
    "text_file = open(\"apple10q.txt\", \"w\", encoding=\"utf-8\")\n",
    "n = text_file.write(a)\n",
    "text_file.close()"
   ]
  },
  {
   "cell_type": "code",
   "execution_count": 72,
   "metadata": {},
   "outputs": [
    {
     "data": {
      "text/plain": [
       "'https://www.sec.gov/Archives/edgar/data/320193/000032019320000010/a10-qq1202012282019.htm'"
      ]
     },
     "execution_count": 72,
     "metadata": {},
     "output_type": "execute_result"
    }
   ],
   "source": [
    "url"
   ]
  },
  {
   "cell_type": "code",
   "execution_count": 4,
   "metadata": {},
   "outputs": [],
   "source": [
    "from bs4 import BeautifulSoup\n",
    "import requests\n",
    "import sys\n",
    "\n",
    "# Access search page\n",
    "cik = '0000051143'\n",
    "type = '10-K'\n",
    "# dateb = 20160101; find fillings prior to the date 2016y01m01d\n",
    "\n",
    "# Obtain HTML for search page\n",
    "# base_url = \"https://www.sec.gov/cgi-bin/browse-edgar?action=getcompany&CIK={}&type={}&dateb={}\"\n",
    "base_url = \"https://www.sec.gov/cgi-bin/browse-edgar?action=getcompany&CIK={}&type={}\"\n",
    "# edgar_resp = requests.get(base_url.format(cik, type, dateb))\n",
    "edgar_resp = requests.get(base_url.format(cik, type))\n",
    "edgar_str = edgar_resp.text"
   ]
  },
  {
   "cell_type": "code",
   "execution_count": 102,
   "metadata": {},
   "outputs": [],
   "source": [
    "# Find the document link\n",
    "doc_link = list()\n",
    "soup = BeautifulSoup(edgar_str, 'html.parser')\n",
    "table_tag = soup.find('table', class_='tableFile2')\n",
    "rows = table_tag.find_all('tr')\n",
    "\n",
    "for row in rows[1:]:\n",
    "    cells = row.find_all('td')\n",
    "#    if len(cells) > 3:\n",
    "#        if '2015' in cells[3].text: ##find fillings of particular year\n",
    "    doc_link.append('https://www.sec.gov' + cells[1].a['href'])"
   ]
  },
  {
   "cell_type": "code",
   "execution_count": 116,
   "metadata": {},
   "outputs": [],
   "source": [
    "# Obtain HTML for document page\n",
    "html_link = list()\n",
    "for doc in doc_link:\n",
    "    doc_resp = requests.get(doc)\n",
    "    doc_str = doc_resp.text\n",
    "# Find the HTML link\n",
    "    soup = BeautifulSoup(doc_str, 'html.parser')\n",
    "    table_tag = soup.find('table', class_='tableFile', summary='Document Format Files')\n",
    "    rows = table_tag.find_all('tr')\n",
    "    cells = rows[1].find_all('td')\n",
    "    html_link.append('https://www.sec.gov' + cells[2].a['href'])\n",
    "\n",
    "html_link = [w.replace('ix?doc=/', '') for w in html_link]"
   ]
  },
  {
   "cell_type": "code",
   "execution_count": 117,
   "metadata": {},
   "outputs": [
    {
     "data": {
      "text/plain": [
       "'https://www.sec.gov/Archives/edgar/data/51143/000155837020001334/ibm-20191231x10k2af531.htm'"
      ]
     },
     "execution_count": 117,
     "metadata": {},
     "output_type": "execute_result"
    }
   ],
   "source": [
    "html_link[0]"
   ]
  },
  {
   "cell_type": "code",
   "execution_count": 1,
   "metadata": {},
   "outputs": [],
   "source": [
    "url = \"https://www.sec.gov/Archives/edgar/data/320193/000032019320000010/0000320193-20-000010-index.htm\""
   ]
  },
  {
   "cell_type": "code",
   "execution_count": 5,
   "metadata": {},
   "outputs": [],
   "source": [
    "doc_resp = requests.get(url)\n",
    "doc_str = doc_resp.text\n",
    "soup = BeautifulSoup(doc_str, 'html.parser')"
   ]
  },
  {
   "cell_type": "code",
   "execution_count": 52,
   "metadata": {},
   "outputs": [],
   "source": [
    "div_tag = soup.find('div', id='formHeader')\n",
    "secnum = div_tag.find('div', id='secNum')\n",
    "a = list()\n",
    "filenum = list()\n",
    "for string in secnum.strings:\n",
    "    a.append(repr(string))\n",
    "    b = a[-1].replace(' ', '')\n",
    "    b = a[-1].replace('\\\\n', '')\n",
    "    filenum.append(b)"
   ]
  },
  {
   "cell_type": "code",
   "execution_count": 67,
   "metadata": {},
   "outputs": [],
   "source": [
    "filenum = a[-1].replace(' ', '')\n",
    "filenum = a[-1].replace('\\\\n', '')"
   ]
  },
  {
   "cell_type": "code",
   "execution_count": 73,
   "metadata": {},
   "outputs": [
    {
     "data": {
      "text/plain": [
       "'0000320193-20-000010'"
      ]
     },
     "execution_count": 73,
     "metadata": {},
     "output_type": "execute_result"
    }
   ],
   "source": [
    "secnum.get_text().split()[3]"
   ]
  },
  {
   "cell_type": "code",
   "execution_count": 53,
   "metadata": {},
   "outputs": [
    {
     "data": {
      "text/plain": [
       "[\"'\\\\n'\",\n",
       " \"'SEC'\",\n",
       " \"' Accession '\",\n",
       " \"'No.'\",\n",
       " \"' 0000320193-20-000010\\\\n      '\"]"
      ]
     },
     "execution_count": 53,
     "metadata": {},
     "output_type": "execute_result"
    }
   ],
   "source": [
    "a"
   ]
  },
  {
   "cell_type": "code",
   "execution_count": 59,
   "metadata": {},
   "outputs": [
    {
     "data": {
      "text/plain": [
       "\u001b[1;31mSignature:\u001b[0m \u001b[0mrepr\u001b[0m\u001b[1;33m(\u001b[0m\u001b[0mobj\u001b[0m\u001b[1;33m,\u001b[0m \u001b[1;33m/\u001b[0m\u001b[1;33m)\u001b[0m\u001b[1;33m\u001b[0m\u001b[1;33m\u001b[0m\u001b[0m\n",
       "\u001b[1;31mDocstring:\u001b[0m\n",
       "Return the canonical string representation of the object.\n",
       "\n",
       "For many object types, including most builtins, eval(repr(obj)) == obj.\n",
       "\u001b[1;31mType:\u001b[0m      builtin_function_or_method\n"
      ]
     },
     "metadata": {},
     "output_type": "display_data"
    }
   ],
   "source": [
    "repr?"
   ]
  },
  {
   "cell_type": "code",
   "execution_count": 84,
   "metadata": {},
   "outputs": [],
   "source": [
    "div_tag = soup.find('div', class_='formContent')\n",
    "secnum = div_tag.find_all('div', class_='info')\n",
    "a = secnum[0].get_text()\n",
    "#    filenum.append(a)"
   ]
  },
  {
   "cell_type": "code",
   "execution_count": 85,
   "metadata": {},
   "outputs": [
    {
     "data": {
      "text/plain": [
       "'2020-01-29'"
      ]
     },
     "execution_count": 85,
     "metadata": {},
     "output_type": "execute_result"
    }
   ],
   "source": [
    "a"
   ]
  },
  {
   "cell_type": "code",
   "execution_count": 77,
   "metadata": {},
   "outputs": [
    {
     "data": {
      "text/plain": [
       "<div class=\"formContent\">\n",
       "<div class=\"formGrouping\">\n",
       "<div class=\"infoHead\">Filing Date</div>\n",
       "<div class=\"info\">2020-01-29</div>\n",
       "<div class=\"infoHead\">Accepted</div>\n",
       "<div class=\"info\">2020-01-28 18:02:44</div>\n",
       "<div class=\"infoHead\">Documents</div>\n",
       "<div class=\"info\">80</div>\n",
       "</div>\n",
       "<div class=\"formGrouping\">\n",
       "<div class=\"infoHead\">Period of Report</div>\n",
       "<div class=\"info\">2019-12-28</div>\n",
       "</div>\n",
       "<div style=\"clear:both\"></div>\n",
       "</div>"
      ]
     },
     "execution_count": 77,
     "metadata": {},
     "output_type": "execute_result"
    }
   ],
   "source": [
    "div_tag"
   ]
  },
  {
   "cell_type": "code",
   "execution_count": 121,
   "metadata": {},
   "outputs": [],
   "source": [
    "div_tag = soup.find_all('div', class_='mailer')[1]\n",
    "ba = div_tag.get_text().split()\n",
    "    # Company Name\n",
    "# a = filinginfo.get_text().split(\"\\n\")[0]\n"
   ]
  },
  {
   "cell_type": "code",
   "execution_count": 167,
   "metadata": {},
   "outputs": [
    {
     "data": {
      "text/plain": [
       "['Business',\n",
       " 'Address',\n",
       " 'ONE',\n",
       " 'APPLE',\n",
       " 'PARK',\n",
       " 'WAY',\n",
       " 'CUPERTINO',\n",
       " 'CA',\n",
       " '95014',\n",
       " '(408)',\n",
       " '996-1010']"
      ]
     },
     "execution_count": 167,
     "metadata": {},
     "output_type": "execute_result"
    }
   ],
   "source": [
    "ba"
   ]
  },
  {
   "cell_type": "code",
   "execution_count": 172,
   "metadata": {},
   "outputs": [],
   "source": [
    "import re\n",
    "for w in ba:\n",
    "    match = str(re.search(r'\\d*5', w))\n",
    "    if match != \"None\":\n",
    "        a = ba[ba.index(w)]\n"
   ]
  },
  {
   "cell_type": "code",
   "execution_count": 173,
   "metadata": {},
   "outputs": [
    {
     "data": {
      "text/plain": [
       "'95014'"
      ]
     },
     "execution_count": 173,
     "metadata": {},
     "output_type": "execute_result"
    }
   ],
   "source": [
    "a"
   ]
  },
  {
   "cell_type": "code",
   "execution_count": 160,
   "metadata": {},
   "outputs": [
    {
     "data": {
      "text/plain": [
       "\"<re.Match object; span=(75, 77), match='95'>\""
      ]
     },
     "execution_count": 160,
     "metadata": {},
     "output_type": "execute_result"
    }
   ],
   "source": [
    "match"
   ]
  },
  {
   "cell_type": "code",
   "execution_count": 10,
   "metadata": {},
   "outputs": [
    {
     "data": {
      "text/plain": [
       "['F:', 'jupyter', 'edgar']"
      ]
     },
     "execution_count": 10,
     "metadata": {},
     "output_type": "execute_result"
    }
   ],
   "source": [
    "import os\n",
    "os.getcwd().split(\"\\\\\")"
   ]
  },
  {
   "cell_type": "code",
   "execution_count": 4,
   "metadata": {},
   "outputs": [
    {
     "data": {
      "text/plain": [
       "''"
      ]
     },
     "execution_count": 4,
     "metadata": {},
     "output_type": "execute_result"
    }
   ],
   "source": [
    "current_directory"
   ]
  },
  {
   "cell_type": "code",
   "execution_count": 11,
   "metadata": {},
   "outputs": [],
   "source": [
    "os.chdir('../')"
   ]
  },
  {
   "cell_type": "code",
   "execution_count": 12,
   "metadata": {},
   "outputs": [
    {
     "data": {
      "text/plain": [
       "'F:\\\\jupyter'"
      ]
     },
     "execution_count": 12,
     "metadata": {},
     "output_type": "execute_result"
    }
   ],
   "source": [
    "os.getcwd()"
   ]
  },
  {
   "cell_type": "code",
   "execution_count": 2,
   "metadata": {},
   "outputs": [],
   "source": [
    "url = 'https://www.sec.gov/Archives/edgar/data/51143/000155837019009324/ibm-20190930x10q.htm'"
   ]
  },
  {
   "cell_type": "code",
   "execution_count": 4,
   "metadata": {},
   "outputs": [
    {
     "data": {
      "text/plain": [
       "\"<?xml version='1.0' encoding='UTF-8'?>\\n\\n      <!-- iXBRL doc\""
      ]
     },
     "execution_count": 4,
     "metadata": {},
     "output_type": "execute_result"
    }
   ],
   "source": [
    "from urllib import request\n",
    "html = request.urlopen(url).read().decode('utf8')\n",
    "html[:60]"
   ]
  },
  {
   "cell_type": "code",
   "execution_count": 7,
   "metadata": {},
   "outputs": [
    {
     "data": {
      "text/plain": [
       "'OtherIncomeAndExpenseibm'"
      ]
     },
     "execution_count": 7,
     "metadata": {},
     "output_type": "execute_result"
    }
   ],
   "source": [
    "from bs4 import BeautifulSoup\n",
    "import nltk, re, pprint\n",
    "from nltk import word_tokenize\n",
    "raw = BeautifulSoup(html, 'html.parser').get_text()\n",
    "tokens = word_tokenize(raw)\n",
    "tokens[2]"
   ]
  },
  {
   "cell_type": "code",
   "execution_count": 8,
   "metadata": {},
   "outputs": [
    {
     "data": {
      "text/plain": [
       "24"
      ]
     },
     "execution_count": 8,
     "metadata": {},
     "output_type": "execute_result"
    }
   ],
   "source": [
    "len(tokens[2])"
   ]
  },
  {
   "cell_type": "code",
   "execution_count": 11,
   "metadata": {},
   "outputs": [],
   "source": [
    "tokens_clean = [w for w in tokens if len(w)<10]"
   ]
  },
  {
   "cell_type": "code",
   "execution_count": 13,
   "metadata": {},
   "outputs": [
    {
     "data": {
      "text/plain": [
       "{'wind',\n",
       " 'promptly',\n",
       " 'central',\n",
       " '69.5',\n",
       " 'rise',\n",
       " 'dilution\\u200b',\n",
       " '28,841',\n",
       " 'portion\\u200b',\n",
       " '8,853',\n",
       " 'fees',\n",
       " 'ongoing',\n",
       " 'revise',\n",
       " '27.9',\n",
       " '2,086\\u200b',\n",
       " '25\\u200bTotal\\u200b',\n",
       " '0\\u200b\\u200b',\n",
       " '19.0',\n",
       " '153',\n",
       " 'CHANGES',\n",
       " 'portion',\n",
       " 'amounts\\u200b',\n",
       " '1,568\\u200b',\n",
       " 'Given',\n",
       " 'City',\n",
       " '901Baa1',\n",
       " '1,095',\n",
       " 'ranging',\n",
       " 'aged',\n",
       " '9',\n",
       " '—Other',\n",
       " '4,958\\u200b',\n",
       " '249\\u200b',\n",
       " '24,594\\u200b',\n",
       " 'pending',\n",
       " 'judgment',\n",
       " '1.52',\n",
       " '225',\n",
       " '534Lease',\n",
       " 'release',\n",
       " 'cost/',\n",
       " 'principal',\n",
       " '5,827Asia',\n",
       " 'pricing',\n",
       " '12,526',\n",
       " 'Appeal',\n",
       " '134Total',\n",
       " 'Life',\n",
       " 'discussed',\n",
       " '81.3',\n",
       " 'claims',\n",
       " '1,006\\u200b',\n",
       " 'even',\n",
       " '388,335',\n",
       " '31Total',\n",
       " '6.3',\n",
       " '408\\u200b',\n",
       " '100\\u200b',\n",
       " 'Purchased',\n",
       " 'With',\n",
       " '15.2',\n",
       " 'relevant',\n",
       " '51\\u200b',\n",
       " 'models',\n",
       " '19.9',\n",
       " '8.8',\n",
       " 'F.',\n",
       " 'whereas',\n",
       " 'practice',\n",
       " 'updated',\n",
       " '28,865',\n",
       " '1,185\\u200b',\n",
       " '399',\n",
       " 'and/or',\n",
       " '432*Other',\n",
       " '60',\n",
       " 'trust',\n",
       " '18.8\\u200bBad',\n",
       " 'know-how',\n",
       " '86',\n",
       " 'CISGIL',\n",
       " 'property',\n",
       " '*Total',\n",
       " 'price',\n",
       " '1,078\\u200b',\n",
       " '208B2',\n",
       " '138\\u200b',\n",
       " 'specified',\n",
       " '/benefit',\n",
       " '217\\u200b',\n",
       " '1,007',\n",
       " '60Selling',\n",
       " '890\\u200b',\n",
       " 'adjusting',\n",
       " '15,613\\u200b',\n",
       " 'CIS',\n",
       " '4,562',\n",
       " '**\\u200bOther',\n",
       " 'portfolio',\n",
       " '99Table',\n",
       " '4,638',\n",
       " '\\u200b\\u200b\\u200bNet',\n",
       " 'dates',\n",
       " 'Measured',\n",
       " 'decreases',\n",
       " '335Other',\n",
       " 'guidance',\n",
       " '51.1',\n",
       " 'employees',\n",
       " 'first',\n",
       " 'USus-gaap',\n",
       " '388\\u200b',\n",
       " '618\\u200b',\n",
       " 'probable',\n",
       " '627',\n",
       " 'Major',\n",
       " 'includes',\n",
       " 'purport',\n",
       " '3,060',\n",
       " '4,187',\n",
       " '19,341\\u200b',\n",
       " 'enactment',\n",
       " 'factor',\n",
       " '518',\n",
       " 'XBRL',\n",
       " 'still',\n",
       " 'adopt',\n",
       " '14.6',\n",
       " '124',\n",
       " 'clean',\n",
       " 'health',\n",
       " '250\\u200b',\n",
       " 'PlansFor',\n",
       " '163,507',\n",
       " 'estimate',\n",
       " '2,874Net',\n",
       " 'Reference',\n",
       " 'Services',\n",
       " '28A',\n",
       " '79Table',\n",
       " 'centers',\n",
       " 'permits',\n",
       " 'costs\\u200b',\n",
       " '148',\n",
       " 'last',\n",
       " 'leasing',\n",
       " '12,203\\u200b',\n",
       " '0\\u200bDebt',\n",
       " 'laws',\n",
       " '55.1',\n",
       " '☐',\n",
       " 'status',\n",
       " 'Claims',\n",
       " '174\\u200b',\n",
       " '160A1',\n",
       " '6.7',\n",
       " 'dynamics',\n",
       " 'retained',\n",
       " '15Total\\u200b',\n",
       " 'move',\n",
       " '13.3',\n",
       " '2024',\n",
       " 'suits',\n",
       " 'Generally',\n",
       " '●Level',\n",
       " 'occur',\n",
       " '42',\n",
       " '35Table',\n",
       " '1,497\\u200b',\n",
       " 'reasons',\n",
       " '733\\u200b',\n",
       " 'explicit',\n",
       " 'Annual',\n",
       " '2,4283.2',\n",
       " '\\u200b\\u200b\\u200b\\u200b\\u200b\\u200bFor',\n",
       " '219',\n",
       " 'weaker',\n",
       " '290\\u200b',\n",
       " 'materials',\n",
       " 'Both',\n",
       " 'dated',\n",
       " '308\\u200b\\u200b',\n",
       " '178',\n",
       " 'enforces',\n",
       " '485',\n",
       " 'lessees',\n",
       " '847\\u200b2020\\u200b',\n",
       " 'billions',\n",
       " 'timing',\n",
       " 'India',\n",
       " '911.2',\n",
       " '5,863\\u200b',\n",
       " 'receive',\n",
       " '0.0pts',\n",
       " '61\\u200b\\u200b',\n",
       " '5,864',\n",
       " '144',\n",
       " 'Contract',\n",
       " 'exposed',\n",
       " '16Total',\n",
       " 'unfair',\n",
       " '4.6',\n",
       " '253',\n",
       " '869\\u200b',\n",
       " '\\u200bTitle',\n",
       " '112',\n",
       " '6,004',\n",
       " 'Other',\n",
       " 'winding',\n",
       " '2,518*',\n",
       " '19,443\\u200b',\n",
       " 'fully',\n",
       " 'Del',\n",
       " 'hierarchy',\n",
       " '37Table',\n",
       " 'Africa',\n",
       " '4,3442.7',\n",
       " '24Total',\n",
       " 'III',\n",
       " '2,308',\n",
       " '12,391\\u200b',\n",
       " 'Finished',\n",
       " '490',\n",
       " '26,249',\n",
       " '752\\u200b',\n",
       " '11,936',\n",
       " 'Net',\n",
       " 'financing',\n",
       " '2\\u200b\\u200b',\n",
       " 'scale',\n",
       " 'expands',\n",
       " 'class',\n",
       " 'clients',\n",
       " '.\\u200b82Table',\n",
       " '8,530\\u200b',\n",
       " 'accessed',\n",
       " '177',\n",
       " '4,183\\u200b',\n",
       " '86Table',\n",
       " '4,061\\u200b',\n",
       " '3,164\\u200b',\n",
       " 'deals',\n",
       " '\\u200bInterest',\n",
       " 'opening',\n",
       " 'decision',\n",
       " '☐Smaller',\n",
       " '1,337\\u200b',\n",
       " '\\u200b●An',\n",
       " 'nominal',\n",
       " '6,846\\u200b',\n",
       " '32Other',\n",
       " 'and●A',\n",
       " 'Growth',\n",
       " '3.1',\n",
       " '490\\u200b',\n",
       " 'uncertain',\n",
       " 'funds\\u200b',\n",
       " 'Notes',\n",
       " '402\\u200b',\n",
       " 'publicly',\n",
       " 'lives',\n",
       " 'Various',\n",
       " 'landscape',\n",
       " 'pay',\n",
       " 'cycle',\n",
       " 'greater',\n",
       " '357',\n",
       " '317',\n",
       " '4,393\\u200b',\n",
       " '17,354\\u200b',\n",
       " 'alleging',\n",
       " '1.73',\n",
       " '2,745\\u200b',\n",
       " '5,766\\u200b',\n",
       " 'in-scope',\n",
       " 'swaps',\n",
       " '43\\u200b',\n",
       " '6,770Net',\n",
       " '346\\u200b',\n",
       " 'Revenue\\u200b',\n",
       " 'QUARTER',\n",
       " '18,567\\u200b',\n",
       " 'defaulted',\n",
       " '165,995',\n",
       " 'according',\n",
       " '10-K',\n",
       " 'fund',\n",
       " 'committed',\n",
       " 'bring',\n",
       " '8.4',\n",
       " 'by●A',\n",
       " '724',\n",
       " 'single',\n",
       " '130\\u200b',\n",
       " 'PURSUANT',\n",
       " 'annotated',\n",
       " 'by',\n",
       " 'Together',\n",
       " 'Southern',\n",
       " 'B3\\u200b',\n",
       " 'scope',\n",
       " 'balance\\u200b',\n",
       " '118',\n",
       " 'while',\n",
       " 'shared',\n",
       " 'post-Red',\n",
       " '24,988',\n",
       " '\\u200b\\u200bFor',\n",
       " '184B2',\n",
       " 'foregoing',\n",
       " '%',\n",
       " 'own',\n",
       " 'good',\n",
       " '81',\n",
       " '1,160\\u200b',\n",
       " 'recent',\n",
       " '191\\u200b\\u200b',\n",
       " '249',\n",
       " '175',\n",
       " 'REPORT',\n",
       " '1,341\\u200b',\n",
       " 'pattern',\n",
       " 'ratios',\n",
       " '2,839',\n",
       " 'Through',\n",
       " '22\\u200b',\n",
       " 'local',\n",
       " '3,414\\u200b',\n",
       " '220',\n",
       " '6,895\\u200b',\n",
       " 'Cognitive',\n",
       " 'operates',\n",
       " 'stayed',\n",
       " '/loss',\n",
       " '632',\n",
       " 'Assistant',\n",
       " 'formula',\n",
       " '333Total',\n",
       " '266Work',\n",
       " 'unbilled',\n",
       " '7\\u200b',\n",
       " 'detailed',\n",
       " 'S-T',\n",
       " 'necessary',\n",
       " '8.2',\n",
       " 'costs',\n",
       " 'complaint',\n",
       " 'Of',\n",
       " 'futures',\n",
       " '11,731\\u200b',\n",
       " '98',\n",
       " '1,234\\u200b',\n",
       " 'service',\n",
       " 'total',\n",
       " 'rather',\n",
       " 'Direct',\n",
       " 'leases',\n",
       " '759\\u200b2023\\u200b',\n",
       " '461\\u200b\\u200b',\n",
       " 'exchange',\n",
       " 'liability',\n",
       " 'facts',\n",
       " 'numbers',\n",
       " 'par',\n",
       " '\\u200bOther',\n",
       " '1,331',\n",
       " 'currency',\n",
       " 'title',\n",
       " 'given',\n",
       " 'Utilizing',\n",
       " 'estate',\n",
       " 'Balance',\n",
       " 'consist',\n",
       " '\\u200bOther\\u200b',\n",
       " '761\\u200b',\n",
       " 'by\\u200b●A',\n",
       " '1,481\\u200b',\n",
       " '8\\u200bCost',\n",
       " 'renewal',\n",
       " 'Service',\n",
       " '0.3pts',\n",
       " 'Baa3',\n",
       " 'Qualified',\n",
       " 'currently',\n",
       " '27.1',\n",
       " '9,047\\u200b',\n",
       " 'mitigated',\n",
       " '4,573\\u200bR',\n",
       " 'Data',\n",
       " 'debt',\n",
       " '846\\u200b',\n",
       " 'Assuming',\n",
       " '39.4',\n",
       " 'Includes',\n",
       " '460',\n",
       " 'Certain',\n",
       " 'IP',\n",
       " '3,358\\u200b',\n",
       " 'twelve',\n",
       " 'General',\n",
       " 'state',\n",
       " 'Interests',\n",
       " 'indenture',\n",
       " '7.9',\n",
       " '2021\\u200b',\n",
       " '2.20',\n",
       " 'accounts',\n",
       " 'Process',\n",
       " '9\\u200b\\u200b',\n",
       " 'portions',\n",
       " 'Poor',\n",
       " '1,339\\u200b',\n",
       " 'Fair',\n",
       " 'lifecycle',\n",
       " 'acquired\\u200b',\n",
       " '1,107\\u200b',\n",
       " 'Except',\n",
       " '76.1',\n",
       " '2,391\\u200b',\n",
       " 'funding',\n",
       " 'likely',\n",
       " '195.0',\n",
       " 'Superfund',\n",
       " 'slightly',\n",
       " '1,968',\n",
       " '11,852\\u200b',\n",
       " 'Refer',\n",
       " '330',\n",
       " 'briefing',\n",
       " 'Accounts',\n",
       " 'Act',\n",
       " '80Table',\n",
       " '1,212\\u200b',\n",
       " 'useful',\n",
       " 'recourse',\n",
       " 'nm',\n",
       " 'services\\u200b',\n",
       " '10,729',\n",
       " 'covenant',\n",
       " '1,635\\u200b',\n",
       " '1,915\\u200b',\n",
       " '64\\u200b',\n",
       " '397\\u200b',\n",
       " 'zero',\n",
       " 'assets/',\n",
       " '204Gross',\n",
       " '171\\u200b\\u200b',\n",
       " 'Contains',\n",
       " '20185\\u200b\\u200b',\n",
       " '1,221\\u200b',\n",
       " '34.8',\n",
       " 'specific',\n",
       " '\\u200bGlobal',\n",
       " '44\\u200b\\u200b',\n",
       " '0.0',\n",
       " 'unit',\n",
       " 'multiple',\n",
       " '22,435*',\n",
       " 'party',\n",
       " 'Partially',\n",
       " '34.6',\n",
       " 'identical',\n",
       " 'channels',\n",
       " '28\\u200bThe',\n",
       " '4.25',\n",
       " 'Item\\u200b2019',\n",
       " '\\u200b\\u200bMargin',\n",
       " 'terms',\n",
       " '8.9',\n",
       " '8.10\\u200b*',\n",
       " 'Robert',\n",
       " 'maker',\n",
       " 'acquiree',\n",
       " 'Three',\n",
       " 'decisions',\n",
       " 'date',\n",
       " '26\\u200b',\n",
       " 'vehicles',\n",
       " 'units\\u200b',\n",
       " 'however',\n",
       " '1\\u200b\\u200b',\n",
       " '499\\u200b\\u200b',\n",
       " '149\\u200b',\n",
       " '512\\u200b',\n",
       " '6008.0',\n",
       " 'charges\\u200b',\n",
       " 'improved',\n",
       " 'damages',\n",
       " '2,231\\u200b',\n",
       " 'pts',\n",
       " 'speaks',\n",
       " '2028',\n",
       " 'result',\n",
       " 's-length',\n",
       " '\\u200bActual',\n",
       " '580',\n",
       " 'funded',\n",
       " 'FlowThe',\n",
       " '302\\u200b',\n",
       " '3.6',\n",
       " 'Royalties',\n",
       " 'Acquired',\n",
       " 'adjusts',\n",
       " '6,908',\n",
       " 'In-scope',\n",
       " 'start',\n",
       " '20,412',\n",
       " '\\u200b\\u200bPercent',\n",
       " 'Residual',\n",
       " 'Retained',\n",
       " 'excluded',\n",
       " '168',\n",
       " 'Value',\n",
       " 'order',\n",
       " '1,194*',\n",
       " '2,937\\u200b',\n",
       " 'Basis',\n",
       " 'mainly',\n",
       " 'accruals\\u200b',\n",
       " '\\u200b\\u200bDate',\n",
       " '985Client',\n",
       " '1,095\\u200b',\n",
       " '46.5',\n",
       " 'Second',\n",
       " 'determine',\n",
       " 'same',\n",
       " '—3.7',\n",
       " 'option',\n",
       " '3.25',\n",
       " 'Fixed',\n",
       " '18,648Net',\n",
       " 'GAAP\\u200b',\n",
       " 'age',\n",
       " 'assessing',\n",
       " 'sites',\n",
       " 'intends',\n",
       " 'recast',\n",
       " 'these',\n",
       " 'lessorThe',\n",
       " 'Linux',\n",
       " '49.3',\n",
       " '\\u200bThe',\n",
       " 'direct',\n",
       " 'no',\n",
       " '3,087*',\n",
       " 'York10504',\n",
       " 'spread',\n",
       " '12,203',\n",
       " 'assumes',\n",
       " '15\\u200b\\u200b',\n",
       " '338',\n",
       " 'segments',\n",
       " '5Total',\n",
       " 'Divested',\n",
       " '803',\n",
       " 'July',\n",
       " 'A',\n",
       " 'plan',\n",
       " 'achieve',\n",
       " '26,592',\n",
       " '108EMEA\\u200b',\n",
       " '613',\n",
       " 'geography',\n",
       " '616',\n",
       " '4,363\\u200b',\n",
       " 'Security',\n",
       " '1,283',\n",
       " 'divested',\n",
       " '1,878',\n",
       " 'work',\n",
       " '779\\u200b',\n",
       " '1.3pts',\n",
       " 'signing',\n",
       " '35',\n",
       " 'March',\n",
       " '329',\n",
       " '900\\u200b',\n",
       " '2010',\n",
       " '3Equity',\n",
       " 'directly',\n",
       " 'Liquidity',\n",
       " '65Table',\n",
       " '24Cash',\n",
       " 'couple',\n",
       " 'shell',\n",
       " 'of',\n",
       " 'pledged',\n",
       " '2018Cost\\u200b',\n",
       " '\\u200bTotal',\n",
       " '15\\u200b',\n",
       " 'above',\n",
       " 'relations',\n",
       " 'contested',\n",
       " 'accruing',\n",
       " '5,997',\n",
       " 'U.S',\n",
       " 'approved',\n",
       " '6.45\\u200b',\n",
       " 'nm\\u200bTotal',\n",
       " 'sales',\n",
       " '—\\u200b\\u200b',\n",
       " '207\\u200b',\n",
       " 'October',\n",
       " '113.2',\n",
       " '906',\n",
       " 'permitted',\n",
       " '279Lease',\n",
       " 'SECTION',\n",
       " 'A-1',\n",
       " 'standard',\n",
       " '16,752\\u200b',\n",
       " '417\\u200b\\u200b',\n",
       " '2030\\u200b',\n",
       " 'steady',\n",
       " 'dealers',\n",
       " 'constant',\n",
       " 'reflects',\n",
       " 'defend',\n",
       " '—pts',\n",
       " '120',\n",
       " 'expense*\\u200b',\n",
       " 'judgments',\n",
       " '892\\u200b\\u200b',\n",
       " '20,581',\n",
       " 'entityibm',\n",
       " 'allows',\n",
       " 'soon',\n",
       " '133',\n",
       " '2025',\n",
       " '32\\u200b',\n",
       " 'GAAP',\n",
       " 'decrease',\n",
       " '5,528',\n",
       " 'Treasury',\n",
       " 'Terms',\n",
       " 'depending',\n",
       " 'linked',\n",
       " 'was',\n",
       " '5.8pts',\n",
       " 'accruals',\n",
       " '1,005\\u200b',\n",
       " 'rate\\u200b',\n",
       " '344',\n",
       " 'Gains',\n",
       " 'Results',\n",
       " 'expose',\n",
       " 'Recast',\n",
       " 'brought',\n",
       " 'objective',\n",
       " 'defined',\n",
       " '640\\u200b',\n",
       " 'Pre-tax',\n",
       " 'Platforms',\n",
       " '20,515',\n",
       " '5.1',\n",
       " 'inputs',\n",
       " '32\\u200b\\u200b',\n",
       " 'discretes',\n",
       " '3,449\\u200b',\n",
       " '34\\u200b\\u200b',\n",
       " '109',\n",
       " '54.4',\n",
       " 'and\\u200b',\n",
       " 'AIX',\n",
       " 'initial',\n",
       " '26*\\u200b\\u200b',\n",
       " 'along',\n",
       " '3,827\\u200b',\n",
       " 'Financial',\n",
       " 'aligned',\n",
       " '4,834',\n",
       " 'insurance',\n",
       " '8,527\\u200b',\n",
       " 'computed',\n",
       " '2.7',\n",
       " 'outside',\n",
       " 'Code',\n",
       " 'filer',\n",
       " '35.7',\n",
       " '50.9',\n",
       " 'eliminate',\n",
       " '3,139',\n",
       " '1,560\\u200b\\u200b',\n",
       " 'therein',\n",
       " 'chief',\n",
       " '1.8',\n",
       " '815Vacant',\n",
       " '1,123',\n",
       " 'lowest',\n",
       " 'rows',\n",
       " 'Segments.',\n",
       " 'POSITION',\n",
       " '34,211',\n",
       " '447',\n",
       " 'income*\\u200b',\n",
       " '2021',\n",
       " 'Chief',\n",
       " 'might',\n",
       " '306\\u200b',\n",
       " '349',\n",
       " '45\\u200b',\n",
       " '2.95',\n",
       " 'composed',\n",
       " 'change',\n",
       " '2Net',\n",
       " '.94Table',\n",
       " '129\\u200b',\n",
       " 'Plan',\n",
       " '593\\u200b',\n",
       " 'actual',\n",
       " '13\\u200b\\u200b',\n",
       " 'container',\n",
       " 'eligible',\n",
       " '129',\n",
       " 'interest',\n",
       " 'services',\n",
       " '1,166',\n",
       " '2018Cash',\n",
       " '9,979,516',\n",
       " 'recorded',\n",
       " '11,889\\u200b',\n",
       " 'election',\n",
       " '30.4',\n",
       " 'benefits',\n",
       " '103Loan',\n",
       " 'being',\n",
       " '111',\n",
       " 'acquired',\n",
       " '46\\u200b',\n",
       " '22.2',\n",
       " '149,620\\u200b',\n",
       " '82Cash',\n",
       " 'risk',\n",
       " 'Salt',\n",
       " 'Insurance',\n",
       " '2023',\n",
       " '2,050',\n",
       " '10\\u200b',\n",
       " '641',\n",
       " 'increases',\n",
       " 'page',\n",
       " '2.68\\u200b*',\n",
       " 'employs',\n",
       " '305\\u200b',\n",
       " '367',\n",
       " '695',\n",
       " '834.5',\n",
       " '96\\u200b',\n",
       " '6,305\\u200b',\n",
       " '2,154\\u200b',\n",
       " '157,349\\u200b',\n",
       " 'backlog\\u200b',\n",
       " '1,175\\u200b\\u200b',\n",
       " '57,830',\n",
       " 'curves',\n",
       " 'ship',\n",
       " 'notes',\n",
       " 'RPO',\n",
       " '42.7',\n",
       " '10,644\\u200b',\n",
       " 'item\\u200b',\n",
       " '8,148',\n",
       " '105\\u200b',\n",
       " 'meaning',\n",
       " '3,275\\u200b',\n",
       " '2,694',\n",
       " 'bad',\n",
       " '2019.As',\n",
       " '663',\n",
       " '323\\u200b',\n",
       " 'flows',\n",
       " 'basis.The',\n",
       " '601',\n",
       " 'guarantee',\n",
       " '\\u200b\\u200bTotal',\n",
       " 'defenses',\n",
       " '32',\n",
       " 'motion',\n",
       " 'low',\n",
       " '1,225',\n",
       " 'York',\n",
       " '46',\n",
       " 'billion',\n",
       " '4,782\\u200b',\n",
       " 'Legal',\n",
       " '5,698\\u200b',\n",
       " '1,712\\u200b',\n",
       " 'delivers',\n",
       " '27,820',\n",
       " '0.6',\n",
       " '37.8',\n",
       " 'N/ATotal',\n",
       " 'assets',\n",
       " '2020',\n",
       " 'software\\u200b',\n",
       " 'Software\\u200b',\n",
       " ',',\n",
       " 'Jobs',\n",
       " '61\\u200b',\n",
       " '316',\n",
       " '19,236\\u200b',\n",
       " '1,240',\n",
       " 'would',\n",
       " '493\\u200b',\n",
       " 'unused',\n",
       " 'pts.Net',\n",
       " 'CASH',\n",
       " 'life',\n",
       " '440\\u200b',\n",
       " '451',\n",
       " '6,173\\u200b',\n",
       " '14,665\\u200b',\n",
       " '6,908\\u200b*',\n",
       " 'Middle',\n",
       " '4.0pts',\n",
       " 'thereby',\n",
       " 'IDC',\n",
       " 'home',\n",
       " '1,978\\u200b',\n",
       " '601\\u200b',\n",
       " 'Others',\n",
       " '2019.N/A',\n",
       " '368\\u200b',\n",
       " 'request',\n",
       " '6',\n",
       " 'manner',\n",
       " '8-K',\n",
       " 'Internet',\n",
       " '\\u200b\\u200b\\u200b\\u200b\\u200b\\u200bAt',\n",
       " '2018',\n",
       " 'Reported',\n",
       " 'unable',\n",
       " '343\\u200b',\n",
       " 'court',\n",
       " '\\u200b\\u200bOne',\n",
       " 'Taxes',\n",
       " '321\\u200b',\n",
       " 'master',\n",
       " '104',\n",
       " '196\\u200b',\n",
       " 'SEGMENT',\n",
       " '4,573\\u200b',\n",
       " '134\\u200b',\n",
       " 'file',\n",
       " '2019.On',\n",
       " '--',\n",
       " 'yield',\n",
       " 'strategic',\n",
       " 'Such',\n",
       " 'Zip',\n",
       " 'From',\n",
       " '313\\u200b',\n",
       " 'were',\n",
       " '50\\u200b',\n",
       " 'United',\n",
       " '28\\u200b',\n",
       " '6,700',\n",
       " '488\\u200b',\n",
       " 'had',\n",
       " 'tags',\n",
       " 'removal',\n",
       " '2019\\u200b\\u200b\\u200bBy',\n",
       " 'Rate',\n",
       " 'employee',\n",
       " 'plans.In',\n",
       " 'delivered',\n",
       " '43.1',\n",
       " '2,953\\u200b',\n",
       " '117',\n",
       " 'research',\n",
       " 'required',\n",
       " 'accrued',\n",
       " 'valuation',\n",
       " '121',\n",
       " 'liquidity',\n",
       " '6.6',\n",
       " '15,962',\n",
       " 'sterling',\n",
       " '43.9',\n",
       " 'comprised',\n",
       " 'Items',\n",
       " 'track',\n",
       " '915.2',\n",
       " 'workloads',\n",
       " '16,608\\u200b',\n",
       " 'consists',\n",
       " 'evaluated',\n",
       " 'Instance',\n",
       " 'asset',\n",
       " 'new',\n",
       " 'Advise',\n",
       " 'each',\n",
       " 'lower',\n",
       " '3,504\\u200b',\n",
       " '279\\u200b',\n",
       " 'Court',\n",
       " 'driver',\n",
       " '10.6',\n",
       " 'They',\n",
       " '704',\n",
       " 'within',\n",
       " 'started',\n",
       " 'under',\n",
       " '618',\n",
       " '2024\\u200b',\n",
       " 'improves',\n",
       " 'relating',\n",
       " 'resources',\n",
       " 'raise',\n",
       " 'condition',\n",
       " 'discount',\n",
       " '703',\n",
       " '1,427\\u200b',\n",
       " '62Caa',\n",
       " '478',\n",
       " '1,188',\n",
       " '2,053',\n",
       " 'movements',\n",
       " '18,097\\u200b',\n",
       " 'reliance',\n",
       " 'Cost',\n",
       " '25A',\n",
       " '2,988\\u200b',\n",
       " '447\\u200b',\n",
       " 'structure',\n",
       " 'hardware',\n",
       " 'favor',\n",
       " 'lines',\n",
       " '1,128\\u200b',\n",
       " 'name',\n",
       " '5,981\\u200b',\n",
       " 'limit',\n",
       " '42.5',\n",
       " 'expensed',\n",
       " 'levels',\n",
       " 'met',\n",
       " '33.4',\n",
       " 'equipment',\n",
       " '940\\u200b',\n",
       " '194',\n",
       " 'next',\n",
       " 'normal',\n",
       " 'POOR',\n",
       " 'Unaudited',\n",
       " '6\\u200b\\u200b',\n",
       " '308',\n",
       " 'pages',\n",
       " 'smaller',\n",
       " '15SG',\n",
       " 'external',\n",
       " 'segments\\u200b',\n",
       " 'finance',\n",
       " '9Other',\n",
       " '1,296',\n",
       " 'improve',\n",
       " 'enters',\n",
       " '313',\n",
       " '2.2pts',\n",
       " 'could',\n",
       " 'Carrying',\n",
       " 'Board',\n",
       " 'exposure',\n",
       " 'carried',\n",
       " '19,784\\u200b',\n",
       " 'bridge',\n",
       " 'inclusive',\n",
       " 'borrow',\n",
       " 'unearned',\n",
       " '55',\n",
       " 'UK',\n",
       " 'Events',\n",
       " '202',\n",
       " 'affect',\n",
       " '\\u200bDefined',\n",
       " '1,386',\n",
       " 'known',\n",
       " '2.1',\n",
       " 'PPP',\n",
       " 'storage',\n",
       " '1,973\\u200b',\n",
       " '107.6',\n",
       " 'purchased',\n",
       " '0.66\\u200b',\n",
       " '31\\u200b',\n",
       " 'EARNINGS',\n",
       " 'strong',\n",
       " 'date.\\u200bThe',\n",
       " 'Pension',\n",
       " 'measures',\n",
       " 'flows.The',\n",
       " '2,948\\u200b',\n",
       " '28.9',\n",
       " '5,086\\u200b',\n",
       " 'Upon',\n",
       " '1,059\\u200b',\n",
       " 'discloses',\n",
       " 'preferred',\n",
       " '64.6',\n",
       " '4,562\\u200b',\n",
       " '1,509\\u200b',\n",
       " 'original',\n",
       " ...}"
      ]
     },
     "execution_count": 13,
     "metadata": {},
     "output_type": "execute_result"
    }
   ],
   "source": [
    "set(tokens_clean)"
   ]
  },
  {
   "cell_type": "code",
   "execution_count": null,
   "metadata": {},
   "outputs": [],
   "source": []
  }
 ],
 "metadata": {
  "kernelspec": {
   "display_name": "Python 3",
   "language": "python",
   "name": "python3"
  },
  "language_info": {
   "codemirror_mode": {
    "name": "ipython",
    "version": 3
   },
   "file_extension": ".py",
   "mimetype": "text/x-python",
   "name": "python",
   "nbconvert_exporter": "python",
   "pygments_lexer": "ipython3",
   "version": "3.7.4"
  }
 },
 "nbformat": 4,
 "nbformat_minor": 4
}
