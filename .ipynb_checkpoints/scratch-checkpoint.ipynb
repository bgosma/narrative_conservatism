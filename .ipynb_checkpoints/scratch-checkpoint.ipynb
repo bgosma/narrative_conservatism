{
 "cells": [
  {
   "cell_type": "code",
   "execution_count": 84,
   "metadata": {},
   "outputs": [],
   "source": [
    "import os,  requests, sys, re, urllib.request, pandas as pd\n",
    "from bs4 import BeautifulSoup\n",
    "\n",
    "def number_digits(inputString):\n",
    "    return len(re.findall(r'\\s?\\d+\\W?\\d+\\s?', inputString))\n",
    "\n",
    "doc = 'https://www.sec.gov/Archives/edgar/data/51143/000155837019009324/ibm-20190930x10q.htm'\n",
    "doc_resp = requests.get(doc)\n",
    "doc_str = doc_resp.text\n",
    "\n",
    "soup = BeautifulSoup(doc_str)\n",
    "# 2.1): delete nondisplay section\n",
    "nondisplay = soup.find('div', style=\"display:none;\") or soup.find('div', style=\"display:none\")\n",
    "if nondisplay is not None:\n",
    "    _ = nondisplay.extract()\n",
    "# 2.1): delete tables that contains more than 4 numbers\n",
    "table_tag = soup.find_all('table')\n",
    "for tab in table_tag:\n",
    "    if number_digits(tab.get_text()) > 4:\n",
    "        _ = tab.extract()\n",
    "# 2.3)\n",
    "#text_content = soup.get_text()"
   ]
  },
  {
   "cell_type": "code",
   "execution_count": 85,
   "metadata": {},
   "outputs": [],
   "source": [
    "text_content = soup.get_text()"
   ]
  },
  {
   "cell_type": "code",
   "execution_count": 86,
   "metadata": {},
   "outputs": [],
   "source": [
    "text_file = open('C:\\\\Users\\\\fengzhi\\\\Desktop\\\\1.txt', \"w\", encoding = \"utf-8\")\n",
    "n = text_file.write(text_content)"
   ]
  },
  {
   "cell_type": "code",
   "execution_count": 76,
   "metadata": {},
   "outputs": [
    {
     "data": {
      "text/plain": [
       "4"
      ]
     },
     "execution_count": 76,
     "metadata": {},
     "output_type": "execute_result"
    }
   ],
   "source": [
    "import re\n",
    "def number_digits(inputString):\n",
    "    return len(re.findall(r'\\s?\\d+\\W?\\d+\\s?', inputString))\n",
    "\n",
    "number_digits(table[0].get_text())"
   ]
  },
  {
   "cell_type": "code",
   "execution_count": 75,
   "metadata": {},
   "outputs": [
    {
     "data": {
      "text/plain": [
       "'New York13-0871985(State of incorporation)(IRS employer identification number)\\u200b\\u200bOne New Orchard RoadArmonk, New York10504(Address of principal executive offices)(Zip Code)'"
      ]
     },
     "execution_count": 75,
     "metadata": {},
     "output_type": "execute_result"
    }
   ],
   "source": [
    "table[0].get_text()"
   ]
  },
  {
   "cell_type": "code",
   "execution_count": 78,
   "metadata": {},
   "outputs": [
    {
     "data": {
      "text/plain": [
       "['13-0871985', '10504']"
      ]
     },
     "execution_count": 78,
     "metadata": {},
     "output_type": "execute_result"
    }
   ],
   "source": [
    "re.findall(r'\\s?\\d+\\W?\\d+\\s?', table[0].get_text())"
   ]
  },
  {
   "cell_type": "code",
   "execution_count": null,
   "metadata": {},
   "outputs": [],
   "source": []
  }
 ],
 "metadata": {
  "kernelspec": {
   "display_name": "Python 3",
   "language": "python",
   "name": "python3"
  },
  "language_info": {
   "codemirror_mode": {
    "name": "ipython",
    "version": 3
   },
   "file_extension": ".py",
   "mimetype": "text/x-python",
   "name": "python",
   "nbconvert_exporter": "python",
   "pygments_lexer": "ipython3",
   "version": "3.7.4"
  }
 },
 "nbformat": 4,
 "nbformat_minor": 4
}
