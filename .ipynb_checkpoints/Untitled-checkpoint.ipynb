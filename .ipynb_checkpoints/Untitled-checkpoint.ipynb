{
 "cells": [
  {
   "cell_type": "code",
   "execution_count": 13,
   "metadata": {},
   "outputs": [],
   "source": [
    "############### import packages\n",
    "import os, nltk, numpy as np, pandas as pd, time\n",
    "from nltk import word_tokenize\n",
    "from tqdm import tqdm"
   ]
  },
  {
   "cell_type": "code",
   "execution_count": 17,
   "metadata": {},
   "outputs": [
    {
     "data": {
      "text/plain": [
       "3"
      ]
     },
     "execution_count": 17,
     "metadata": {},
     "output_type": "execute_result"
    }
   ],
   "source": [
    "############# Create processed txt file index\n",
    "processed = list()\n",
    "for subdir, dirs, files in os.walk(r'C:\\Users\\fengzhi\\Desktop\\sent'):\n",
    "    for file in files:\n",
    "        processed.append(os.path.join(subdir, file))\n",
    "\n",
    "len(processed)"
   ]
  },
  {
   "cell_type": "code",
   "execution_count": 18,
   "metadata": {},
   "outputs": [
    {
     "data": {
      "text/plain": [
       "['C:\\\\Users\\\\fengzhi\\\\Desktop\\\\sent\\\\1.txt',\n",
       " 'C:\\\\Users\\\\fengzhi\\\\Desktop\\\\sent\\\\2.txt',\n",
       " 'C:\\\\Users\\\\fengzhi\\\\Desktop\\\\sent\\\\3.txt']"
      ]
     },
     "execution_count": 18,
     "metadata": {},
     "output_type": "execute_result"
    }
   ],
   "source": [
    "processed"
   ]
  },
  {
   "cell_type": "code",
   "execution_count": 87,
   "metadata": {},
   "outputs": [
    {
     "name": "stdout",
     "output_type": "stream",
     "text": [
      " ha comunicado este lunes el cese “por pérdida de confianza” del coronel Diego Pérez de los Cobos como máximo responsable de la Guardia Civil en la Comunidad de Madrid\n"
     ]
    }
   ],
   "source": [
    "## divide\n",
    "def contains_number(sent):\n",
    "    token = word_tokenize(sent)\n",
    "    logic_list = list()\n",
    "    for character in token:\n",
    "        logic = any(str.isdigit(c) for c in character)\n",
    "        logic_list.append(logic)\n",
    "        \n",
    "    return any(logic_list)\n",
    "    \n",
    "for index, text in enumerate(processed):\n",
    "    ############# Read processed txt file\n",
    "    with open(text, 'r',  encoding = \"utf-8\") as file:\n",
    "        sent = file.read()\n",
    "                                   \n",
    "        ############ divide\n",
    "        for n in list(range(sent.count(',')+1)):\n",
    "            ############ Word Tokenization\n",
    "            ## Raw tokens: including punctuations, numbers etc.\n",
    "            token = word_tokenize(sent.split(',')[n])\n",
    "            if len(token) >= 20 and len(token) <= 40 and contains_number(sent.split(',')[n]) == False:\n",
    "                screen = sent.split(',')[n]\n",
    "            ############ save\n",
    "                with open(processed[index].split('.')[0] + '_' + str(n) + '.txt', \"w\", encoding = \"utf-8\") as f:\n",
    "                    f.write(screen)"
   ]
  },
  {
   "cell_type": "code",
   "execution_count": 24,
   "metadata": {},
   "outputs": [],
   "source": [
    "cent = 'aunque fuentes del instituto armado señalan que la decisión del relevo fulminante tiene que ver con el reciente envío de un informe de la Guardia Civil a la titular del Juzgado de Instrucción 51 de Madrid'"
   ]
  },
  {
   "cell_type": "code",
   "execution_count": 30,
   "metadata": {},
   "outputs": [
    {
     "ename": "NameError",
     "evalue": "name 'char' is not defined",
     "output_type": "error",
     "traceback": [
      "\u001b[1;31m---------------------------------------------------------------------------\u001b[0m",
      "\u001b[1;31mNameError\u001b[0m                                 Traceback (most recent call last)",
      "\u001b[1;32m<ipython-input-30-fbb27382daa1>\u001b[0m in \u001b[0;36m<module>\u001b[1;34m\u001b[0m\n\u001b[1;32m----> 1\u001b[1;33m \u001b[0mcent\u001b[0m\u001b[1;33m.\u001b[0m\u001b[0misdigit\u001b[0m\u001b[1;33m(\u001b[0m\u001b[0mchar\u001b[0m\u001b[1;33m)\u001b[0m\u001b[1;33m\u001b[0m\u001b[1;33m\u001b[0m\u001b[0m\n\u001b[0m",
      "\u001b[1;31mNameError\u001b[0m: name 'char' is not defined"
     ]
    }
   ],
   "source": [
    "cent.isdigit(char)"
   ]
  },
  {
   "cell_type": "code",
   "execution_count": 27,
   "metadata": {},
   "outputs": [
    {
     "ename": "AttributeError",
     "evalue": "'list' object has no attribute 'isdigit'",
     "output_type": "error",
     "traceback": [
      "\u001b[1;31m---------------------------------------------------------------------------\u001b[0m",
      "\u001b[1;31mAttributeError\u001b[0m                            Traceback (most recent call last)",
      "\u001b[1;32m<ipython-input-27-edc2ad6bbd85>\u001b[0m in \u001b[0;36m<module>\u001b[1;34m\u001b[0m\n\u001b[0;32m      1\u001b[0m \u001b[0mtoken_c\u001b[0m \u001b[1;33m=\u001b[0m \u001b[0mword_tokenize\u001b[0m\u001b[1;33m(\u001b[0m\u001b[0mcent\u001b[0m\u001b[1;33m)\u001b[0m\u001b[1;33m\u001b[0m\u001b[1;33m\u001b[0m\u001b[0m\n\u001b[1;32m----> 2\u001b[1;33m \u001b[0mtoken_c\u001b[0m\u001b[1;33m.\u001b[0m\u001b[0misdigit\u001b[0m\u001b[1;33m(\u001b[0m\u001b[1;33m)\u001b[0m\u001b[1;33m\u001b[0m\u001b[1;33m\u001b[0m\u001b[0m\n\u001b[0m",
      "\u001b[1;31mAttributeError\u001b[0m: 'list' object has no attribute 'isdigit'"
     ]
    }
   ],
   "source": [
    "token_c = word_tokenize(cent)\n",
    "token_c"
   ]
  },
  {
   "cell_type": "code",
   "execution_count": 84,
   "metadata": {},
   "outputs": [
    {
     "data": {
      "text/plain": [
       "True"
      ]
     },
     "execution_count": 84,
     "metadata": {},
     "output_type": "execute_result"
    }
   ],
   "source": [
    "def contains_number(sent):\n",
    "    token = word_tokenize(sent)\n",
    "    logic_list = list()\n",
    "    for character in token:\n",
    "        logic = any(str.isdigit(c) for c in character)\n",
    "        logic_list.append(logic)\n",
    "        \n",
    "    return any(logic_list)\n",
    "    \n",
    "contains_number(token_c)"
   ]
  },
  {
   "cell_type": "code",
   "execution_count": 72,
   "metadata": {},
   "outputs": [],
   "source": [
    "token_a = 'ha comunicado este lunes el cese “por pérdida de confianza” del coronel Diego Pérez de los Cobos como máximo responsable de la Guardia Civil en la Comunidad de Madrid'"
   ]
  },
  {
   "cell_type": "code",
   "execution_count": 85,
   "metadata": {},
   "outputs": [],
   "source": [
    "token_c = 'aunque fuentes del instituto armado señalan que la decisión del relevo fulminante tiene que ver con el reciente envío de un informe de la Guardia Civil a la titular del Juzgado de Instrucción 51 de Madrid'"
   ]
  },
  {
   "cell_type": "code",
   "execution_count": 86,
   "metadata": {},
   "outputs": [
    {
     "data": {
      "text/plain": [
       "True"
      ]
     },
     "execution_count": 86,
     "metadata": {},
     "output_type": "execute_result"
    }
   ],
   "source": [
    "contains_number(token_c)"
   ]
  },
  {
   "cell_type": "code",
   "execution_count": 57,
   "metadata": {},
   "outputs": [
    {
     "data": {
      "text/plain": [
       "True"
      ]
     },
     "execution_count": 57,
     "metadata": {},
     "output_type": "execute_result"
    }
   ],
   "source": [
    "any(str.isdigit(c) for c in \"60.000\")"
   ]
  },
  {
   "cell_type": "code",
   "execution_count": null,
   "metadata": {},
   "outputs": [],
   "source": []
  }
 ],
 "metadata": {
  "kernelspec": {
   "display_name": "Python 3",
   "language": "python",
   "name": "python3"
  },
  "language_info": {
   "codemirror_mode": {
    "name": "ipython",
    "version": 3
   },
   "file_extension": ".py",
   "mimetype": "text/x-python",
   "name": "python",
   "nbconvert_exporter": "python",
   "pygments_lexer": "ipython3",
   "version": "3.7.4"
  }
 },
 "nbformat": 4,
 "nbformat_minor": 4
}
