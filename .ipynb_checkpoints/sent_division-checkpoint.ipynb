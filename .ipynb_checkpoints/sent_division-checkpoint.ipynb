{
 "cells": [
  {
   "cell_type": "code",
   "execution_count": 1,
   "metadata": {},
   "outputs": [],
   "source": [
    "############### import packages\n",
    "import os, nltk, numpy as np, pandas as pd, time, shutil\n",
    "from nltk import word_tokenize\n",
    "from tqdm import tqdm\n",
    "\n",
    "os.chdir(r'C:\\Users\\fengzhi\\Desktop\\sent')\n",
    "newpath = r'C:\\Users\\fengzhi\\Desktop\\sent\\results' \n",
    "if os.path.exists(newpath):\n",
    "    shutil.rmtree(newpath)\n",
    "    os.makedirs(newpath)\n",
    "else:\n",
    "    os.makedirs(newpath)"
   ]
  },
  {
   "cell_type": "code",
   "execution_count": 2,
   "metadata": {},
   "outputs": [
    {
     "data": {
      "text/plain": [
       "3"
      ]
     },
     "execution_count": 2,
     "metadata": {},
     "output_type": "execute_result"
    }
   ],
   "source": [
    "############# Create processed txt file index\n",
    "processed = list()\n",
    "for subdir, dirs, files in os.walk(os.getcwd()):\n",
    "    for file in files:\n",
    "        processed.append(os.path.join(subdir, file))\n",
    "\n",
    "len(processed)"
   ]
  },
  {
   "cell_type": "code",
   "execution_count": 3,
   "metadata": {},
   "outputs": [],
   "source": [
    "# processed"
   ]
  },
  {
   "cell_type": "code",
   "execution_count": 4,
   "metadata": {},
   "outputs": [
    {
     "name": "stdout",
     "output_type": "stream",
     "text": [
      "1\n"
     ]
    }
   ],
   "source": [
    "screen_list = list()\n",
    "\n",
    "## divide\n",
    "def contains_number(sent):\n",
    "    token = word_tokenize(sent)\n",
    "    logic_list = list()\n",
    "    for character in token:\n",
    "        logic = any(str.isdigit(c) for c in character)\n",
    "        logic_list.append(logic)\n",
    "        \n",
    "    return any(logic_list)\n",
    "    \n",
    "for text in processed:\n",
    "    ############# Read processed txt file\n",
    "    with open(text, 'r',  encoding = \"utf-8\") as file:\n",
    "        sent = file.read()\n",
    "                                   \n",
    "        ############ divide\n",
    "        for n in list(range(sent.count(',')+1)):\n",
    "            ############ Word Tokenization\n",
    "            ## Raw tokens: including punctuations, numbers etc.\n",
    "            token = word_tokenize(sent.split(',')[n])\n",
    "            if len(token) >= 20 and len(token) <= 40 and contains_number(sent.split(',')[n]) == False:\n",
    "                screen = sent.split(',')[n]\n",
    "            ############ count number of results\n",
    "                screen_list.append(screen)\n",
    "            ############ save\n",
    "                with open(newpath + '\\\\' + processed[1].split('\\\\')[-1].split('.')[0] + '_' + str(n) + '.txt', \"w\", encoding = \"utf-8\") as f:\n",
    "                    f.write(screen)\n",
    "\n",
    "print(len(screen_list))"
   ]
  },
  {
   "cell_type": "code",
   "execution_count": 5,
   "metadata": {},
   "outputs": [
    {
     "data": {
      "text/plain": [
       "1"
      ]
     },
     "execution_count": 5,
     "metadata": {},
     "output_type": "execute_result"
    }
   ],
   "source": [
    "############# Create processed txt file index\n",
    "final = list()\n",
    "for subdir, dirs, files in os.walk(newpath):\n",
    "    for file in files:\n",
    "        final.append(os.path.join(subdir, file))\n",
    "\n",
    "len(final)"
   ]
  },
  {
   "cell_type": "code",
   "execution_count": 6,
   "metadata": {},
   "outputs": [],
   "source": [
    "# final"
   ]
  },
  {
   "cell_type": "code",
   "execution_count": 7,
   "metadata": {},
   "outputs": [],
   "source": [
    "for index in list(range(len(final))):\n",
    "    try:\n",
    "        os.rename(final[index], newpath + '\\\\' + str(index+1) + '.txt')\n",
    "    except:\n",
    "        pass"
   ]
  },
  {
   "cell_type": "code",
   "execution_count": null,
   "metadata": {},
   "outputs": [],
   "source": []
  }
 ],
 "metadata": {
  "kernelspec": {
   "display_name": "Python 3",
   "language": "python",
   "name": "python3"
  },
  "language_info": {
   "codemirror_mode": {
    "name": "ipython",
    "version": 3
   },
   "file_extension": ".py",
   "mimetype": "text/x-python",
   "name": "python",
   "nbconvert_exporter": "python",
   "pygments_lexer": "ipython3",
   "version": "3.7.4"
  }
 },
 "nbformat": 4,
 "nbformat_minor": 4
}
