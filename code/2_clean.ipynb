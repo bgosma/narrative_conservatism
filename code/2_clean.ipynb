{
 "cells": [
  {
   "cell_type": "code",
   "execution_count": 13,
   "metadata": {},
   "outputs": [
    {
     "data": {
      "text/plain": [
       "'F:\\\\github\\\\narrative_conservatism\\\\code'"
      ]
     },
     "execution_count": 13,
     "metadata": {},
     "output_type": "execute_result"
    }
   ],
   "source": [
    "############### Set working directory to parent directory\n",
    "import os\n",
    "from bs4 import BeautifulSoup\n",
    "os.getcwd()\n",
    "# os.chdir('F:\\\\github\\\\narrative_conservatism\\\\code')"
   ]
  },
  {
   "cell_type": "code",
   "execution_count": 2,
   "metadata": {},
   "outputs": [],
   "source": [
    "############# Create local raw/processed txt file index\n",
    "index_input = list()\n",
    "for subdir, dirs, files in os.walk(\"filings\\raw\"):\n",
    "    for file in files:\n",
    "        index_input.append(os.path.join(subdir, file))\n",
    "        \n",
    "index_output = [w.replace('raw', 'processed') for w in index_input]"
   ]
  },
  {
   "cell_type": "code",
   "execution_count": null,
   "metadata": {},
   "outputs": [],
   "source": [
    "############# 1. Read downloaded raw txt files\n",
    "############# 2. Process txt\n",
    "################ 1) clean tables?\n",
    "################ 2) identify the sections? item 2 (10-Q); item 7 (10-K); 8-K specific files (exhibition)\n",
    "################ 3) delete all HTML tags\n",
    "############# 3. Save to processed txt files\n",
    "for file in index_input:\n",
    "    with open(file) as f:\n",
    "        # 1.\n",
    "        soup = BeautifulSoup(f.read())\n",
    "        # 2.3)\n",
    "        text_content = soup.get_text()\n",
    "        # 3.\n",
    "        text_file = open(index_output[index_input.index(file)], \"w\", encoding = \"utf-8\")\n",
    "        n = text_file.write(text_content)"
   ]
  },
  {
   "cell_type": "code",
   "execution_count": 4,
   "metadata": {},
   "outputs": [
    {
     "name": "stdout",
     "output_type": "stream",
     "text": [
      "filings\\processed\\0000051143-13-000007.txt\n",
      "filings\\processed\\0000051143-14-000004.txt\n",
      "filings\\processed\\0000051143-14-000007.txt\n",
      "filings\\processed\\0000051143-14-000010.txt\n",
      "filings\\processed\\0000051143-15-000003.txt\n",
      "filings\\processed\\0000051143-15-000005.txt\n",
      "filings\\processed\\0000051143-15-000009.txt\n",
      "filings\\processed\\0000051143-16-000013.txt\n",
      "filings\\processed\\0001104659-06-069905.txt\n",
      "filings\\processed\\0001104659-07-030840.txt\n",
      "filings\\processed\\0001104659-07-057458.txt\n",
      "filings\\processed\\0001104659-07-078049.txt\n",
      "filings\\processed\\0001104659-08-027817.txt\n",
      "filings\\processed\\0001104659-08-048278.txt\n",
      "filings\\processed\\0001104659-08-066201.txt\n",
      "filings\\processed\\0001104659-09-026661.txt\n",
      "filings\\processed\\0001104659-09-045198.txt\n",
      "filings\\processed\\0001104659-09-060554.txt\n",
      "filings\\processed\\0001104659-10-022064.txt\n",
      "filings\\processed\\0001104659-10-039808.txt\n",
      "filings\\processed\\0001104659-10-053716.txt\n",
      "filings\\processed\\0001104659-11-022352.txt\n",
      "filings\\processed\\0001104659-11-040759.txt\n",
      "filings\\processed\\0001104659-11-057630.txt\n",
      "filings\\processed\\0001104659-12-027715.txt\n",
      "filings\\processed\\0001104659-12-052637.txt\n",
      "filings\\processed\\0001104659-12-072210.txt\n",
      "filings\\processed\\0001104659-13-035106.txt\n",
      "filings\\processed\\0001104659-13-058041.txt\n",
      "filings\\processed\\0001104659-16-134367.txt\n",
      "filings\\processed\\0001104659-16-151931.txt\n",
      "filings\\processed\\0001104659-17-025881.txt\n",
      "filings\\processed\\0001104659-17-046808.txt\n",
      "filings\\processed\\0001104659-17-064968.txt\n",
      "filings\\processed\\0001104659-18-026178.txt\n",
      "filings\\processed\\0001104659-18-048404.txt\n",
      "filings\\processed\\0001104659-18-064673.txt\n",
      "filings\\processed\\0001104659-19-025328.txt\n",
      "filings\\processed\\0001558370-19-006560.txt\n",
      "filings\\processed\\0001558370-19-009324.txt\n"
     ]
    }
   ],
   "source": [
    "############# Inspect processed files\n",
    "for subdir, dirs, files in os.walk(\"filings\\processed\"):\n",
    "    for file in files:\n",
    "        print(os.path.join(subdir, file))"
   ]
  }
 ],
 "metadata": {
  "kernelspec": {
   "display_name": "Python 3",
   "language": "python",
   "name": "python3"
  },
  "language_info": {
   "codemirror_mode": {
    "name": "ipython",
    "version": 3
   },
   "file_extension": ".py",
   "mimetype": "text/x-python",
   "name": "python",
   "nbconvert_exporter": "python",
   "pygments_lexer": "ipython3",
   "version": "3.7.4"
  }
 },
 "nbformat": 4,
 "nbformat_minor": 4
}
