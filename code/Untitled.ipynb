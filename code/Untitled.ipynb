{
 "cells": [
  {
   "cell_type": "code",
   "execution_count": 1,
   "metadata": {},
   "outputs": [],
   "source": [
    "item_before2004 = ['1','2','3','4','5','6','7','8','9','10','11','12']\n",
    "item_after2004 = ['1.01','1.02','1.03','1.04', \\\n",
    "                  '2.01','2.02','2.03','2.04','2.05','2.06', \\\n",
    "                  '3.01','3.02','3.03', \\\n",
    "                  '4.01','4.02',\n",
    "                  '5.01','5.02','5.03','5.04','5.05','5.06','5.07','5.08', \\\n",
    "                  '6.01','6.02','6.03','6.04','6.05', \\\n",
    "                  '7.01', \\\n",
    "                  '8.01', \\\n",
    "                  '9.01']"
   ]
  },
  {
   "cell_type": "code",
   "execution_count": 4,
   "metadata": {},
   "outputs": [],
   "source": [
    "item_before2004 = ['item_'+item for item in item_before2004]"
   ]
  },
  {
   "cell_type": "code",
   "execution_count": 5,
   "metadata": {},
   "outputs": [
    {
     "data": {
      "text/plain": [
       "['item_1',\n",
       " 'item_2',\n",
       " 'item_3',\n",
       " 'item_4',\n",
       " 'item_5',\n",
       " 'item_6',\n",
       " 'item_7',\n",
       " 'item_8',\n",
       " 'item_9',\n",
       " 'item_10',\n",
       " 'item_11',\n",
       " 'item_12']"
      ]
     },
     "execution_count": 5,
     "metadata": {},
     "output_type": "execute_result"
    }
   ],
   "source": [
    "item_before2004"
   ]
  },
  {
   "cell_type": "code",
   "execution_count": null,
   "metadata": {},
   "outputs": [],
   "source": []
  }
 ],
 "metadata": {
  "kernelspec": {
   "display_name": "Python 3",
   "language": "python",
   "name": "python3"
  },
  "language_info": {
   "codemirror_mode": {
    "name": "ipython",
    "version": 3
   },
   "file_extension": ".py",
   "mimetype": "text/x-python",
   "name": "python",
   "nbconvert_exporter": "python",
   "pygments_lexer": "ipython3",
   "version": "3.7.4"
  }
 },
 "nbformat": 4,
 "nbformat_minor": 4
}
