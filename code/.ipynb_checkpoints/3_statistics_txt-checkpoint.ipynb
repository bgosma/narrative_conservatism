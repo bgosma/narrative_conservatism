{
 "cells": [
  {
   "cell_type": "code",
   "execution_count": 3,
   "metadata": {},
   "outputs": [
    {
     "data": {
      "text/plain": [
       "'F:\\\\github\\\\narrative_conservatism\\\\code'"
      ]
     },
     "execution_count": 3,
     "metadata": {},
     "output_type": "execute_result"
    }
   ],
   "source": [
    "############### Set working directory to parent directory\n",
    "import os\n",
    "os.getcwd()\n",
    "# os.chdir('F:\\\\github\\\\narrative_conservatism\\\\code')"
   ]
  },
  {
   "cell_type": "code",
   "execution_count": 6,
   "metadata": {},
   "outputs": [],
   "source": [
    "############# Create processed txt file index\n",
    "import os\n",
    "# os.chdir('F:\\\\github\\\\narrative_conservatism\\\\code')\n",
    "\n",
    "processed = list()\n",
    "for subdir, dirs, files in os.walk(\"..\\\\filings\\\\processed\"):\n",
    "    for file in files:\n",
    "        processed.append(os.path.join(subdir, file))"
   ]
  },
  {
   "cell_type": "code",
   "execution_count": 15,
   "metadata": {},
   "outputs": [
    {
     "data": {
      "text/plain": [
       "str"
      ]
     },
     "execution_count": 15,
     "metadata": {},
     "output_type": "execute_result"
    }
   ],
   "source": [
    "############# Read processed txt file\n",
    "with open(processed[1], 'r',  encoding = \"utf-8\") as file:\n",
    "    contents = file.read().replace('\\n', '').replace('\\xa0', '')\n",
    "\n",
    "type(contents)\n",
    "\n",
    "#print(repr(contents))"
   ]
  },
  {
   "cell_type": "code",
   "execution_count": 58,
   "metadata": {},
   "outputs": [],
   "source": [
    "############ Tokenization\n",
    "import nltk\n",
    "from nltk import word_tokenize\n",
    "## raw tokens: include punctuations, numbers etc.\n",
    "tokens = word_tokenize(contents)\n",
    "\n",
    "## convert all words into small cases\n",
    "## and keep tokens that purely consist of alphabetic characters only\n",
    "words = [w.lower() for w in tokens if w.isalpha()]\n",
    "vocab = sorted(set(words))\n",
    "\n",
    "vocab"
   ]
  },
  {
   "cell_type": "code",
   "execution_count": 60,
   "metadata": {},
   "outputs": [
    {
     "data": {
      "text/plain": [
       "[('the', 1660),\n",
       " ('of', 988),\n",
       " ('and', 848),\n",
       " ('in', 767),\n",
       " ('to', 729),\n",
       " ('company', 366),\n",
       " ('for', 348),\n",
       " ('a', 298),\n",
       " ('million', 231),\n",
       " ('on', 191),\n",
       " ('percent', 187),\n",
       " ('is', 178),\n",
       " ('s', 173),\n",
       " ('march', 172),\n",
       " ('at', 169),\n",
       " ('as', 167),\n",
       " ('by', 153),\n",
       " ('income', 143),\n",
       " ('quarter', 143),\n",
       " ('cash', 139)]"
      ]
     },
     "execution_count": 60,
     "metadata": {},
     "output_type": "execute_result"
    }
   ],
   "source": [
    "fdist = nltk.FreqDist(words)\n",
    "fdist.most_common(20)"
   ]
  },
  {
   "cell_type": "code",
   "execution_count": 108,
   "metadata": {},
   "outputs": [
    {
     "data": {
      "text/html": [
       "<div>\n",
       "<style scoped>\n",
       "    .dataframe tbody tr th:only-of-type {\n",
       "        vertical-align: middle;\n",
       "    }\n",
       "\n",
       "    .dataframe tbody tr th {\n",
       "        vertical-align: top;\n",
       "    }\n",
       "\n",
       "    .dataframe thead th {\n",
       "        text-align: right;\n",
       "    }\n",
       "</style>\n",
       "<table border=\"1\" class=\"dataframe\">\n",
       "  <thead>\n",
       "    <tr style=\"text-align: right;\">\n",
       "      <th></th>\n",
       "      <th>wl</th>\n",
       "    </tr>\n",
       "  </thead>\n",
       "  <tbody>\n",
       "    <tr>\n",
       "      <td>0.01</td>\n",
       "      <td>1.0</td>\n",
       "    </tr>\n",
       "    <tr>\n",
       "      <td>0.99</td>\n",
       "      <td>18.0</td>\n",
       "    </tr>\n",
       "  </tbody>\n",
       "</table>\n",
       "</div>"
      ],
      "text/plain": [
       "        wl\n",
       "0.01   1.0\n",
       "0.99  18.0"
      ]
     },
     "execution_count": 108,
     "metadata": {},
     "output_type": "execute_result"
    },
    {
     "data": {
      "image/png": "[encoded data removed]",
      "text/plain": [
       "<Figure size 432x288 with 1 Axes>"
      ]
     },
     "metadata": {
      "needs_background": "light"
     },
     "output_type": "display_data"
    }
   ],
   "source": [
    "import pandas as pd\n",
    "wordlenth = pd.DataFrame(data = {'wl': [len(w) for w in words]})\n",
    "wordlenth['wl'].hist()\n",
    "# wordlenth.quantile([.1, .25, .5, .75], axis = 0) \n",
    "wordlenth.quantile([.01, .99], axis = 0)"
   ]
  },
  {
   "cell_type": "code",
   "execution_count": 117,
   "metadata": {},
   "outputs": [
    {
     "data": {
      "text/plain": [
       "['qunited',\n",
       " 'statessecurities',\n",
       " 'and',\n",
       " 'exchange',\n",
       " 'dc',\n",
       " 'qquarterly',\n",
       " 'reportpursuant',\n",
       " 'to',\n",
       " 'section',\n",
       " 'or',\n",
       " 'of',\n",
       " 'the',\n",
       " 'act',\n",
       " 'of',\n",
       " 'the',\n",
       " 'quarterended',\n",
       " 'march',\n",
       " 'commission',\n",
       " 'filenumber',\n",
       " 'machines',\n",
       " 'corporation',\n",
       " 'exact',\n",
       " 'name',\n",
       " 'ofregistrant',\n",
       " 'as',\n",
       " 'specified',\n",
       " 'in',\n",
       " 'its',\n",
       " 'charter',\n",
       " 'new',\n",
       " 'state',\n",
       " 'of',\n",
       " 'incorporation',\n",
       " 'irs',\n",
       " 'employer',\n",
       " 'identification',\n",
       " 'number',\n",
       " 'armonk',\n",
       " 'new',\n",
       " 'address',\n",
       " 'of',\n",
       " 'principal',\n",
       " 'executive',\n",
       " 'offices',\n",
       " 'zip',\n",
       " 'code',\n",
       " 'registrant',\n",
       " 'stelephone',\n",
       " 'number',\n",
       " 'indicate']"
      ]
     },
     "execution_count": 117,
     "metadata": {},
     "output_type": "execute_result"
    }
   ],
   "source": [
    "[w for w in words if len(w)<18 and len(w)>1][:50]"
   ]
  },
  {
   "cell_type": "code",
   "execution_count": 110,
   "metadata": {},
   "outputs": [
    {
     "data": {
      "text/plain": [
       "20"
      ]
     },
     "execution_count": 110,
     "metadata": {},
     "output_type": "execute_result"
    }
   ],
   "source": [
    "len('commissionwashington')"
   ]
  },
  {
   "cell_type": "code",
   "execution_count": null,
   "metadata": {},
   "outputs": [],
   "source": []
  }
 ],
 "metadata": {
  "kernelspec": {
   "display_name": "Python 3",
   "language": "python",
   "name": "python3"
  },
  "language_info": {
   "codemirror_mode": {
    "name": "ipython",
    "version": 3
   },
   "file_extension": ".py",
   "mimetype": "text/x-python",
   "name": "python",
   "nbconvert_exporter": "python",
   "pygments_lexer": "ipython3",
   "version": "3.7.4"
  }
 },
 "nbformat": 4,
 "nbformat_minor": 4
}
