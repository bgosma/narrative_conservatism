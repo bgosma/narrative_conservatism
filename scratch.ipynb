{
 "cells": [
  {
   "cell_type": "code",
   "execution_count": 18,
   "metadata": {},
   "outputs": [],
   "source": [
    "import os,  requests, sys, re, urllib.request, pandas as pd\n",
    "from bs4 import BeautifulSoup\n",
    "doc = 'https://www.sec.gov/Archives/edgar/data/60512/0000060512-94-000005-index.html'\n",
    "doc_resp = requests.get(doc)\n",
    "doc_str = doc_resp.text\n",
    "\n",
    "soup = BeautifulSoup(doc_str, 'html.parser')\n",
    "table_tag = soup.find('table', class_='tableFile', summary='Document Format Files')\n",
    "rows = table_tag.find_all('tr')\n",
    "cells = rows[1].find_all('td')"
   ]
  },
  {
   "cell_type": "code",
   "execution_count": 19,
   "metadata": {},
   "outputs": [],
   "source": [
    "html_url = cells[2].a['href']"
   ]
  },
  {
   "cell_type": "code",
   "execution_count": 20,
   "metadata": {},
   "outputs": [
    {
     "data": {
      "text/plain": [
       "False"
      ]
     },
     "execution_count": 20,
     "metadata": {},
     "output_type": "execute_result"
    }
   ],
   "source": [
    "html_url.endswith(\"htm\")"
   ]
  },
  {
   "cell_type": "code",
   "execution_count": 95,
   "metadata": {},
   "outputs": [],
   "source": [
    "doc = 'https://www.sec.gov/Archives/edgar/data/733269/000073326920000012/0000733269-20-000012-index.htm'\n",
    "doc_resp = requests.get(doc)\n",
    "doc_str = doc_resp.text\n",
    "soup = BeautifulSoup(doc_str, 'html.parser')\n",
    "div_tag = soup.find_all('div', class_='mailer')[1].find_all('span', class_='mailerAddress')[1]\n",
    "ba = div_tag.get_text()\n",
    "alist = re.findall(r'\\d\\d\\d\\d\\d', ba)"
   ]
  },
  {
   "cell_type": "code",
   "execution_count": 99,
   "metadata": {},
   "outputs": [
    {
     "data": {
      "text/plain": [
       "True"
      ]
     },
     "execution_count": 99,
     "metadata": {},
     "output_type": "execute_result"
    }
   ],
   "source": [
    "alist == []"
   ]
  },
  {
   "cell_type": "code",
   "execution_count": 85,
   "metadata": {},
   "outputs": [],
   "source": [
    "a = ['1', '3', '5']\n",
    "b = ['2', '4', '6']\n",
    "d = (a+b)"
   ]
  },
  {
   "cell_type": "code",
   "execution_count": 92,
   "metadata": {},
   "outputs": [
    {
     "name": "stdout",
     "output_type": "stream",
     "text": [
      "Object `re.find` not found.\n"
     ]
    }
   ],
   "source": [
    "re.find?"
   ]
  },
  {
   "cell_type": "code",
   "execution_count": 86,
   "metadata": {},
   "outputs": [
    {
     "data": {
      "text/plain": [
       "['1', '3', '5', '2', '4', '6']"
      ]
     },
     "execution_count": 86,
     "metadata": {},
     "output_type": "execute_result"
    }
   ],
   "source": [
    "d"
   ]
  }
 ],
 "metadata": {
  "kernelspec": {
   "display_name": "Python 3",
   "language": "python",
   "name": "python3"
  },
  "language_info": {
   "codemirror_mode": {
    "name": "ipython",
    "version": 3
   },
   "file_extension": ".py",
   "mimetype": "text/x-python",
   "name": "python",
   "nbconvert_exporter": "python",
   "pygments_lexer": "ipython3",
   "version": "3.7.4"
  }
 },
 "nbformat": 4,
 "nbformat_minor": 4
}
